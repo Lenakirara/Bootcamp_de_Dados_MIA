{
  "nbformat": 4,
  "nbformat_minor": 0,
  "metadata": {
    "colab": {
      "name": "IMDB_5000_Movie_Dataset.ipynb",
      "provenance": [],
      "authorship_tag": "ABX9TyOWqz2TKKSm2JOCbjbdd8Vz",
      "include_colab_link": true
    },
    "kernelspec": {
      "name": "python3",
      "display_name": "Python 3"
    },
    "language_info": {
      "name": "python"
    }
  },
  "cells": [
    {
      "cell_type": "markdown",
      "metadata": {
        "id": "view-in-github",
        "colab_type": "text"
      },
      "source": [
        "<a href=\"https://colab.research.google.com/github/Lenakirara/Bootcamp_de_Dados_MIA/blob/main/IMDB_5000_Movie_Dataset.ipynb\" target=\"_parent\"><img src=\"https://colab.research.google.com/assets/colab-badge.svg\" alt=\"Open In Colab\"/></a>"
      ]
    },
    {
      "cell_type": "markdown",
      "source": [
        "# IMDB 5000 Movie Dataset\n",
        "\n",
        "O objetivo deste projeto prático é realizar uma análise exploratória sobre as notas dos filmes.\n",
        "\n",
        "## Base de dados utilizada\n",
        "\n",
        "- Os dados podem ser baixados pelo Kaggle: [IMDB 5000 Movie Dataset](https://www.kaggle.com/datasets/carolzhangdc/imdb-5000-movie-dataset?resource=download)\n",
        "\n",
        "## Informações do Dataset\n",
        "\n",
        "| Coluna | Definição |\n",
        "|--------|-----------|\n",
        "| color | filme colorido ou preto e branco |\n",
        "| director_name | nome do diretor |\n",
        "| num_critic_for_reviews | num critico por resenhas |\n",
        "| duration | duração do filme |\n",
        "| director_facebook_likes | curtidas do facebook do diretor |\n",
        "| actor_3_facebook_likes | curtidas no facebook ator 3 |\n",
        "| actor_2_name | nome ator 2 |\n",
        "| actor_1_facebook_likes | curtidas no facebook ator 1 |\n",
        "| gross | valor bruto |\n",
        "| genres | gênero do filme |\n",
        "| actor_1_name | nome ator 1 |\n",
        "| movie_title | título do filme |\n",
        "| num_voted_users | numero de votos por usuário |\n",
        "| cast_total_facebook_likes | lançar curtidas totais do facebook |\n",
        "| actor_3_name | nome ator 3 |\n",
        "| facenumber_in_poster | número de rosto em cartaz |\n",
        "| plot_keywords | palavras-chave do enredo |\n",
        "| movie_imdb_link | link do filme imdb |\n",
        "| num_user_for_reviews | quantidade de usuário por comentários |\n",
        "| language | lingua utilizada no filme |\n",
        "| country | país |\n",
        "| content_rating | classificação do conteúdo |\n",
        "| budget | orçamento |\n",
        "| title_year | ano do título |\n",
        "| actor_2_facebook_likes | curtidas no facebook ator 2 |\n",
        "| imdb_score | score no imdb |\n",
        "| aspect_ratio | proporção da tela |\n",
        "| movie_facebook_likes | curtidas do facebook do filme |\n"
      ],
      "metadata": {
        "id": "bZiKE_6cdppr"
      }
    },
    {
      "cell_type": "markdown",
      "source": [
        "## Importando as Bibliotecas"
      ],
      "metadata": {
        "id": "4DuIh76bRed_"
      }
    },
    {
      "cell_type": "code",
      "execution_count": null,
      "metadata": {
        "id": "RA5vARH2dGAK"
      },
      "outputs": [],
      "source": [
        "import pandas as pd\n",
        "import matplotlib.pyplot as plt\n",
        "import seaborn as sns\n",
        "from plotnine import *"
      ]
    },
    {
      "cell_type": "markdown",
      "source": [
        "## Buscando a Dataset"
      ],
      "metadata": {
        "id": "HtJ8jBvLRmv8"
      }
    },
    {
      "cell_type": "code",
      "source": [
        "from google.colab import drive\n",
        "drive.mount('/content/drive')"
      ],
      "metadata": {
        "colab": {
          "base_uri": "https://localhost:8080/"
        },
        "id": "-JqN3q0UrSOl",
        "outputId": "35537c5d-2c50-41aa-f521-4eb9cb676f9d"
      },
      "execution_count": null,
      "outputs": [
        {
          "output_type": "stream",
          "name": "stdout",
          "text": [
            "Mounted at /content/drive\n"
          ]
        }
      ]
    },
    {
      "cell_type": "code",
      "source": [
        "df = pd.read_csv('/content/drive/MyDrive/Colab Notebooks/MIA/aula3/movie_metadata.csv')\n",
        "df.head()"
      ],
      "metadata": {
        "colab": {
          "base_uri": "https://localhost:8080/",
          "height": 334
        },
        "id": "sQ8ubCUGosVG",
        "outputId": "d20da930-e378-4f0b-f600-6b32e9dfecd1"
      },
      "execution_count": null,
      "outputs": [
        {
          "output_type": "execute_result",
          "data": {
            "text/plain": [
              "   color      director_name  num_critic_for_reviews  duration  \\\n",
              "0  Color      James Cameron                   723.0     178.0   \n",
              "1  Color     Gore Verbinski                   302.0     169.0   \n",
              "2  Color         Sam Mendes                   602.0     148.0   \n",
              "3  Color  Christopher Nolan                   813.0     164.0   \n",
              "4    NaN        Doug Walker                     NaN       NaN   \n",
              "\n",
              "   director_facebook_likes  actor_3_facebook_likes      actor_2_name  \\\n",
              "0                      0.0                   855.0  Joel David Moore   \n",
              "1                    563.0                  1000.0     Orlando Bloom   \n",
              "2                      0.0                   161.0      Rory Kinnear   \n",
              "3                  22000.0                 23000.0    Christian Bale   \n",
              "4                    131.0                     NaN        Rob Walker   \n",
              "\n",
              "   actor_1_facebook_likes        gross                           genres  ...  \\\n",
              "0                  1000.0  760505847.0  Action|Adventure|Fantasy|Sci-Fi  ...   \n",
              "1                 40000.0  309404152.0         Action|Adventure|Fantasy  ...   \n",
              "2                 11000.0  200074175.0        Action|Adventure|Thriller  ...   \n",
              "3                 27000.0  448130642.0                  Action|Thriller  ...   \n",
              "4                   131.0          NaN                      Documentary  ...   \n",
              "\n",
              "  num_user_for_reviews language  country  content_rating       budget  \\\n",
              "0               3054.0  English      USA           PG-13  237000000.0   \n",
              "1               1238.0  English      USA           PG-13  300000000.0   \n",
              "2                994.0  English       UK           PG-13  245000000.0   \n",
              "3               2701.0  English      USA           PG-13  250000000.0   \n",
              "4                  NaN      NaN      NaN             NaN          NaN   \n",
              "\n",
              "   title_year actor_2_facebook_likes imdb_score  aspect_ratio  \\\n",
              "0      2009.0                  936.0        7.9          1.78   \n",
              "1      2007.0                 5000.0        7.1          2.35   \n",
              "2      2015.0                  393.0        6.8          2.35   \n",
              "3      2012.0                23000.0        8.5          2.35   \n",
              "4         NaN                   12.0        7.1           NaN   \n",
              "\n",
              "  movie_facebook_likes  \n",
              "0                33000  \n",
              "1                    0  \n",
              "2                85000  \n",
              "3               164000  \n",
              "4                    0  \n",
              "\n",
              "[5 rows x 28 columns]"
            ],
            "text/html": [
              "\n",
              "  <div id=\"df-f8a133b4-9474-4476-8486-aa4c0401fb9a\">\n",
              "    <div class=\"colab-df-container\">\n",
              "      <div>\n",
              "<style scoped>\n",
              "    .dataframe tbody tr th:only-of-type {\n",
              "        vertical-align: middle;\n",
              "    }\n",
              "\n",
              "    .dataframe tbody tr th {\n",
              "        vertical-align: top;\n",
              "    }\n",
              "\n",
              "    .dataframe thead th {\n",
              "        text-align: right;\n",
              "    }\n",
              "</style>\n",
              "<table border=\"1\" class=\"dataframe\">\n",
              "  <thead>\n",
              "    <tr style=\"text-align: right;\">\n",
              "      <th></th>\n",
              "      <th>color</th>\n",
              "      <th>director_name</th>\n",
              "      <th>num_critic_for_reviews</th>\n",
              "      <th>duration</th>\n",
              "      <th>director_facebook_likes</th>\n",
              "      <th>actor_3_facebook_likes</th>\n",
              "      <th>actor_2_name</th>\n",
              "      <th>actor_1_facebook_likes</th>\n",
              "      <th>gross</th>\n",
              "      <th>genres</th>\n",
              "      <th>...</th>\n",
              "      <th>num_user_for_reviews</th>\n",
              "      <th>language</th>\n",
              "      <th>country</th>\n",
              "      <th>content_rating</th>\n",
              "      <th>budget</th>\n",
              "      <th>title_year</th>\n",
              "      <th>actor_2_facebook_likes</th>\n",
              "      <th>imdb_score</th>\n",
              "      <th>aspect_ratio</th>\n",
              "      <th>movie_facebook_likes</th>\n",
              "    </tr>\n",
              "  </thead>\n",
              "  <tbody>\n",
              "    <tr>\n",
              "      <th>0</th>\n",
              "      <td>Color</td>\n",
              "      <td>James Cameron</td>\n",
              "      <td>723.0</td>\n",
              "      <td>178.0</td>\n",
              "      <td>0.0</td>\n",
              "      <td>855.0</td>\n",
              "      <td>Joel David Moore</td>\n",
              "      <td>1000.0</td>\n",
              "      <td>760505847.0</td>\n",
              "      <td>Action|Adventure|Fantasy|Sci-Fi</td>\n",
              "      <td>...</td>\n",
              "      <td>3054.0</td>\n",
              "      <td>English</td>\n",
              "      <td>USA</td>\n",
              "      <td>PG-13</td>\n",
              "      <td>237000000.0</td>\n",
              "      <td>2009.0</td>\n",
              "      <td>936.0</td>\n",
              "      <td>7.9</td>\n",
              "      <td>1.78</td>\n",
              "      <td>33000</td>\n",
              "    </tr>\n",
              "    <tr>\n",
              "      <th>1</th>\n",
              "      <td>Color</td>\n",
              "      <td>Gore Verbinski</td>\n",
              "      <td>302.0</td>\n",
              "      <td>169.0</td>\n",
              "      <td>563.0</td>\n",
              "      <td>1000.0</td>\n",
              "      <td>Orlando Bloom</td>\n",
              "      <td>40000.0</td>\n",
              "      <td>309404152.0</td>\n",
              "      <td>Action|Adventure|Fantasy</td>\n",
              "      <td>...</td>\n",
              "      <td>1238.0</td>\n",
              "      <td>English</td>\n",
              "      <td>USA</td>\n",
              "      <td>PG-13</td>\n",
              "      <td>300000000.0</td>\n",
              "      <td>2007.0</td>\n",
              "      <td>5000.0</td>\n",
              "      <td>7.1</td>\n",
              "      <td>2.35</td>\n",
              "      <td>0</td>\n",
              "    </tr>\n",
              "    <tr>\n",
              "      <th>2</th>\n",
              "      <td>Color</td>\n",
              "      <td>Sam Mendes</td>\n",
              "      <td>602.0</td>\n",
              "      <td>148.0</td>\n",
              "      <td>0.0</td>\n",
              "      <td>161.0</td>\n",
              "      <td>Rory Kinnear</td>\n",
              "      <td>11000.0</td>\n",
              "      <td>200074175.0</td>\n",
              "      <td>Action|Adventure|Thriller</td>\n",
              "      <td>...</td>\n",
              "      <td>994.0</td>\n",
              "      <td>English</td>\n",
              "      <td>UK</td>\n",
              "      <td>PG-13</td>\n",
              "      <td>245000000.0</td>\n",
              "      <td>2015.0</td>\n",
              "      <td>393.0</td>\n",
              "      <td>6.8</td>\n",
              "      <td>2.35</td>\n",
              "      <td>85000</td>\n",
              "    </tr>\n",
              "    <tr>\n",
              "      <th>3</th>\n",
              "      <td>Color</td>\n",
              "      <td>Christopher Nolan</td>\n",
              "      <td>813.0</td>\n",
              "      <td>164.0</td>\n",
              "      <td>22000.0</td>\n",
              "      <td>23000.0</td>\n",
              "      <td>Christian Bale</td>\n",
              "      <td>27000.0</td>\n",
              "      <td>448130642.0</td>\n",
              "      <td>Action|Thriller</td>\n",
              "      <td>...</td>\n",
              "      <td>2701.0</td>\n",
              "      <td>English</td>\n",
              "      <td>USA</td>\n",
              "      <td>PG-13</td>\n",
              "      <td>250000000.0</td>\n",
              "      <td>2012.0</td>\n",
              "      <td>23000.0</td>\n",
              "      <td>8.5</td>\n",
              "      <td>2.35</td>\n",
              "      <td>164000</td>\n",
              "    </tr>\n",
              "    <tr>\n",
              "      <th>4</th>\n",
              "      <td>NaN</td>\n",
              "      <td>Doug Walker</td>\n",
              "      <td>NaN</td>\n",
              "      <td>NaN</td>\n",
              "      <td>131.0</td>\n",
              "      <td>NaN</td>\n",
              "      <td>Rob Walker</td>\n",
              "      <td>131.0</td>\n",
              "      <td>NaN</td>\n",
              "      <td>Documentary</td>\n",
              "      <td>...</td>\n",
              "      <td>NaN</td>\n",
              "      <td>NaN</td>\n",
              "      <td>NaN</td>\n",
              "      <td>NaN</td>\n",
              "      <td>NaN</td>\n",
              "      <td>NaN</td>\n",
              "      <td>12.0</td>\n",
              "      <td>7.1</td>\n",
              "      <td>NaN</td>\n",
              "      <td>0</td>\n",
              "    </tr>\n",
              "  </tbody>\n",
              "</table>\n",
              "<p>5 rows × 28 columns</p>\n",
              "</div>\n",
              "      <button class=\"colab-df-convert\" onclick=\"convertToInteractive('df-f8a133b4-9474-4476-8486-aa4c0401fb9a')\"\n",
              "              title=\"Convert this dataframe to an interactive table.\"\n",
              "              style=\"display:none;\">\n",
              "        \n",
              "  <svg xmlns=\"http://www.w3.org/2000/svg\" height=\"24px\"viewBox=\"0 0 24 24\"\n",
              "       width=\"24px\">\n",
              "    <path d=\"M0 0h24v24H0V0z\" fill=\"none\"/>\n",
              "    <path d=\"M18.56 5.44l.94 2.06.94-2.06 2.06-.94-2.06-.94-.94-2.06-.94 2.06-2.06.94zm-11 1L8.5 8.5l.94-2.06 2.06-.94-2.06-.94L8.5 2.5l-.94 2.06-2.06.94zm10 10l.94 2.06.94-2.06 2.06-.94-2.06-.94-.94-2.06-.94 2.06-2.06.94z\"/><path d=\"M17.41 7.96l-1.37-1.37c-.4-.4-.92-.59-1.43-.59-.52 0-1.04.2-1.43.59L10.3 9.45l-7.72 7.72c-.78.78-.78 2.05 0 2.83L4 21.41c.39.39.9.59 1.41.59.51 0 1.02-.2 1.41-.59l7.78-7.78 2.81-2.81c.8-.78.8-2.07 0-2.86zM5.41 20L4 18.59l7.72-7.72 1.47 1.35L5.41 20z\"/>\n",
              "  </svg>\n",
              "      </button>\n",
              "      \n",
              "  <style>\n",
              "    .colab-df-container {\n",
              "      display:flex;\n",
              "      flex-wrap:wrap;\n",
              "      gap: 12px;\n",
              "    }\n",
              "\n",
              "    .colab-df-convert {\n",
              "      background-color: #E8F0FE;\n",
              "      border: none;\n",
              "      border-radius: 50%;\n",
              "      cursor: pointer;\n",
              "      display: none;\n",
              "      fill: #1967D2;\n",
              "      height: 32px;\n",
              "      padding: 0 0 0 0;\n",
              "      width: 32px;\n",
              "    }\n",
              "\n",
              "    .colab-df-convert:hover {\n",
              "      background-color: #E2EBFA;\n",
              "      box-shadow: 0px 1px 2px rgba(60, 64, 67, 0.3), 0px 1px 3px 1px rgba(60, 64, 67, 0.15);\n",
              "      fill: #174EA6;\n",
              "    }\n",
              "\n",
              "    [theme=dark] .colab-df-convert {\n",
              "      background-color: #3B4455;\n",
              "      fill: #D2E3FC;\n",
              "    }\n",
              "\n",
              "    [theme=dark] .colab-df-convert:hover {\n",
              "      background-color: #434B5C;\n",
              "      box-shadow: 0px 1px 3px 1px rgba(0, 0, 0, 0.15);\n",
              "      filter: drop-shadow(0px 1px 2px rgba(0, 0, 0, 0.3));\n",
              "      fill: #FFFFFF;\n",
              "    }\n",
              "  </style>\n",
              "\n",
              "      <script>\n",
              "        const buttonEl =\n",
              "          document.querySelector('#df-f8a133b4-9474-4476-8486-aa4c0401fb9a button.colab-df-convert');\n",
              "        buttonEl.style.display =\n",
              "          google.colab.kernel.accessAllowed ? 'block' : 'none';\n",
              "\n",
              "        async function convertToInteractive(key) {\n",
              "          const element = document.querySelector('#df-f8a133b4-9474-4476-8486-aa4c0401fb9a');\n",
              "          const dataTable =\n",
              "            await google.colab.kernel.invokeFunction('convertToInteractive',\n",
              "                                                     [key], {});\n",
              "          if (!dataTable) return;\n",
              "\n",
              "          const docLinkHtml = 'Like what you see? Visit the ' +\n",
              "            '<a target=\"_blank\" href=https://colab.research.google.com/notebooks/data_table.ipynb>data table notebook</a>'\n",
              "            + ' to learn more about interactive tables.';\n",
              "          element.innerHTML = '';\n",
              "          dataTable['output_type'] = 'display_data';\n",
              "          await google.colab.output.renderOutput(dataTable, element);\n",
              "          const docLink = document.createElement('div');\n",
              "          docLink.innerHTML = docLinkHtml;\n",
              "          element.appendChild(docLink);\n",
              "        }\n",
              "      </script>\n",
              "    </div>\n",
              "  </div>\n",
              "  "
            ]
          },
          "metadata": {},
          "execution_count": 6
        }
      ]
    },
    {
      "cell_type": "markdown",
      "source": [
        "## Analisando informações do Dataset"
      ],
      "metadata": {
        "id": "nRRxl5I6RxPs"
      }
    },
    {
      "cell_type": "code",
      "source": [
        "# Verificando as colunas\n",
        "df.columns"
      ],
      "metadata": {
        "colab": {
          "base_uri": "https://localhost:8080/"
        },
        "id": "bW_AWdHNo8Yq",
        "outputId": "97db01b3-ce97-49d4-c6bd-5d484d8391ff"
      },
      "execution_count": null,
      "outputs": [
        {
          "output_type": "execute_result",
          "data": {
            "text/plain": [
              "Index(['color', 'director_name', 'num_critic_for_reviews', 'duration',\n",
              "       'director_facebook_likes', 'actor_3_facebook_likes', 'actor_2_name',\n",
              "       'actor_1_facebook_likes', 'gross', 'genres', 'actor_1_name',\n",
              "       'movie_title', 'num_voted_users', 'cast_total_facebook_likes',\n",
              "       'actor_3_name', 'facenumber_in_poster', 'plot_keywords',\n",
              "       'movie_imdb_link', 'num_user_for_reviews', 'language', 'country',\n",
              "       'content_rating', 'budget', 'title_year', 'actor_2_facebook_likes',\n",
              "       'imdb_score', 'aspect_ratio', 'movie_facebook_likes'],\n",
              "      dtype='object')"
            ]
          },
          "metadata": {},
          "execution_count": 7
        }
      ]
    },
    {
      "cell_type": "code",
      "source": [
        "# vendo tamanho do dataset\n",
        "df.shape"
      ],
      "metadata": {
        "colab": {
          "base_uri": "https://localhost:8080/"
        },
        "id": "9lUVFnANpDUx",
        "outputId": "f4052c68-9c04-4de5-966e-343780b219c0"
      },
      "execution_count": null,
      "outputs": [
        {
          "output_type": "execute_result",
          "data": {
            "text/plain": [
              "(5043, 28)"
            ]
          },
          "metadata": {},
          "execution_count": 8
        }
      ]
    },
    {
      "cell_type": "code",
      "source": [
        "# verificando o tipo\n",
        "df.dtypes"
      ],
      "metadata": {
        "colab": {
          "base_uri": "https://localhost:8080/"
        },
        "id": "uMawVwCVpGn4",
        "outputId": "7ce32826-1bb0-4c29-e65e-164d53c5828e"
      },
      "execution_count": null,
      "outputs": [
        {
          "output_type": "execute_result",
          "data": {
            "text/plain": [
              "color                         object\n",
              "director_name                 object\n",
              "num_critic_for_reviews       float64\n",
              "duration                     float64\n",
              "director_facebook_likes      float64\n",
              "actor_3_facebook_likes       float64\n",
              "actor_2_name                  object\n",
              "actor_1_facebook_likes       float64\n",
              "gross                        float64\n",
              "genres                        object\n",
              "actor_1_name                  object\n",
              "movie_title                   object\n",
              "num_voted_users                int64\n",
              "cast_total_facebook_likes      int64\n",
              "actor_3_name                  object\n",
              "facenumber_in_poster         float64\n",
              "plot_keywords                 object\n",
              "movie_imdb_link               object\n",
              "num_user_for_reviews         float64\n",
              "language                      object\n",
              "country                       object\n",
              "content_rating                object\n",
              "budget                       float64\n",
              "title_year                   float64\n",
              "actor_2_facebook_likes       float64\n",
              "imdb_score                   float64\n",
              "aspect_ratio                 float64\n",
              "movie_facebook_likes           int64\n",
              "dtype: object"
            ]
          },
          "metadata": {},
          "execution_count": 9
        }
      ]
    },
    {
      "cell_type": "code",
      "source": [
        "# separando quais colunas são numéricas e quais são categóricas\n",
        "numeric_cols = [col for col in df.columns if df[col].dtypes != 'object']\n",
        "categorical_cols = [col for col in df.columns if df[col].dtypes == 'object']"
      ],
      "metadata": {
        "id": "bUKjXgtOp2Ja"
      },
      "execution_count": null,
      "outputs": []
    },
    {
      "cell_type": "markdown",
      "source": [
        "## Análise Exploratória"
      ],
      "metadata": {
        "id": "itcabZTWq91T"
      }
    },
    {
      "cell_type": "code",
      "source": [
        "df[numeric_cols].describe()"
      ],
      "metadata": {
        "colab": {
          "base_uri": "https://localhost:8080/",
          "height": 364
        },
        "id": "SR-S6fAHq3FS",
        "outputId": "1d84cf9c-8f6b-4bac-9367-49e69677e5bd"
      },
      "execution_count": null,
      "outputs": [
        {
          "output_type": "execute_result",
          "data": {
            "text/plain": [
              "       num_critic_for_reviews     duration  director_facebook_likes  \\\n",
              "count             4993.000000  5028.000000              4939.000000   \n",
              "mean               140.194272   107.201074               686.509212   \n",
              "std                121.601675    25.197441              2813.328607   \n",
              "min                  1.000000     7.000000                 0.000000   \n",
              "25%                 50.000000    93.000000                 7.000000   \n",
              "50%                110.000000   103.000000                49.000000   \n",
              "75%                195.000000   118.000000               194.500000   \n",
              "max                813.000000   511.000000             23000.000000   \n",
              "\n",
              "       actor_3_facebook_likes  actor_1_facebook_likes         gross  \\\n",
              "count             5020.000000             5036.000000  4.159000e+03   \n",
              "mean               645.009761             6560.047061  4.846841e+07   \n",
              "std               1665.041728            15020.759120  6.845299e+07   \n",
              "min                  0.000000                0.000000  1.620000e+02   \n",
              "25%                133.000000              614.000000  5.340988e+06   \n",
              "50%                371.500000              988.000000  2.551750e+07   \n",
              "75%                636.000000            11000.000000  6.230944e+07   \n",
              "max              23000.000000           640000.000000  7.605058e+08   \n",
              "\n",
              "       num_voted_users  cast_total_facebook_likes  facenumber_in_poster  \\\n",
              "count     5.043000e+03                5043.000000           5030.000000   \n",
              "mean      8.366816e+04                9699.063851              1.371173   \n",
              "std       1.384853e+05               18163.799124              2.013576   \n",
              "min       5.000000e+00                   0.000000              0.000000   \n",
              "25%       8.593500e+03                1411.000000              0.000000   \n",
              "50%       3.435900e+04                3090.000000              1.000000   \n",
              "75%       9.630900e+04               13756.500000              2.000000   \n",
              "max       1.689764e+06              656730.000000             43.000000   \n",
              "\n",
              "       num_user_for_reviews        budget   title_year  \\\n",
              "count           5022.000000  4.551000e+03  4935.000000   \n",
              "mean             272.770808  3.975262e+07  2002.470517   \n",
              "std              377.982886  2.061149e+08    12.474599   \n",
              "min                1.000000  2.180000e+02  1916.000000   \n",
              "25%               65.000000  6.000000e+06  1999.000000   \n",
              "50%              156.000000  2.000000e+07  2005.000000   \n",
              "75%              326.000000  4.500000e+07  2011.000000   \n",
              "max             5060.000000  1.221550e+10  2016.000000   \n",
              "\n",
              "       actor_2_facebook_likes   imdb_score  aspect_ratio  movie_facebook_likes  \n",
              "count             5030.000000  5043.000000   4714.000000           5043.000000  \n",
              "mean              1651.754473     6.442138      2.220403           7525.964505  \n",
              "std               4042.438863     1.125116      1.385113          19320.445110  \n",
              "min                  0.000000     1.600000      1.180000              0.000000  \n",
              "25%                281.000000     5.800000      1.850000              0.000000  \n",
              "50%                595.000000     6.600000      2.350000            166.000000  \n",
              "75%                918.000000     7.200000      2.350000           3000.000000  \n",
              "max             137000.000000     9.500000     16.000000         349000.000000  "
            ],
            "text/html": [
              "\n",
              "  <div id=\"df-830e45c5-be36-48cd-9427-92a11acfb982\">\n",
              "    <div class=\"colab-df-container\">\n",
              "      <div>\n",
              "<style scoped>\n",
              "    .dataframe tbody tr th:only-of-type {\n",
              "        vertical-align: middle;\n",
              "    }\n",
              "\n",
              "    .dataframe tbody tr th {\n",
              "        vertical-align: top;\n",
              "    }\n",
              "\n",
              "    .dataframe thead th {\n",
              "        text-align: right;\n",
              "    }\n",
              "</style>\n",
              "<table border=\"1\" class=\"dataframe\">\n",
              "  <thead>\n",
              "    <tr style=\"text-align: right;\">\n",
              "      <th></th>\n",
              "      <th>num_critic_for_reviews</th>\n",
              "      <th>duration</th>\n",
              "      <th>director_facebook_likes</th>\n",
              "      <th>actor_3_facebook_likes</th>\n",
              "      <th>actor_1_facebook_likes</th>\n",
              "      <th>gross</th>\n",
              "      <th>num_voted_users</th>\n",
              "      <th>cast_total_facebook_likes</th>\n",
              "      <th>facenumber_in_poster</th>\n",
              "      <th>num_user_for_reviews</th>\n",
              "      <th>budget</th>\n",
              "      <th>title_year</th>\n",
              "      <th>actor_2_facebook_likes</th>\n",
              "      <th>imdb_score</th>\n",
              "      <th>aspect_ratio</th>\n",
              "      <th>movie_facebook_likes</th>\n",
              "    </tr>\n",
              "  </thead>\n",
              "  <tbody>\n",
              "    <tr>\n",
              "      <th>count</th>\n",
              "      <td>4993.000000</td>\n",
              "      <td>5028.000000</td>\n",
              "      <td>4939.000000</td>\n",
              "      <td>5020.000000</td>\n",
              "      <td>5036.000000</td>\n",
              "      <td>4.159000e+03</td>\n",
              "      <td>5.043000e+03</td>\n",
              "      <td>5043.000000</td>\n",
              "      <td>5030.000000</td>\n",
              "      <td>5022.000000</td>\n",
              "      <td>4.551000e+03</td>\n",
              "      <td>4935.000000</td>\n",
              "      <td>5030.000000</td>\n",
              "      <td>5043.000000</td>\n",
              "      <td>4714.000000</td>\n",
              "      <td>5043.000000</td>\n",
              "    </tr>\n",
              "    <tr>\n",
              "      <th>mean</th>\n",
              "      <td>140.194272</td>\n",
              "      <td>107.201074</td>\n",
              "      <td>686.509212</td>\n",
              "      <td>645.009761</td>\n",
              "      <td>6560.047061</td>\n",
              "      <td>4.846841e+07</td>\n",
              "      <td>8.366816e+04</td>\n",
              "      <td>9699.063851</td>\n",
              "      <td>1.371173</td>\n",
              "      <td>272.770808</td>\n",
              "      <td>3.975262e+07</td>\n",
              "      <td>2002.470517</td>\n",
              "      <td>1651.754473</td>\n",
              "      <td>6.442138</td>\n",
              "      <td>2.220403</td>\n",
              "      <td>7525.964505</td>\n",
              "    </tr>\n",
              "    <tr>\n",
              "      <th>std</th>\n",
              "      <td>121.601675</td>\n",
              "      <td>25.197441</td>\n",
              "      <td>2813.328607</td>\n",
              "      <td>1665.041728</td>\n",
              "      <td>15020.759120</td>\n",
              "      <td>6.845299e+07</td>\n",
              "      <td>1.384853e+05</td>\n",
              "      <td>18163.799124</td>\n",
              "      <td>2.013576</td>\n",
              "      <td>377.982886</td>\n",
              "      <td>2.061149e+08</td>\n",
              "      <td>12.474599</td>\n",
              "      <td>4042.438863</td>\n",
              "      <td>1.125116</td>\n",
              "      <td>1.385113</td>\n",
              "      <td>19320.445110</td>\n",
              "    </tr>\n",
              "    <tr>\n",
              "      <th>min</th>\n",
              "      <td>1.000000</td>\n",
              "      <td>7.000000</td>\n",
              "      <td>0.000000</td>\n",
              "      <td>0.000000</td>\n",
              "      <td>0.000000</td>\n",
              "      <td>1.620000e+02</td>\n",
              "      <td>5.000000e+00</td>\n",
              "      <td>0.000000</td>\n",
              "      <td>0.000000</td>\n",
              "      <td>1.000000</td>\n",
              "      <td>2.180000e+02</td>\n",
              "      <td>1916.000000</td>\n",
              "      <td>0.000000</td>\n",
              "      <td>1.600000</td>\n",
              "      <td>1.180000</td>\n",
              "      <td>0.000000</td>\n",
              "    </tr>\n",
              "    <tr>\n",
              "      <th>25%</th>\n",
              "      <td>50.000000</td>\n",
              "      <td>93.000000</td>\n",
              "      <td>7.000000</td>\n",
              "      <td>133.000000</td>\n",
              "      <td>614.000000</td>\n",
              "      <td>5.340988e+06</td>\n",
              "      <td>8.593500e+03</td>\n",
              "      <td>1411.000000</td>\n",
              "      <td>0.000000</td>\n",
              "      <td>65.000000</td>\n",
              "      <td>6.000000e+06</td>\n",
              "      <td>1999.000000</td>\n",
              "      <td>281.000000</td>\n",
              "      <td>5.800000</td>\n",
              "      <td>1.850000</td>\n",
              "      <td>0.000000</td>\n",
              "    </tr>\n",
              "    <tr>\n",
              "      <th>50%</th>\n",
              "      <td>110.000000</td>\n",
              "      <td>103.000000</td>\n",
              "      <td>49.000000</td>\n",
              "      <td>371.500000</td>\n",
              "      <td>988.000000</td>\n",
              "      <td>2.551750e+07</td>\n",
              "      <td>3.435900e+04</td>\n",
              "      <td>3090.000000</td>\n",
              "      <td>1.000000</td>\n",
              "      <td>156.000000</td>\n",
              "      <td>2.000000e+07</td>\n",
              "      <td>2005.000000</td>\n",
              "      <td>595.000000</td>\n",
              "      <td>6.600000</td>\n",
              "      <td>2.350000</td>\n",
              "      <td>166.000000</td>\n",
              "    </tr>\n",
              "    <tr>\n",
              "      <th>75%</th>\n",
              "      <td>195.000000</td>\n",
              "      <td>118.000000</td>\n",
              "      <td>194.500000</td>\n",
              "      <td>636.000000</td>\n",
              "      <td>11000.000000</td>\n",
              "      <td>6.230944e+07</td>\n",
              "      <td>9.630900e+04</td>\n",
              "      <td>13756.500000</td>\n",
              "      <td>2.000000</td>\n",
              "      <td>326.000000</td>\n",
              "      <td>4.500000e+07</td>\n",
              "      <td>2011.000000</td>\n",
              "      <td>918.000000</td>\n",
              "      <td>7.200000</td>\n",
              "      <td>2.350000</td>\n",
              "      <td>3000.000000</td>\n",
              "    </tr>\n",
              "    <tr>\n",
              "      <th>max</th>\n",
              "      <td>813.000000</td>\n",
              "      <td>511.000000</td>\n",
              "      <td>23000.000000</td>\n",
              "      <td>23000.000000</td>\n",
              "      <td>640000.000000</td>\n",
              "      <td>7.605058e+08</td>\n",
              "      <td>1.689764e+06</td>\n",
              "      <td>656730.000000</td>\n",
              "      <td>43.000000</td>\n",
              "      <td>5060.000000</td>\n",
              "      <td>1.221550e+10</td>\n",
              "      <td>2016.000000</td>\n",
              "      <td>137000.000000</td>\n",
              "      <td>9.500000</td>\n",
              "      <td>16.000000</td>\n",
              "      <td>349000.000000</td>\n",
              "    </tr>\n",
              "  </tbody>\n",
              "</table>\n",
              "</div>\n",
              "      <button class=\"colab-df-convert\" onclick=\"convertToInteractive('df-830e45c5-be36-48cd-9427-92a11acfb982')\"\n",
              "              title=\"Convert this dataframe to an interactive table.\"\n",
              "              style=\"display:none;\">\n",
              "        \n",
              "  <svg xmlns=\"http://www.w3.org/2000/svg\" height=\"24px\"viewBox=\"0 0 24 24\"\n",
              "       width=\"24px\">\n",
              "    <path d=\"M0 0h24v24H0V0z\" fill=\"none\"/>\n",
              "    <path d=\"M18.56 5.44l.94 2.06.94-2.06 2.06-.94-2.06-.94-.94-2.06-.94 2.06-2.06.94zm-11 1L8.5 8.5l.94-2.06 2.06-.94-2.06-.94L8.5 2.5l-.94 2.06-2.06.94zm10 10l.94 2.06.94-2.06 2.06-.94-2.06-.94-.94-2.06-.94 2.06-2.06.94z\"/><path d=\"M17.41 7.96l-1.37-1.37c-.4-.4-.92-.59-1.43-.59-.52 0-1.04.2-1.43.59L10.3 9.45l-7.72 7.72c-.78.78-.78 2.05 0 2.83L4 21.41c.39.39.9.59 1.41.59.51 0 1.02-.2 1.41-.59l7.78-7.78 2.81-2.81c.8-.78.8-2.07 0-2.86zM5.41 20L4 18.59l7.72-7.72 1.47 1.35L5.41 20z\"/>\n",
              "  </svg>\n",
              "      </button>\n",
              "      \n",
              "  <style>\n",
              "    .colab-df-container {\n",
              "      display:flex;\n",
              "      flex-wrap:wrap;\n",
              "      gap: 12px;\n",
              "    }\n",
              "\n",
              "    .colab-df-convert {\n",
              "      background-color: #E8F0FE;\n",
              "      border: none;\n",
              "      border-radius: 50%;\n",
              "      cursor: pointer;\n",
              "      display: none;\n",
              "      fill: #1967D2;\n",
              "      height: 32px;\n",
              "      padding: 0 0 0 0;\n",
              "      width: 32px;\n",
              "    }\n",
              "\n",
              "    .colab-df-convert:hover {\n",
              "      background-color: #E2EBFA;\n",
              "      box-shadow: 0px 1px 2px rgba(60, 64, 67, 0.3), 0px 1px 3px 1px rgba(60, 64, 67, 0.15);\n",
              "      fill: #174EA6;\n",
              "    }\n",
              "\n",
              "    [theme=dark] .colab-df-convert {\n",
              "      background-color: #3B4455;\n",
              "      fill: #D2E3FC;\n",
              "    }\n",
              "\n",
              "    [theme=dark] .colab-df-convert:hover {\n",
              "      background-color: #434B5C;\n",
              "      box-shadow: 0px 1px 3px 1px rgba(0, 0, 0, 0.15);\n",
              "      filter: drop-shadow(0px 1px 2px rgba(0, 0, 0, 0.3));\n",
              "      fill: #FFFFFF;\n",
              "    }\n",
              "  </style>\n",
              "\n",
              "      <script>\n",
              "        const buttonEl =\n",
              "          document.querySelector('#df-830e45c5-be36-48cd-9427-92a11acfb982 button.colab-df-convert');\n",
              "        buttonEl.style.display =\n",
              "          google.colab.kernel.accessAllowed ? 'block' : 'none';\n",
              "\n",
              "        async function convertToInteractive(key) {\n",
              "          const element = document.querySelector('#df-830e45c5-be36-48cd-9427-92a11acfb982');\n",
              "          const dataTable =\n",
              "            await google.colab.kernel.invokeFunction('convertToInteractive',\n",
              "                                                     [key], {});\n",
              "          if (!dataTable) return;\n",
              "\n",
              "          const docLinkHtml = 'Like what you see? Visit the ' +\n",
              "            '<a target=\"_blank\" href=https://colab.research.google.com/notebooks/data_table.ipynb>data table notebook</a>'\n",
              "            + ' to learn more about interactive tables.';\n",
              "          element.innerHTML = '';\n",
              "          dataTable['output_type'] = 'display_data';\n",
              "          await google.colab.output.renderOutput(dataTable, element);\n",
              "          const docLink = document.createElement('div');\n",
              "          docLink.innerHTML = docLinkHtml;\n",
              "          element.appendChild(docLink);\n",
              "        }\n",
              "      </script>\n",
              "    </div>\n",
              "  </div>\n",
              "  "
            ]
          },
          "metadata": {},
          "execution_count": 11
        }
      ]
    },
    {
      "cell_type": "code",
      "source": [
        "df[categorical_cols].describe()"
      ],
      "metadata": {
        "colab": {
          "base_uri": "https://localhost:8080/",
          "height": 256
        },
        "id": "OQPbEqGRrOyG",
        "outputId": "a18c0d9d-b66e-455f-f2fc-69d3d5bcb25a"
      },
      "execution_count": null,
      "outputs": [
        {
          "output_type": "execute_result",
          "data": {
            "text/plain": [
              "        color     director_name    actor_2_name genres    actor_1_name  \\\n",
              "count    5024              4939            5030   5043            5036   \n",
              "unique      2              2398            3032    914            2097   \n",
              "top     Color  Steven Spielberg  Morgan Freeman  Drama  Robert De Niro   \n",
              "freq     4815                26              20    236              49   \n",
              "\n",
              "       movie_title actor_3_name   plot_keywords  \\\n",
              "count         5043         5020            4890   \n",
              "unique        4917         3521            4760   \n",
              "top       Ben-Hur    John Heard  based on novel   \n",
              "freq             3            8               4   \n",
              "\n",
              "                                          movie_imdb_link language country  \\\n",
              "count                                                5043     5031    5038   \n",
              "unique                                               4919       47      65   \n",
              "top     http://www.imdb.com/title/tt0232500/?ref_=fn_t...  English     USA   \n",
              "freq                                                    3     4704    3807   \n",
              "\n",
              "       content_rating  \n",
              "count            4740  \n",
              "unique             18  \n",
              "top                 R  \n",
              "freq             2118  "
            ],
            "text/html": [
              "\n",
              "  <div id=\"df-5750b47a-ad85-4b77-8961-5d136eab2adb\">\n",
              "    <div class=\"colab-df-container\">\n",
              "      <div>\n",
              "<style scoped>\n",
              "    .dataframe tbody tr th:only-of-type {\n",
              "        vertical-align: middle;\n",
              "    }\n",
              "\n",
              "    .dataframe tbody tr th {\n",
              "        vertical-align: top;\n",
              "    }\n",
              "\n",
              "    .dataframe thead th {\n",
              "        text-align: right;\n",
              "    }\n",
              "</style>\n",
              "<table border=\"1\" class=\"dataframe\">\n",
              "  <thead>\n",
              "    <tr style=\"text-align: right;\">\n",
              "      <th></th>\n",
              "      <th>color</th>\n",
              "      <th>director_name</th>\n",
              "      <th>actor_2_name</th>\n",
              "      <th>genres</th>\n",
              "      <th>actor_1_name</th>\n",
              "      <th>movie_title</th>\n",
              "      <th>actor_3_name</th>\n",
              "      <th>plot_keywords</th>\n",
              "      <th>movie_imdb_link</th>\n",
              "      <th>language</th>\n",
              "      <th>country</th>\n",
              "      <th>content_rating</th>\n",
              "    </tr>\n",
              "  </thead>\n",
              "  <tbody>\n",
              "    <tr>\n",
              "      <th>count</th>\n",
              "      <td>5024</td>\n",
              "      <td>4939</td>\n",
              "      <td>5030</td>\n",
              "      <td>5043</td>\n",
              "      <td>5036</td>\n",
              "      <td>5043</td>\n",
              "      <td>5020</td>\n",
              "      <td>4890</td>\n",
              "      <td>5043</td>\n",
              "      <td>5031</td>\n",
              "      <td>5038</td>\n",
              "      <td>4740</td>\n",
              "    </tr>\n",
              "    <tr>\n",
              "      <th>unique</th>\n",
              "      <td>2</td>\n",
              "      <td>2398</td>\n",
              "      <td>3032</td>\n",
              "      <td>914</td>\n",
              "      <td>2097</td>\n",
              "      <td>4917</td>\n",
              "      <td>3521</td>\n",
              "      <td>4760</td>\n",
              "      <td>4919</td>\n",
              "      <td>47</td>\n",
              "      <td>65</td>\n",
              "      <td>18</td>\n",
              "    </tr>\n",
              "    <tr>\n",
              "      <th>top</th>\n",
              "      <td>Color</td>\n",
              "      <td>Steven Spielberg</td>\n",
              "      <td>Morgan Freeman</td>\n",
              "      <td>Drama</td>\n",
              "      <td>Robert De Niro</td>\n",
              "      <td>Ben-Hur</td>\n",
              "      <td>John Heard</td>\n",
              "      <td>based on novel</td>\n",
              "      <td>http://www.imdb.com/title/tt0232500/?ref_=fn_t...</td>\n",
              "      <td>English</td>\n",
              "      <td>USA</td>\n",
              "      <td>R</td>\n",
              "    </tr>\n",
              "    <tr>\n",
              "      <th>freq</th>\n",
              "      <td>4815</td>\n",
              "      <td>26</td>\n",
              "      <td>20</td>\n",
              "      <td>236</td>\n",
              "      <td>49</td>\n",
              "      <td>3</td>\n",
              "      <td>8</td>\n",
              "      <td>4</td>\n",
              "      <td>3</td>\n",
              "      <td>4704</td>\n",
              "      <td>3807</td>\n",
              "      <td>2118</td>\n",
              "    </tr>\n",
              "  </tbody>\n",
              "</table>\n",
              "</div>\n",
              "      <button class=\"colab-df-convert\" onclick=\"convertToInteractive('df-5750b47a-ad85-4b77-8961-5d136eab2adb')\"\n",
              "              title=\"Convert this dataframe to an interactive table.\"\n",
              "              style=\"display:none;\">\n",
              "        \n",
              "  <svg xmlns=\"http://www.w3.org/2000/svg\" height=\"24px\"viewBox=\"0 0 24 24\"\n",
              "       width=\"24px\">\n",
              "    <path d=\"M0 0h24v24H0V0z\" fill=\"none\"/>\n",
              "    <path d=\"M18.56 5.44l.94 2.06.94-2.06 2.06-.94-2.06-.94-.94-2.06-.94 2.06-2.06.94zm-11 1L8.5 8.5l.94-2.06 2.06-.94-2.06-.94L8.5 2.5l-.94 2.06-2.06.94zm10 10l.94 2.06.94-2.06 2.06-.94-2.06-.94-.94-2.06-.94 2.06-2.06.94z\"/><path d=\"M17.41 7.96l-1.37-1.37c-.4-.4-.92-.59-1.43-.59-.52 0-1.04.2-1.43.59L10.3 9.45l-7.72 7.72c-.78.78-.78 2.05 0 2.83L4 21.41c.39.39.9.59 1.41.59.51 0 1.02-.2 1.41-.59l7.78-7.78 2.81-2.81c.8-.78.8-2.07 0-2.86zM5.41 20L4 18.59l7.72-7.72 1.47 1.35L5.41 20z\"/>\n",
              "  </svg>\n",
              "      </button>\n",
              "      \n",
              "  <style>\n",
              "    .colab-df-container {\n",
              "      display:flex;\n",
              "      flex-wrap:wrap;\n",
              "      gap: 12px;\n",
              "    }\n",
              "\n",
              "    .colab-df-convert {\n",
              "      background-color: #E8F0FE;\n",
              "      border: none;\n",
              "      border-radius: 50%;\n",
              "      cursor: pointer;\n",
              "      display: none;\n",
              "      fill: #1967D2;\n",
              "      height: 32px;\n",
              "      padding: 0 0 0 0;\n",
              "      width: 32px;\n",
              "    }\n",
              "\n",
              "    .colab-df-convert:hover {\n",
              "      background-color: #E2EBFA;\n",
              "      box-shadow: 0px 1px 2px rgba(60, 64, 67, 0.3), 0px 1px 3px 1px rgba(60, 64, 67, 0.15);\n",
              "      fill: #174EA6;\n",
              "    }\n",
              "\n",
              "    [theme=dark] .colab-df-convert {\n",
              "      background-color: #3B4455;\n",
              "      fill: #D2E3FC;\n",
              "    }\n",
              "\n",
              "    [theme=dark] .colab-df-convert:hover {\n",
              "      background-color: #434B5C;\n",
              "      box-shadow: 0px 1px 3px 1px rgba(0, 0, 0, 0.15);\n",
              "      filter: drop-shadow(0px 1px 2px rgba(0, 0, 0, 0.3));\n",
              "      fill: #FFFFFF;\n",
              "    }\n",
              "  </style>\n",
              "\n",
              "      <script>\n",
              "        const buttonEl =\n",
              "          document.querySelector('#df-5750b47a-ad85-4b77-8961-5d136eab2adb button.colab-df-convert');\n",
              "        buttonEl.style.display =\n",
              "          google.colab.kernel.accessAllowed ? 'block' : 'none';\n",
              "\n",
              "        async function convertToInteractive(key) {\n",
              "          const element = document.querySelector('#df-5750b47a-ad85-4b77-8961-5d136eab2adb');\n",
              "          const dataTable =\n",
              "            await google.colab.kernel.invokeFunction('convertToInteractive',\n",
              "                                                     [key], {});\n",
              "          if (!dataTable) return;\n",
              "\n",
              "          const docLinkHtml = 'Like what you see? Visit the ' +\n",
              "            '<a target=\"_blank\" href=https://colab.research.google.com/notebooks/data_table.ipynb>data table notebook</a>'\n",
              "            + ' to learn more about interactive tables.';\n",
              "          element.innerHTML = '';\n",
              "          dataTable['output_type'] = 'display_data';\n",
              "          await google.colab.output.renderOutput(dataTable, element);\n",
              "          const docLink = document.createElement('div');\n",
              "          docLink.innerHTML = docLinkHtml;\n",
              "          element.appendChild(docLink);\n",
              "        }\n",
              "      </script>\n",
              "    </div>\n",
              "  </div>\n",
              "  "
            ]
          },
          "metadata": {},
          "execution_count": 12
        }
      ]
    },
    {
      "cell_type": "markdown",
      "source": [
        "Obs.: alguns dados tem valores muito discrepantes em que uso da mediana seria mais usual, como é o caso do tempo de duração de um filme e reviews.\n"
      ],
      "metadata": {
        "id": "_a3VXGMBabmr"
      }
    },
    {
      "cell_type": "code",
      "source": [
        "# removendo coluna\n",
        "df.drop('movie_imdb_link', axis=1, inplace=True)"
      ],
      "metadata": {
        "id": "Qnt5xvzdrTIS"
      },
      "execution_count": null,
      "outputs": []
    },
    {
      "cell_type": "code",
      "source": [
        "# Valores da coluna 'color'\n",
        "df['color'].value_counts()"
      ],
      "metadata": {
        "colab": {
          "base_uri": "https://localhost:8080/"
        },
        "id": "FnLnFbt6sfuo",
        "outputId": "660f99e6-57d7-4fe1-acb9-51f71e602e46"
      },
      "execution_count": null,
      "outputs": [
        {
          "output_type": "execute_result",
          "data": {
            "text/plain": [
              "Color               4815\n",
              " Black and White     209\n",
              "Name: color, dtype: int64"
            ]
          },
          "metadata": {},
          "execution_count": 10
        }
      ]
    },
    {
      "cell_type": "code",
      "source": [
        "# removendo coluna 'color'\n",
        "df.drop('color', axis=1, inplace=True)"
      ],
      "metadata": {
        "id": "ObN24PdGsn-Z"
      },
      "execution_count": null,
      "outputs": []
    },
    {
      "cell_type": "code",
      "source": [
        "# verifica existencia de dados faltantes\n",
        "df.isna().any()"
      ],
      "metadata": {
        "colab": {
          "base_uri": "https://localhost:8080/"
        },
        "id": "VA542PYntH_c",
        "outputId": "e376d077-972e-4619-b0b8-c57a9f71525f"
      },
      "execution_count": null,
      "outputs": [
        {
          "output_type": "execute_result",
          "data": {
            "text/plain": [
              "director_name                 True\n",
              "num_critic_for_reviews        True\n",
              "duration                      True\n",
              "director_facebook_likes       True\n",
              "actor_3_facebook_likes        True\n",
              "actor_2_name                  True\n",
              "actor_1_facebook_likes        True\n",
              "gross                         True\n",
              "genres                       False\n",
              "actor_1_name                  True\n",
              "movie_title                  False\n",
              "num_voted_users              False\n",
              "cast_total_facebook_likes    False\n",
              "actor_3_name                  True\n",
              "facenumber_in_poster          True\n",
              "plot_keywords                 True\n",
              "num_user_for_reviews          True\n",
              "language                      True\n",
              "country                       True\n",
              "content_rating                True\n",
              "budget                        True\n",
              "title_year                    True\n",
              "actor_2_facebook_likes        True\n",
              "imdb_score                   False\n",
              "aspect_ratio                  True\n",
              "movie_facebook_likes         False\n",
              "dtype: bool"
            ]
          },
          "metadata": {},
          "execution_count": 12
        }
      ]
    },
    {
      "cell_type": "code",
      "source": [
        "# verifica quantidade dados faltantes\n",
        "df.isna().sum()"
      ],
      "metadata": {
        "colab": {
          "base_uri": "https://localhost:8080/"
        },
        "id": "eSXw15WotPRz",
        "outputId": "57f7937b-a461-4f43-a2f9-c795f6a76df1"
      },
      "execution_count": null,
      "outputs": [
        {
          "output_type": "execute_result",
          "data": {
            "text/plain": [
              "director_name                104\n",
              "num_critic_for_reviews        50\n",
              "duration                      15\n",
              "director_facebook_likes      104\n",
              "actor_3_facebook_likes        23\n",
              "actor_2_name                  13\n",
              "actor_1_facebook_likes         7\n",
              "gross                        884\n",
              "genres                         0\n",
              "actor_1_name                   7\n",
              "movie_title                    0\n",
              "num_voted_users                0\n",
              "cast_total_facebook_likes      0\n",
              "actor_3_name                  23\n",
              "facenumber_in_poster          13\n",
              "plot_keywords                153\n",
              "num_user_for_reviews          21\n",
              "language                      12\n",
              "country                        5\n",
              "content_rating               303\n",
              "budget                       492\n",
              "title_year                   108\n",
              "actor_2_facebook_likes        13\n",
              "imdb_score                     0\n",
              "aspect_ratio                 329\n",
              "movie_facebook_likes           0\n",
              "dtype: int64"
            ]
          },
          "metadata": {},
          "execution_count": 13
        }
      ]
    },
    {
      "cell_type": "code",
      "source": [
        "# descartar linhas que tenham poucos dados faltantes\n",
        "df.dropna(axis=0, subset=['director_name', 'num_critic_for_reviews',\n",
        "                               'duration','director_facebook_likes','actor_3_facebook_likes',\n",
        "                               'actor_2_name','actor_1_facebook_likes','actor_1_name','actor_3_name',\n",
        "                               'facenumber_in_poster','num_user_for_reviews','language','country',\n",
        "                               'actor_2_facebook_likes','plot_keywords', 'title_year'],inplace=True)"
      ],
      "metadata": {
        "id": "KBmgeEKutgVM"
      },
      "execution_count": null,
      "outputs": []
    },
    {
      "cell_type": "code",
      "source": [
        "# verificando tamanho do dataset\n",
        "df.shape"
      ],
      "metadata": {
        "colab": {
          "base_uri": "https://localhost:8080/"
        },
        "id": "5iRDD4y9tx30",
        "outputId": "0e4290c7-cb6c-4830-fa9c-6b95e319ffd1"
      },
      "execution_count": null,
      "outputs": [
        {
          "output_type": "execute_result",
          "data": {
            "text/plain": [
              "(4737, 26)"
            ]
          },
          "metadata": {},
          "execution_count": 15
        }
      ]
    },
    {
      "cell_type": "code",
      "source": [
        "# verificando quais são os valores na coluna classificação indicativa\n",
        "df['content_rating'].value_counts()"
      ],
      "metadata": {
        "colab": {
          "base_uri": "https://localhost:8080/"
        },
        "id": "c0j4RTH9t7E8",
        "outputId": "23eb6f27-977c-4851-ca6f-9b8cb27cba34"
      },
      "execution_count": null,
      "outputs": [
        {
          "output_type": "execute_result",
          "data": {
            "text/plain": [
              "R            2082\n",
              "PG-13        1436\n",
              "PG            681\n",
              "G             109\n",
              "Not Rated     100\n",
              "Unrated        58\n",
              "Approved       55\n",
              "X              13\n",
              "Passed          9\n",
              "NC-17           7\n",
              "GP              6\n",
              "M               5\n",
              "TV-14           3\n",
              "TV-G            3\n",
              "TV-PG           1\n",
              "Name: content_rating, dtype: int64"
            ]
          },
          "metadata": {},
          "execution_count": 16
        }
      ]
    },
    {
      "cell_type": "code",
      "source": [
        "# substituindo os valores faltantes pelaa info 'Not Rated'\n",
        "df['content_rating'].fillna('Not Rated', inplace=True)"
      ],
      "metadata": {
        "id": "kg5qK0gNwCyz"
      },
      "execution_count": null,
      "outputs": []
    },
    {
      "cell_type": "code",
      "source": [
        "# Verificando quais são os valores na coluna proporção de tela\n",
        "df['aspect_ratio'].value_counts()"
      ],
      "metadata": {
        "colab": {
          "base_uri": "https://localhost:8080/"
        },
        "id": "V2TKwBWXwdbg",
        "outputId": "2f20f7f9-da55-4c93-b999-4a9f0efdff2a"
      },
      "execution_count": null,
      "outputs": [
        {
          "output_type": "execute_result",
          "data": {
            "text/plain": [
              "2.35     2311\n",
              "1.85     1884\n",
              "1.37       97\n",
              "1.78       80\n",
              "1.66       63\n",
              "1.33       34\n",
              "2.20       15\n",
              "2.39       14\n",
              "16.00       8\n",
              "2.00        4\n",
              "2.76        3\n",
              "2.40        3\n",
              "1.75        3\n",
              "1.50        2\n",
              "2.55        2\n",
              "1.77        1\n",
              "1.18        1\n",
              "2.24        1\n",
              "1.44        1\n",
              "1.20        1\n",
              "Name: aspect_ratio, dtype: int64"
            ]
          },
          "metadata": {},
          "execution_count": 18
        }
      ]
    },
    {
      "cell_type": "code",
      "source": [
        "# removendo coluna proporção de tela\n",
        "df.drop('aspect_ratio', axis=1, inplace=True)"
      ],
      "metadata": {
        "id": "Q9UcqskiyPA2"
      },
      "execution_count": null,
      "outputs": []
    },
    {
      "cell_type": "code",
      "source": [
        "# verificando valores na coluna de ganhos bruto do filme\n",
        "df['gross'].value_counts()"
      ],
      "metadata": {
        "colab": {
          "base_uri": "https://localhost:8080/"
        },
        "id": "tGRtC4qyysHS",
        "outputId": "49bc4b32-5f4a-4c28-fbe9-f54738851c18"
      },
      "execution_count": null,
      "outputs": [
        {
          "output_type": "execute_result",
          "data": {
            "text/plain": [
              "177343675.0    3\n",
              "8000000.0      3\n",
              "5773519.0      3\n",
              "34964818.0     3\n",
              "218051260.0    3\n",
              "              ..\n",
              "52277485.0     1\n",
              "55802754.0     1\n",
              "55291815.0     1\n",
              "83299761.0     1\n",
              "85222.0        1\n",
              "Name: gross, Length: 3972, dtype: int64"
            ]
          },
          "metadata": {},
          "execution_count": 20
        }
      ]
    },
    {
      "cell_type": "code",
      "source": [
        "# Substituindo valores faltantes pela mediana\n",
        "df['gross'].fillna(df['gross'].median(), inplace=True)"
      ],
      "metadata": {
        "id": "Q-Uv0mX9zaV6"
      },
      "execution_count": null,
      "outputs": []
    },
    {
      "cell_type": "code",
      "source": [
        "# Verificando os valores da coluna orçamento\n",
        "df['budget'].value_counts()"
      ],
      "metadata": {
        "colab": {
          "base_uri": "https://localhost:8080/"
        },
        "id": "l7dxNyiUzvFo",
        "outputId": "2a1c1005-ec03-4b28-e667-46a2405c24ec"
      },
      "execution_count": null,
      "outputs": [
        {
          "output_type": "execute_result",
          "data": {
            "text/plain": [
              "20000000.0    172\n",
              "30000000.0    141\n",
              "25000000.0    140\n",
              "15000000.0    140\n",
              "40000000.0    130\n",
              "             ... \n",
              "10818775.0      1\n",
              "13800000.0      1\n",
              "12305523.0      1\n",
              "12600000.0      1\n",
              "1100.0          1\n",
              "Name: budget, Length: 424, dtype: int64"
            ]
          },
          "metadata": {},
          "execution_count": 22
        }
      ]
    },
    {
      "cell_type": "code",
      "source": [
        "# Substitui valores faltantes pela mediana\n",
        "df['budget'].fillna(df['budget'].median(), inplace=True)"
      ],
      "metadata": {
        "id": "3S9X_8yV0A5G"
      },
      "execution_count": null,
      "outputs": []
    },
    {
      "cell_type": "code",
      "source": [
        "# Verificar se os valores foram removidos ou subtituidos\n",
        "df.isna().sum()"
      ],
      "metadata": {
        "colab": {
          "base_uri": "https://localhost:8080/"
        },
        "id": "G-7R5F830T0o",
        "outputId": "33cca1ad-5b95-4d09-f076-d3436f44eb60"
      },
      "execution_count": null,
      "outputs": [
        {
          "output_type": "execute_result",
          "data": {
            "text/plain": [
              "director_name                0\n",
              "num_critic_for_reviews       0\n",
              "duration                     0\n",
              "director_facebook_likes      0\n",
              "actor_3_facebook_likes       0\n",
              "actor_2_name                 0\n",
              "actor_1_facebook_likes       0\n",
              "gross                        0\n",
              "genres                       0\n",
              "actor_1_name                 0\n",
              "movie_title                  0\n",
              "num_voted_users              0\n",
              "cast_total_facebook_likes    0\n",
              "actor_3_name                 0\n",
              "facenumber_in_poster         0\n",
              "plot_keywords                0\n",
              "num_user_for_reviews         0\n",
              "language                     0\n",
              "country                      0\n",
              "content_rating               0\n",
              "budget                       0\n",
              "title_year                   0\n",
              "actor_2_facebook_likes       0\n",
              "imdb_score                   0\n",
              "movie_facebook_likes         0\n",
              "dtype: int64"
            ]
          },
          "metadata": {},
          "execution_count": 24
        }
      ]
    },
    {
      "cell_type": "code",
      "source": [
        "# verificado se há valores duplicados\n",
        "df.duplicated().sum()"
      ],
      "metadata": {
        "colab": {
          "base_uri": "https://localhost:8080/"
        },
        "id": "wxWFC1XO0eI7",
        "outputId": "1c5e25aa-10cc-4245-8d1c-7f6abca69039"
      },
      "execution_count": null,
      "outputs": [
        {
          "output_type": "execute_result",
          "data": {
            "text/plain": [
              "42"
            ]
          },
          "metadata": {},
          "execution_count": 25
        }
      ]
    },
    {
      "cell_type": "code",
      "source": [
        "# Removendo esses valores duplicados\n",
        "df.drop_duplicates(inplace=True)"
      ],
      "metadata": {
        "id": "F9_acAAv01PJ"
      },
      "execution_count": null,
      "outputs": []
    },
    {
      "cell_type": "code",
      "source": [
        "df.shape"
      ],
      "metadata": {
        "colab": {
          "base_uri": "https://localhost:8080/"
        },
        "id": "DIy17IK_1Agl",
        "outputId": "871ed0dd-d7bf-49c7-865b-9409a8a44d67"
      },
      "execution_count": null,
      "outputs": [
        {
          "output_type": "execute_result",
          "data": {
            "text/plain": [
              "(4695, 25)"
            ]
          },
          "metadata": {},
          "execution_count": 27
        }
      ]
    },
    {
      "cell_type": "markdown",
      "source": [
        "## Analisando os filmes por língua e país"
      ],
      "metadata": {
        "id": "leRvOWS-sSNm"
      }
    },
    {
      "cell_type": "code",
      "source": [
        "df.language.unique()"
      ],
      "metadata": {
        "colab": {
          "base_uri": "https://localhost:8080/"
        },
        "id": "fJbFPGcmcP_C",
        "outputId": "2b0f8d2a-8b1e-4772-c8b5-f165e72c0684"
      },
      "execution_count": null,
      "outputs": [
        {
          "output_type": "execute_result",
          "data": {
            "text/plain": [
              "array(['English', 'Japanese', 'French', 'Mandarin', 'Aboriginal',\n",
              "       'Spanish', 'Filipino', 'Hindi', 'Russian', 'Maya', 'Kazakh',\n",
              "       'Telugu', 'Cantonese', 'German', 'Aramaic', 'Italian', 'Dutch',\n",
              "       'Dari', 'Hebrew', 'Mongolian', 'Swedish', 'Korean', 'Thai',\n",
              "       'Bosnian', 'None', 'Hungarian', 'Portuguese', 'Icelandic',\n",
              "       'Danish', 'Arabic', 'Norwegian', 'Czech', 'Zulu', 'Polish',\n",
              "       'Dzongkha', 'Vietnamese', 'Indonesian', 'Romanian', 'Persian',\n",
              "       'Greek'], dtype=object)"
            ]
          },
          "metadata": {},
          "execution_count": 28
        }
      ]
    },
    {
      "cell_type": "code",
      "source": [
        "# verificando valores da coluna em qual lingua foi feito o filme\n",
        "df['language'].value_counts()"
      ],
      "metadata": {
        "colab": {
          "base_uri": "https://localhost:8080/"
        },
        "id": "VyhBte7e1CKj",
        "outputId": "0bf61414-6253-4e6c-a21c-5726e0dce258"
      },
      "execution_count": null,
      "outputs": [
        {
          "output_type": "execute_result",
          "data": {
            "text/plain": [
              "English       4405\n",
              "French          69\n",
              "Spanish         35\n",
              "Hindi           25\n",
              "Mandarin        24\n",
              "German          18\n",
              "Japanese        16\n",
              "Russian         11\n",
              "Cantonese       10\n",
              "Italian         10\n",
              "Portuguese       8\n",
              "Korean           8\n",
              "Danish           5\n",
              "Hebrew           4\n",
              "Persian          4\n",
              "Norwegian        4\n",
              "Swedish          4\n",
              "Dutch            4\n",
              "Thai             3\n",
              "Arabic           3\n",
              "Dari             2\n",
              "Aboriginal       2\n",
              "Indonesian       2\n",
              "None             2\n",
              "Zulu             2\n",
              "Czech            1\n",
              "Romanian         1\n",
              "Vietnamese       1\n",
              "Dzongkha         1\n",
              "Polish           1\n",
              "Maya             1\n",
              "Filipino         1\n",
              "Icelandic        1\n",
              "Kazakh           1\n",
              "Hungarian        1\n",
              "Bosnian          1\n",
              "Telugu           1\n",
              "Aramaic          1\n",
              "Mongolian        1\n",
              "Greek            1\n",
              "Name: language, dtype: int64"
            ]
          },
          "metadata": {},
          "execution_count": 29
        }
      ]
    },
    {
      "cell_type": "code",
      "source": [
        "total_language = df['language'].value_counts().to_frame().reset_index()\n",
        "total_language.columns = [\"language\", \"total\"]\n",
        "total_language.head()"
      ],
      "metadata": {
        "colab": {
          "base_uri": "https://localhost:8080/",
          "height": 206
        },
        "id": "ieultMFRccEU",
        "outputId": "4e3800f5-e9a8-4937-ee00-04eadd9bf8e0"
      },
      "execution_count": null,
      "outputs": [
        {
          "output_type": "execute_result",
          "data": {
            "text/plain": [
              "   language  total\n",
              "0   English   4405\n",
              "1    French     69\n",
              "2   Spanish     35\n",
              "3     Hindi     25\n",
              "4  Mandarin     24"
            ],
            "text/html": [
              "\n",
              "  <div id=\"df-c0de98de-0c73-4d44-a3b8-abb43475a310\">\n",
              "    <div class=\"colab-df-container\">\n",
              "      <div>\n",
              "<style scoped>\n",
              "    .dataframe tbody tr th:only-of-type {\n",
              "        vertical-align: middle;\n",
              "    }\n",
              "\n",
              "    .dataframe tbody tr th {\n",
              "        vertical-align: top;\n",
              "    }\n",
              "\n",
              "    .dataframe thead th {\n",
              "        text-align: right;\n",
              "    }\n",
              "</style>\n",
              "<table border=\"1\" class=\"dataframe\">\n",
              "  <thead>\n",
              "    <tr style=\"text-align: right;\">\n",
              "      <th></th>\n",
              "      <th>language</th>\n",
              "      <th>total</th>\n",
              "    </tr>\n",
              "  </thead>\n",
              "  <tbody>\n",
              "    <tr>\n",
              "      <th>0</th>\n",
              "      <td>English</td>\n",
              "      <td>4405</td>\n",
              "    </tr>\n",
              "    <tr>\n",
              "      <th>1</th>\n",
              "      <td>French</td>\n",
              "      <td>69</td>\n",
              "    </tr>\n",
              "    <tr>\n",
              "      <th>2</th>\n",
              "      <td>Spanish</td>\n",
              "      <td>35</td>\n",
              "    </tr>\n",
              "    <tr>\n",
              "      <th>3</th>\n",
              "      <td>Hindi</td>\n",
              "      <td>25</td>\n",
              "    </tr>\n",
              "    <tr>\n",
              "      <th>4</th>\n",
              "      <td>Mandarin</td>\n",
              "      <td>24</td>\n",
              "    </tr>\n",
              "  </tbody>\n",
              "</table>\n",
              "</div>\n",
              "      <button class=\"colab-df-convert\" onclick=\"convertToInteractive('df-c0de98de-0c73-4d44-a3b8-abb43475a310')\"\n",
              "              title=\"Convert this dataframe to an interactive table.\"\n",
              "              style=\"display:none;\">\n",
              "        \n",
              "  <svg xmlns=\"http://www.w3.org/2000/svg\" height=\"24px\"viewBox=\"0 0 24 24\"\n",
              "       width=\"24px\">\n",
              "    <path d=\"M0 0h24v24H0V0z\" fill=\"none\"/>\n",
              "    <path d=\"M18.56 5.44l.94 2.06.94-2.06 2.06-.94-2.06-.94-.94-2.06-.94 2.06-2.06.94zm-11 1L8.5 8.5l.94-2.06 2.06-.94-2.06-.94L8.5 2.5l-.94 2.06-2.06.94zm10 10l.94 2.06.94-2.06 2.06-.94-2.06-.94-.94-2.06-.94 2.06-2.06.94z\"/><path d=\"M17.41 7.96l-1.37-1.37c-.4-.4-.92-.59-1.43-.59-.52 0-1.04.2-1.43.59L10.3 9.45l-7.72 7.72c-.78.78-.78 2.05 0 2.83L4 21.41c.39.39.9.59 1.41.59.51 0 1.02-.2 1.41-.59l7.78-7.78 2.81-2.81c.8-.78.8-2.07 0-2.86zM5.41 20L4 18.59l7.72-7.72 1.47 1.35L5.41 20z\"/>\n",
              "  </svg>\n",
              "      </button>\n",
              "      \n",
              "  <style>\n",
              "    .colab-df-container {\n",
              "      display:flex;\n",
              "      flex-wrap:wrap;\n",
              "      gap: 12px;\n",
              "    }\n",
              "\n",
              "    .colab-df-convert {\n",
              "      background-color: #E8F0FE;\n",
              "      border: none;\n",
              "      border-radius: 50%;\n",
              "      cursor: pointer;\n",
              "      display: none;\n",
              "      fill: #1967D2;\n",
              "      height: 32px;\n",
              "      padding: 0 0 0 0;\n",
              "      width: 32px;\n",
              "    }\n",
              "\n",
              "    .colab-df-convert:hover {\n",
              "      background-color: #E2EBFA;\n",
              "      box-shadow: 0px 1px 2px rgba(60, 64, 67, 0.3), 0px 1px 3px 1px rgba(60, 64, 67, 0.15);\n",
              "      fill: #174EA6;\n",
              "    }\n",
              "\n",
              "    [theme=dark] .colab-df-convert {\n",
              "      background-color: #3B4455;\n",
              "      fill: #D2E3FC;\n",
              "    }\n",
              "\n",
              "    [theme=dark] .colab-df-convert:hover {\n",
              "      background-color: #434B5C;\n",
              "      box-shadow: 0px 1px 3px 1px rgba(0, 0, 0, 0.15);\n",
              "      filter: drop-shadow(0px 1px 2px rgba(0, 0, 0, 0.3));\n",
              "      fill: #FFFFFF;\n",
              "    }\n",
              "  </style>\n",
              "\n",
              "      <script>\n",
              "        const buttonEl =\n",
              "          document.querySelector('#df-c0de98de-0c73-4d44-a3b8-abb43475a310 button.colab-df-convert');\n",
              "        buttonEl.style.display =\n",
              "          google.colab.kernel.accessAllowed ? 'block' : 'none';\n",
              "\n",
              "        async function convertToInteractive(key) {\n",
              "          const element = document.querySelector('#df-c0de98de-0c73-4d44-a3b8-abb43475a310');\n",
              "          const dataTable =\n",
              "            await google.colab.kernel.invokeFunction('convertToInteractive',\n",
              "                                                     [key], {});\n",
              "          if (!dataTable) return;\n",
              "\n",
              "          const docLinkHtml = 'Like what you see? Visit the ' +\n",
              "            '<a target=\"_blank\" href=https://colab.research.google.com/notebooks/data_table.ipynb>data table notebook</a>'\n",
              "            + ' to learn more about interactive tables.';\n",
              "          element.innerHTML = '';\n",
              "          dataTable['output_type'] = 'display_data';\n",
              "          await google.colab.output.renderOutput(dataTable, element);\n",
              "          const docLink = document.createElement('div');\n",
              "          docLink.innerHTML = docLinkHtml;\n",
              "          element.appendChild(docLink);\n",
              "        }\n",
              "      </script>\n",
              "    </div>\n",
              "  </div>\n",
              "  "
            ]
          },
          "metadata": {},
          "execution_count": 30
        }
      ]
    },
    {
      "cell_type": "code",
      "source": [
        "# buscando total de filmes em ingles\n",
        "all_language = df['language'].value_counts()\n",
        "all_language.loc['English']"
      ],
      "metadata": {
        "colab": {
          "base_uri": "https://localhost:8080/"
        },
        "id": "v-FyRIuZezU-",
        "outputId": "92bd5a14-13a8-4d3f-acd5-d5053eb7c585"
      },
      "execution_count": null,
      "outputs": [
        {
          "output_type": "execute_result",
          "data": {
            "text/plain": [
              "4405"
            ]
          },
          "metadata": {},
          "execution_count": 31
        }
      ]
    },
    {
      "cell_type": "code",
      "source": [
        "# Analisando quantidade de filmes e ingles com demais linguas\n",
        "tot_languages = all_language.sum()\n",
        "en_total_language = all_language.loc['English']\n",
        "others_languages = tot_languages - en_total_language\n",
        "print(f'''\n",
        "{en_total_language} filmes em inglês\n",
        "{others_languages} filmes em outras línguas\n",
        "''')"
      ],
      "metadata": {
        "colab": {
          "base_uri": "https://localhost:8080/"
        },
        "id": "fsahJNLUf5t1",
        "outputId": "da5ffc8e-d5e7-41bd-d7c8-c97effffca3c"
      },
      "execution_count": null,
      "outputs": [
        {
          "output_type": "stream",
          "name": "stdout",
          "text": [
            "\n",
            "4405 filmes em inglês\n",
            "290 filmes em outras línguas\n",
            "\n"
          ]
        }
      ]
    },
    {
      "cell_type": "code",
      "source": [
        "# Verificando valores coluna país\n",
        "df['country'].value_counts()"
      ],
      "metadata": {
        "colab": {
          "base_uri": "https://localhost:8080/"
        },
        "id": "PwDkxVa61R0i",
        "outputId": "2cc5d5fd-50ae-408d-f50e-c1e2f1d985c3"
      },
      "execution_count": null,
      "outputs": [
        {
          "output_type": "execute_result",
          "data": {
            "text/plain": [
              "USA               3568\n",
              "UK                 420\n",
              "France             149\n",
              "Canada             107\n",
              "Germany             96\n",
              "Australia           53\n",
              "Spain               32\n",
              "India               27\n",
              "China               24\n",
              "Japan               21\n",
              "Italy               20\n",
              "Hong Kong           16\n",
              "New Zealand         14\n",
              "South Korea         12\n",
              "Russia              11\n",
              "Ireland             11\n",
              "Mexico              11\n",
              "Denmark             11\n",
              "South Africa         8\n",
              "Brazil               8\n",
              "Norway               7\n",
              "Sweden               5\n",
              "Netherlands          5\n",
              "Thailand             4\n",
              "Iran                 4\n",
              "Argentina            4\n",
              "Israel               3\n",
              "West Germany         3\n",
              "Switzerland          3\n",
              "Belgium              3\n",
              "Czech Republic       3\n",
              "Romania              2\n",
              "Taiwan               2\n",
              "Poland               2\n",
              "Iceland              2\n",
              "Hungary              2\n",
              "Greece               2\n",
              "Official site        1\n",
              "Cambodia             1\n",
              "Afghanistan          1\n",
              "Indonesia            1\n",
              "Kyrgyzstan           1\n",
              "Colombia             1\n",
              "New Line             1\n",
              "Bahamas              1\n",
              "Finland              1\n",
              "Libya                1\n",
              "Nigeria              1\n",
              "Turkey               1\n",
              "Soviet Union         1\n",
              "Chile                1\n",
              "Georgia              1\n",
              "Peru                 1\n",
              "Bulgaria             1\n",
              "Slovakia             1\n",
              "Aruba                1\n",
              "Philippines          1\n",
              "Name: country, dtype: int64"
            ]
          },
          "metadata": {},
          "execution_count": 33
        }
      ]
    },
    {
      "cell_type": "code",
      "source": [
        "# Descartando a coluna país\n",
        "df.drop('country', axis=1, inplace=True)"
      ],
      "metadata": {
        "id": "_1UynDTf1ijN"
      },
      "execution_count": null,
      "outputs": []
    },
    {
      "cell_type": "markdown",
      "source": [
        "## Analisando valor bruto e o orçamento dos filmes"
      ],
      "metadata": {
        "id": "A3jfDQaSs1UO"
      }
    },
    {
      "cell_type": "code",
      "source": [
        "# Criando uma nova coluna na tabela\n",
        "df['profit'] = df['gross'].sub(df['budget'], axis=0)"
      ],
      "metadata": {
        "id": "0JKh5AeD13ms"
      },
      "execution_count": null,
      "outputs": []
    },
    {
      "cell_type": "code",
      "source": [
        "df.head()"
      ],
      "metadata": {
        "colab": {
          "base_uri": "https://localhost:8080/",
          "height": 369
        },
        "id": "wribk8NB2Kxi",
        "outputId": "aa273b45-b173-4434-dc29-f0bd9d8c4e85"
      },
      "execution_count": null,
      "outputs": [
        {
          "output_type": "execute_result",
          "data": {
            "text/plain": [
              "       director_name  num_critic_for_reviews  duration  \\\n",
              "0      James Cameron                   723.0     178.0   \n",
              "1     Gore Verbinski                   302.0     169.0   \n",
              "2         Sam Mendes                   602.0     148.0   \n",
              "3  Christopher Nolan                   813.0     164.0   \n",
              "5     Andrew Stanton                   462.0     132.0   \n",
              "\n",
              "   director_facebook_likes  actor_3_facebook_likes      actor_2_name  \\\n",
              "0                      0.0                   855.0  Joel David Moore   \n",
              "1                    563.0                  1000.0     Orlando Bloom   \n",
              "2                      0.0                   161.0      Rory Kinnear   \n",
              "3                  22000.0                 23000.0    Christian Bale   \n",
              "5                    475.0                   530.0   Samantha Morton   \n",
              "\n",
              "   actor_1_facebook_likes        gross                           genres  \\\n",
              "0                  1000.0  760505847.0  Action|Adventure|Fantasy|Sci-Fi   \n",
              "1                 40000.0  309404152.0         Action|Adventure|Fantasy   \n",
              "2                 11000.0  200074175.0        Action|Adventure|Thriller   \n",
              "3                 27000.0  448130642.0                  Action|Thriller   \n",
              "5                   640.0   73058679.0          Action|Adventure|Sci-Fi   \n",
              "\n",
              "      actor_1_name  ...                                      plot_keywords  \\\n",
              "0      CCH Pounder  ...             avatar|future|marine|native|paraplegic   \n",
              "1      Johnny Depp  ...  goddess|marriage ceremony|marriage proposal|pi...   \n",
              "2  Christoph Waltz  ...                bomb|espionage|sequel|spy|terrorist   \n",
              "3        Tom Hardy  ...  deception|imprisonment|lawlessness|police offi...   \n",
              "5     Daryl Sabara  ...  alien|american civil war|male nipple|mars|prin...   \n",
              "\n",
              "   num_user_for_reviews  language content_rating       budget title_year  \\\n",
              "0                3054.0   English          PG-13  237000000.0     2009.0   \n",
              "1                1238.0   English          PG-13  300000000.0     2007.0   \n",
              "2                 994.0   English          PG-13  245000000.0     2015.0   \n",
              "3                2701.0   English          PG-13  250000000.0     2012.0   \n",
              "5                 738.0   English          PG-13  263700000.0     2012.0   \n",
              "\n",
              "   actor_2_facebook_likes imdb_score movie_facebook_likes       profit  \n",
              "0                   936.0        7.9                33000  523505847.0  \n",
              "1                  5000.0        7.1                    0    9404152.0  \n",
              "2                   393.0        6.8                85000  -44925825.0  \n",
              "3                 23000.0        8.5               164000  198130642.0  \n",
              "5                   632.0        6.6                24000 -190641321.0  \n",
              "\n",
              "[5 rows x 25 columns]"
            ],
            "text/html": [
              "\n",
              "  <div id=\"df-4f349984-6f6a-425c-b8e2-9f5e10d0d9c8\">\n",
              "    <div class=\"colab-df-container\">\n",
              "      <div>\n",
              "<style scoped>\n",
              "    .dataframe tbody tr th:only-of-type {\n",
              "        vertical-align: middle;\n",
              "    }\n",
              "\n",
              "    .dataframe tbody tr th {\n",
              "        vertical-align: top;\n",
              "    }\n",
              "\n",
              "    .dataframe thead th {\n",
              "        text-align: right;\n",
              "    }\n",
              "</style>\n",
              "<table border=\"1\" class=\"dataframe\">\n",
              "  <thead>\n",
              "    <tr style=\"text-align: right;\">\n",
              "      <th></th>\n",
              "      <th>director_name</th>\n",
              "      <th>num_critic_for_reviews</th>\n",
              "      <th>duration</th>\n",
              "      <th>director_facebook_likes</th>\n",
              "      <th>actor_3_facebook_likes</th>\n",
              "      <th>actor_2_name</th>\n",
              "      <th>actor_1_facebook_likes</th>\n",
              "      <th>gross</th>\n",
              "      <th>genres</th>\n",
              "      <th>actor_1_name</th>\n",
              "      <th>...</th>\n",
              "      <th>plot_keywords</th>\n",
              "      <th>num_user_for_reviews</th>\n",
              "      <th>language</th>\n",
              "      <th>content_rating</th>\n",
              "      <th>budget</th>\n",
              "      <th>title_year</th>\n",
              "      <th>actor_2_facebook_likes</th>\n",
              "      <th>imdb_score</th>\n",
              "      <th>movie_facebook_likes</th>\n",
              "      <th>profit</th>\n",
              "    </tr>\n",
              "  </thead>\n",
              "  <tbody>\n",
              "    <tr>\n",
              "      <th>0</th>\n",
              "      <td>James Cameron</td>\n",
              "      <td>723.0</td>\n",
              "      <td>178.0</td>\n",
              "      <td>0.0</td>\n",
              "      <td>855.0</td>\n",
              "      <td>Joel David Moore</td>\n",
              "      <td>1000.0</td>\n",
              "      <td>760505847.0</td>\n",
              "      <td>Action|Adventure|Fantasy|Sci-Fi</td>\n",
              "      <td>CCH Pounder</td>\n",
              "      <td>...</td>\n",
              "      <td>avatar|future|marine|native|paraplegic</td>\n",
              "      <td>3054.0</td>\n",
              "      <td>English</td>\n",
              "      <td>PG-13</td>\n",
              "      <td>237000000.0</td>\n",
              "      <td>2009.0</td>\n",
              "      <td>936.0</td>\n",
              "      <td>7.9</td>\n",
              "      <td>33000</td>\n",
              "      <td>523505847.0</td>\n",
              "    </tr>\n",
              "    <tr>\n",
              "      <th>1</th>\n",
              "      <td>Gore Verbinski</td>\n",
              "      <td>302.0</td>\n",
              "      <td>169.0</td>\n",
              "      <td>563.0</td>\n",
              "      <td>1000.0</td>\n",
              "      <td>Orlando Bloom</td>\n",
              "      <td>40000.0</td>\n",
              "      <td>309404152.0</td>\n",
              "      <td>Action|Adventure|Fantasy</td>\n",
              "      <td>Johnny Depp</td>\n",
              "      <td>...</td>\n",
              "      <td>goddess|marriage ceremony|marriage proposal|pi...</td>\n",
              "      <td>1238.0</td>\n",
              "      <td>English</td>\n",
              "      <td>PG-13</td>\n",
              "      <td>300000000.0</td>\n",
              "      <td>2007.0</td>\n",
              "      <td>5000.0</td>\n",
              "      <td>7.1</td>\n",
              "      <td>0</td>\n",
              "      <td>9404152.0</td>\n",
              "    </tr>\n",
              "    <tr>\n",
              "      <th>2</th>\n",
              "      <td>Sam Mendes</td>\n",
              "      <td>602.0</td>\n",
              "      <td>148.0</td>\n",
              "      <td>0.0</td>\n",
              "      <td>161.0</td>\n",
              "      <td>Rory Kinnear</td>\n",
              "      <td>11000.0</td>\n",
              "      <td>200074175.0</td>\n",
              "      <td>Action|Adventure|Thriller</td>\n",
              "      <td>Christoph Waltz</td>\n",
              "      <td>...</td>\n",
              "      <td>bomb|espionage|sequel|spy|terrorist</td>\n",
              "      <td>994.0</td>\n",
              "      <td>English</td>\n",
              "      <td>PG-13</td>\n",
              "      <td>245000000.0</td>\n",
              "      <td>2015.0</td>\n",
              "      <td>393.0</td>\n",
              "      <td>6.8</td>\n",
              "      <td>85000</td>\n",
              "      <td>-44925825.0</td>\n",
              "    </tr>\n",
              "    <tr>\n",
              "      <th>3</th>\n",
              "      <td>Christopher Nolan</td>\n",
              "      <td>813.0</td>\n",
              "      <td>164.0</td>\n",
              "      <td>22000.0</td>\n",
              "      <td>23000.0</td>\n",
              "      <td>Christian Bale</td>\n",
              "      <td>27000.0</td>\n",
              "      <td>448130642.0</td>\n",
              "      <td>Action|Thriller</td>\n",
              "      <td>Tom Hardy</td>\n",
              "      <td>...</td>\n",
              "      <td>deception|imprisonment|lawlessness|police offi...</td>\n",
              "      <td>2701.0</td>\n",
              "      <td>English</td>\n",
              "      <td>PG-13</td>\n",
              "      <td>250000000.0</td>\n",
              "      <td>2012.0</td>\n",
              "      <td>23000.0</td>\n",
              "      <td>8.5</td>\n",
              "      <td>164000</td>\n",
              "      <td>198130642.0</td>\n",
              "    </tr>\n",
              "    <tr>\n",
              "      <th>5</th>\n",
              "      <td>Andrew Stanton</td>\n",
              "      <td>462.0</td>\n",
              "      <td>132.0</td>\n",
              "      <td>475.0</td>\n",
              "      <td>530.0</td>\n",
              "      <td>Samantha Morton</td>\n",
              "      <td>640.0</td>\n",
              "      <td>73058679.0</td>\n",
              "      <td>Action|Adventure|Sci-Fi</td>\n",
              "      <td>Daryl Sabara</td>\n",
              "      <td>...</td>\n",
              "      <td>alien|american civil war|male nipple|mars|prin...</td>\n",
              "      <td>738.0</td>\n",
              "      <td>English</td>\n",
              "      <td>PG-13</td>\n",
              "      <td>263700000.0</td>\n",
              "      <td>2012.0</td>\n",
              "      <td>632.0</td>\n",
              "      <td>6.6</td>\n",
              "      <td>24000</td>\n",
              "      <td>-190641321.0</td>\n",
              "    </tr>\n",
              "  </tbody>\n",
              "</table>\n",
              "<p>5 rows × 25 columns</p>\n",
              "</div>\n",
              "      <button class=\"colab-df-convert\" onclick=\"convertToInteractive('df-4f349984-6f6a-425c-b8e2-9f5e10d0d9c8')\"\n",
              "              title=\"Convert this dataframe to an interactive table.\"\n",
              "              style=\"display:none;\">\n",
              "        \n",
              "  <svg xmlns=\"http://www.w3.org/2000/svg\" height=\"24px\"viewBox=\"0 0 24 24\"\n",
              "       width=\"24px\">\n",
              "    <path d=\"M0 0h24v24H0V0z\" fill=\"none\"/>\n",
              "    <path d=\"M18.56 5.44l.94 2.06.94-2.06 2.06-.94-2.06-.94-.94-2.06-.94 2.06-2.06.94zm-11 1L8.5 8.5l.94-2.06 2.06-.94-2.06-.94L8.5 2.5l-.94 2.06-2.06.94zm10 10l.94 2.06.94-2.06 2.06-.94-2.06-.94-.94-2.06-.94 2.06-2.06.94z\"/><path d=\"M17.41 7.96l-1.37-1.37c-.4-.4-.92-.59-1.43-.59-.52 0-1.04.2-1.43.59L10.3 9.45l-7.72 7.72c-.78.78-.78 2.05 0 2.83L4 21.41c.39.39.9.59 1.41.59.51 0 1.02-.2 1.41-.59l7.78-7.78 2.81-2.81c.8-.78.8-2.07 0-2.86zM5.41 20L4 18.59l7.72-7.72 1.47 1.35L5.41 20z\"/>\n",
              "  </svg>\n",
              "      </button>\n",
              "      \n",
              "  <style>\n",
              "    .colab-df-container {\n",
              "      display:flex;\n",
              "      flex-wrap:wrap;\n",
              "      gap: 12px;\n",
              "    }\n",
              "\n",
              "    .colab-df-convert {\n",
              "      background-color: #E8F0FE;\n",
              "      border: none;\n",
              "      border-radius: 50%;\n",
              "      cursor: pointer;\n",
              "      display: none;\n",
              "      fill: #1967D2;\n",
              "      height: 32px;\n",
              "      padding: 0 0 0 0;\n",
              "      width: 32px;\n",
              "    }\n",
              "\n",
              "    .colab-df-convert:hover {\n",
              "      background-color: #E2EBFA;\n",
              "      box-shadow: 0px 1px 2px rgba(60, 64, 67, 0.3), 0px 1px 3px 1px rgba(60, 64, 67, 0.15);\n",
              "      fill: #174EA6;\n",
              "    }\n",
              "\n",
              "    [theme=dark] .colab-df-convert {\n",
              "      background-color: #3B4455;\n",
              "      fill: #D2E3FC;\n",
              "    }\n",
              "\n",
              "    [theme=dark] .colab-df-convert:hover {\n",
              "      background-color: #434B5C;\n",
              "      box-shadow: 0px 1px 3px 1px rgba(0, 0, 0, 0.15);\n",
              "      filter: drop-shadow(0px 1px 2px rgba(0, 0, 0, 0.3));\n",
              "      fill: #FFFFFF;\n",
              "    }\n",
              "  </style>\n",
              "\n",
              "      <script>\n",
              "        const buttonEl =\n",
              "          document.querySelector('#df-4f349984-6f6a-425c-b8e2-9f5e10d0d9c8 button.colab-df-convert');\n",
              "        buttonEl.style.display =\n",
              "          google.colab.kernel.accessAllowed ? 'block' : 'none';\n",
              "\n",
              "        async function convertToInteractive(key) {\n",
              "          const element = document.querySelector('#df-4f349984-6f6a-425c-b8e2-9f5e10d0d9c8');\n",
              "          const dataTable =\n",
              "            await google.colab.kernel.invokeFunction('convertToInteractive',\n",
              "                                                     [key], {});\n",
              "          if (!dataTable) return;\n",
              "\n",
              "          const docLinkHtml = 'Like what you see? Visit the ' +\n",
              "            '<a target=\"_blank\" href=https://colab.research.google.com/notebooks/data_table.ipynb>data table notebook</a>'\n",
              "            + ' to learn more about interactive tables.';\n",
              "          element.innerHTML = '';\n",
              "          dataTable['output_type'] = 'display_data';\n",
              "          await google.colab.output.renderOutput(dataTable, element);\n",
              "          const docLink = document.createElement('div');\n",
              "          docLink.innerHTML = docLinkHtml;\n",
              "          element.appendChild(docLink);\n",
              "        }\n",
              "      </script>\n",
              "    </div>\n",
              "  </div>\n",
              "  "
            ]
          },
          "metadata": {},
          "execution_count": 36
        }
      ]
    },
    {
      "cell_type": "code",
      "source": [
        "df.to_csv('dados_imdb_analise1.csv', index=False)"
      ],
      "metadata": {
        "id": "JOuPFWij2MmD"
      },
      "execution_count": null,
      "outputs": []
    },
    {
      "cell_type": "markdown",
      "source": [
        "## Visualização de dados"
      ],
      "metadata": {
        "id": "p53ad2gZ2nlE"
      }
    },
    {
      "cell_type": "code",
      "source": [
        "plt.figure(figsize=(18,4))\n",
        "ax = sns.barplot(x='language',\n",
        "            y='total',\n",
        "            data=total_language)\n",
        "ax.set_xticklabels(ax.get_xticklabels(),rotation = 45); "
      ],
      "metadata": {
        "colab": {
          "base_uri": "https://localhost:8080/",
          "height": 318
        },
        "id": "vvP2gkn0duEM",
        "outputId": "0c9e9de6-3a20-4054-98f0-450be0c92c7b"
      },
      "execution_count": null,
      "outputs": [
        {
          "output_type": "display_data",
          "data": {
            "text/plain": [
              "<Figure size 1296x288 with 1 Axes>"
            ],
            "image/png": "[encoded data removed]"
          },
          "metadata": {
            "needs_background": "light"
          }
        }
      ]
    },
    {
      "cell_type": "code",
      "source": [
        "data_language = {\n",
        "    'lingua': ['Inglês', 'outros'],\n",
        "    'total': [en_total_language, others_languages]\n",
        "}\n",
        "data_language = pd.DataFrame(data_language)\n",
        "sns.barplot(x='lingua',\n",
        "            y='total',\n",
        "            data=data_language);"
      ],
      "metadata": {
        "colab": {
          "base_uri": "https://localhost:8080/",
          "height": 280
        },
        "id": "VkSp6ExqhPwH",
        "outputId": "08b35d10-2c2e-4ce1-8601-2f0071d73aca"
      },
      "execution_count": null,
      "outputs": [
        {
          "output_type": "display_data",
          "data": {
            "text/plain": [
              "<Figure size 432x288 with 1 Axes>"
            ],
            "image/png": "[encoded data removed]"
          },
          "metadata": {
            "needs_background": "light"
          }
        }
      ]
    },
    {
      "cell_type": "code",
      "source": [
        "# Correlacionando lucro e nota do filme\n",
        "ggplot(aes(x='imdb_score', y='profit'), data=df) +\\\n",
        "    geom_line() +\\\n",
        "    stat_smooth(colour='blue', span=1)"
      ],
      "metadata": {
        "colab": {
          "base_uri": "https://localhost:8080/",
          "height": 465
        },
        "id": "VHhm7eam2ebw",
        "outputId": "a41887e8-0d82-4e53-bde0-d60e561704eb"
      },
      "execution_count": null,
      "outputs": [
        {
          "output_type": "display_data",
          "data": {
            "text/plain": [
              "<Figure size 640x480 with 1 Axes>"
            ],
            "image/png": "[encoded data removed]"
          },
          "metadata": {}
        },
        {
          "output_type": "execute_result",
          "data": {
            "text/plain": [
              "<ggplot: (8767303620261)>"
            ]
          },
          "metadata": {},
          "execution_count": 40
        }
      ]
    },
    {
      "cell_type": "markdown",
      "source": [
        "O lucro não tem relação com a nota do filme"
      ],
      "metadata": {
        "id": "gYoSAvWAAdVq"
      }
    },
    {
      "cell_type": "code",
      "source": [
        "# Correlação de likes no facebook do filme e a nota\n",
        "(ggplot(df)+\\\n",
        "    aes(x='imdb_score', y='movie_facebook_likes')+\\\n",
        "    geom_line()+\\\n",
        "    labs(title='Nota no IMDB X likes no facebook', x='Nota no IMDB', y='Likes no facebook'))"
      ],
      "metadata": {
        "colab": {
          "base_uri": "https://localhost:8080/",
          "height": 490
        },
        "id": "IRGZ8D-m3LrN",
        "outputId": "24d8b412-fc68-405c-e21d-3a2cd164b6ea"
      },
      "execution_count": null,
      "outputs": [
        {
          "output_type": "display_data",
          "data": {
            "text/plain": [
              "<Figure size 640x480 with 1 Axes>"
            ],
            "image/png": "[encoded data removed]"
          },
          "metadata": {}
        },
        {
          "output_type": "execute_result",
          "data": {
            "text/plain": [
              "<ggplot: (8767303628597)>"
            ]
          },
          "metadata": {},
          "execution_count": 41
        }
      ]
    },
    {
      "cell_type": "code",
      "source": [
        "# Verificando filmes com melhor nota e relação com atores principais\n",
        "plt.figure(figsize=(10,8))\n",
        "df = df.sort_values(by='imdb_score', ascending=False)\n",
        "df2 = df.head(20)\n",
        "ax = sns.pointplot(df2['actor_1_name'], df2['imdb_score'], hue=df2['movie_title'])\n",
        "ax.set_xticklabels(ax.get_xticklabels(), rotation=40, ha='right')\n",
        "plt.tight_layout()\n",
        "plt.show()\n"
      ],
      "metadata": {
        "colab": {
          "base_uri": "https://localhost:8080/",
          "height": 622
        },
        "id": "uF71TDfZ3_HS",
        "outputId": "f129ad13-7f82-4029-9bf0-81f4e6268ae9"
      },
      "execution_count": null,
      "outputs": [
        {
          "output_type": "stream",
          "name": "stderr",
          "text": [
            "/usr/local/lib/python3.7/dist-packages/seaborn/_decorators.py:43: FutureWarning: Pass the following variables as keyword args: x, y. From version 0.12, the only valid positional argument will be `data`, and passing other arguments without an explicit keyword will result in an error or misinterpretation.\n"
          ]
        },
        {
          "output_type": "display_data",
          "data": {
            "text/plain": [
              "<Figure size 720x576 with 1 Axes>"
            ],
            "image/png": "[encoded data removed]"
          },
          "metadata": {
            "needs_background": "light"
          }
        }
      ]
    },
    {
      "cell_type": "code",
      "source": [
        "n, bins, patches = plt.hist(df['duration'], bins=50)\n",
        "plt.xlabel('Duração do Filme')\n",
        "plt.ylabel('Número de Filmes')\n",
        "plt.show()"
      ],
      "metadata": {
        "colab": {
          "base_uri": "https://localhost:8080/",
          "height": 279
        },
        "id": "jjg1SOgL5IS6",
        "outputId": "a707d82f-bd3e-4eea-f952-85510850757e"
      },
      "execution_count": null,
      "outputs": [
        {
          "output_type": "display_data",
          "data": {
            "text/plain": [
              "<Figure size 432x288 with 1 Axes>"
            ],
            "image/png": "[encoded data removed]"
          },
          "metadata": {
            "needs_background": "light"
          }
        }
      ]
    },
    {
      "cell_type": "code",
      "source": [
        "n, bins, patches = plt.hist(df['imdb_score'], bins=50)\n",
        "plt.xlabel('Nota do Filme')\n",
        "plt.ylabel('Número de Filmes')\n",
        "plt.show()"
      ],
      "metadata": {
        "colab": {
          "base_uri": "https://localhost:8080/",
          "height": 279
        },
        "id": "IgyX5UBF5o-p",
        "outputId": "0e8bc9c9-6045-4f28-fd57-d732c7a352b5"
      },
      "execution_count": null,
      "outputs": [
        {
          "output_type": "display_data",
          "data": {
            "text/plain": [
              "<Figure size 432x288 with 1 Axes>"
            ],
            "image/png": "[encoded data removed]"
          },
          "metadata": {
            "needs_background": "light"
          }
        }
      ]
    },
    {
      "cell_type": "code",
      "source": [
        "plt.boxplot(df['imdb_score']);"
      ],
      "metadata": {
        "colab": {
          "base_uri": "https://localhost:8080/",
          "height": 265
        },
        "id": "Up_jb_gc5we7",
        "outputId": "5cd29290-1a7d-45e0-c4d8-b66b785aff48"
      },
      "execution_count": null,
      "outputs": [
        {
          "output_type": "display_data",
          "data": {
            "text/plain": [
              "<Figure size 432x288 with 1 Axes>"
            ],
            "image/png": "[encoded data removed]"
          },
          "metadata": {
            "needs_background": "light"
          }
        }
      ]
    },
    {
      "cell_type": "markdown",
      "source": [
        "## Preparação dos dados"
      ],
      "metadata": {
        "id": "DpJ93gh555li"
      }
    },
    {
      "cell_type": "code",
      "source": [
        "# retirando colunas com dados categoricos\n",
        "df.drop(columns=['director_name', 'actor_1_name', 'actor_2_name', \n",
        "                 'actor_3_name', 'plot_keywords', 'movie_title'], axis=1, inplace=True)"
      ],
      "metadata": {
        "id": "5CWb0tGB50_V"
      },
      "execution_count": null,
      "outputs": []
    },
    {
      "cell_type": "code",
      "source": [
        "# verificando valores na coluna genero\n",
        "df.genres.value_counts()"
      ],
      "metadata": {
        "colab": {
          "base_uri": "https://localhost:8080/"
        },
        "id": "-eqM0Jxl6R_5",
        "outputId": "2fa88a14-db24-4633-f6f8-d43af03f5ec9"
      },
      "execution_count": null,
      "outputs": [
        {
          "output_type": "execute_result",
          "data": {
            "text/plain": [
              "Drama                                       209\n",
              "Comedy                                      186\n",
              "Comedy|Drama|Romance                        182\n",
              "Comedy|Drama                                180\n",
              "Comedy|Romance                              149\n",
              "                                           ... \n",
              "Biography|Crime|Drama|Mystery|Thriller        1\n",
              "Comedy|Drama|Music|Musical|Romance            1\n",
              "Biography|Comedy|Musical|Romance|Western      1\n",
              "Crime|Drama|Fantasy|Romance                   1\n",
              "Action|Animation|Comedy|Family|Fantasy        1\n",
              "Name: genres, Length: 875, dtype: int64"
            ]
          },
          "metadata": {},
          "execution_count": 47
        }
      ]
    },
    {
      "cell_type": "code",
      "source": [
        "# Retirando valores\n",
        "df.drop('genres', axis=1, inplace=True)"
      ],
      "metadata": {
        "id": "Uy-SdDZm6dro"
      },
      "execution_count": null,
      "outputs": []
    },
    {
      "cell_type": "code",
      "source": [
        "# Retirando a coluna criada\n",
        "df.drop(columns=['profit'], axis=1, inplace=True)"
      ],
      "metadata": {
        "id": "T2jTaAfT6tVX"
      },
      "execution_count": null,
      "outputs": []
    },
    {
      "cell_type": "code",
      "source": [
        "# Verificando coluna fortemente correlacionadas\n",
        "import numpy as np\n",
        "corr = df.corr()\n",
        "sns.set_context('notebook', font_scale=1.0, rc={\"lines.linewidth\": 2.0})\n",
        "plt.figure(figsize=(20, 10))\n",
        "mask = np.zeros_like(corr)\n",
        "mask[np.triu_indices_from(mask, 1)] = True\n",
        "a = sns.heatmap(corr,mask=mask, annot=True, fmt='.2f')\n",
        "rotx = a.set_xticklabels(a.get_xticklabels(), rotation=90)\n",
        "roty = a.set_yticklabels(a.get_yticklabels(), rotation=30)"
      ],
      "metadata": {
        "colab": {
          "base_uri": "https://localhost:8080/",
          "height": 743
        },
        "id": "0ZptANCk62rB",
        "outputId": "9e3ac767-b3e4-474e-9167-6b780f79d82a"
      },
      "execution_count": null,
      "outputs": [
        {
          "output_type": "display_data",
          "data": {
            "text/plain": [
              "<Figure size 1440x720 with 2 Axes>"
            ],
            "image/png": "[encoded data removed]"
          },
          "metadata": {
            "needs_background": "light"
          }
        }
      ]
    },
    {
      "cell_type": "code",
      "source": [
        "# Criando nova coluna => combinando correlações\n",
        "df['Other_actors_facebook_likes'] = df['actor_2_facebook_likes'] + df['actor_3_facebook_likes']"
      ],
      "metadata": {
        "id": "SQ0Xaqm27vRj"
      },
      "execution_count": null,
      "outputs": []
    },
    {
      "cell_type": "code",
      "source": [
        "# removendo coluna\n",
        "df.drop(columns=['actor_2_facebook_likes', 'actor_3_facebook_likes',\n",
        "                 'cast_total_facebook_likes'], axis=1, inplace=True)"
      ],
      "metadata": {
        "id": "3IhlD1nq786W"
      },
      "execution_count": null,
      "outputs": []
    },
    {
      "cell_type": "code",
      "source": [
        "# Criando nova coluna => combinando correlações\n",
        "df['critic_review_ratio'] = df['num_critic_for_reviews']/df['num_user_for_reviews']"
      ],
      "metadata": {
        "id": "Vmpu-8WL8BGz"
      },
      "execution_count": null,
      "outputs": []
    },
    {
      "cell_type": "code",
      "source": [
        "# removendo as colunas\n",
        "df.drop(columns=['num_critic_for_reviews', 'num_user_for_reviews'], axis=1, inplace=True)"
      ],
      "metadata": {
        "id": "7khUgCc28OdM"
      },
      "execution_count": null,
      "outputs": []
    },
    {
      "cell_type": "code",
      "source": [
        "# verificando se ainda existem colunas fortemente correlacionadas\n",
        "corr = df.corr()\n",
        "sns.set_context(\"notebook\", font_scale=1.0, rc={\"lines.linewidth\": 2.5})\n",
        "plt.figure(figsize=(13,7))\n",
        "mask = np.zeros_like(corr)\n",
        "mask[np.triu_indices_from(mask, 1)] = True\n",
        "a = sns.heatmap(corr,mask=mask, annot=True, fmt='.2f')\n",
        "rotx = a.set_xticklabels(a.get_xticklabels(), rotation=90)\n",
        "roty = a.set_yticklabels(a.get_yticklabels(), rotation=30)"
      ],
      "metadata": {
        "colab": {
          "base_uri": "https://localhost:8080/",
          "height": 583
        },
        "id": "Gtxi33NA8Q9R",
        "outputId": "7a58cb42-cc7a-49af-d6c0-08fd44f16716"
      },
      "execution_count": null,
      "outputs": [
        {
          "output_type": "display_data",
          "data": {
            "text/plain": [
              "<Figure size 936x504 with 2 Axes>"
            ],
            "image/png": "[encoded data removed]"
          },
          "metadata": {
            "needs_background": "light"
          }
        }
      ]
    },
    {
      "cell_type": "code",
      "source": [
        "# categorizando os valores de nota do imdb\n",
        "df['imdb_binned_score']=pd.cut(df['imdb_score'], bins=[0,4,6,8,10], right=True, labels=False)+1"
      ],
      "metadata": {
        "id": "Kgdwm7VV8Uxs"
      },
      "execution_count": null,
      "outputs": []
    },
    {
      "cell_type": "code",
      "source": [
        "df['imdb_score'].value_counts()"
      ],
      "metadata": {
        "colab": {
          "base_uri": "https://localhost:8080/"
        },
        "id": "PbC_Au6R8eSn",
        "outputId": "872727ac-35a1-447b-d7ad-2ac911922161"
      },
      "execution_count": null,
      "outputs": [
        {
          "output_type": "execute_result",
          "data": {
            "text/plain": [
              "6.7    211\n",
              "6.6    191\n",
              "6.5    181\n",
              "6.4    180\n",
              "7.2    180\n",
              "      ... \n",
              "1.7      1\n",
              "9.3      1\n",
              "2.6      1\n",
              "9.2      1\n",
              "1.6      1\n",
              "Name: imdb_score, Length: 76, dtype: int64"
            ]
          },
          "metadata": {},
          "execution_count": 57
        }
      ]
    },
    {
      "cell_type": "code",
      "source": [
        "df['imdb_binned_score'].value_counts()"
      ],
      "metadata": {
        "colab": {
          "base_uri": "https://localhost:8080/"
        },
        "id": "0BOphttI8fyh",
        "outputId": "0a2b091f-b86a-4f42-e476-b25eac9364e2"
      },
      "execution_count": null,
      "outputs": [
        {
          "output_type": "execute_result",
          "data": {
            "text/plain": [
              "3    3015\n",
              "2    1323\n",
              "4     203\n",
              "1     154\n",
              "Name: imdb_binned_score, dtype: int64"
            ]
          },
          "metadata": {},
          "execution_count": 58
        }
      ]
    },
    {
      "cell_type": "code",
      "source": [
        "df.head()"
      ],
      "metadata": {
        "colab": {
          "base_uri": "https://localhost:8080/",
          "height": 270
        },
        "id": "jSqOT7bilkoM",
        "outputId": "1d865fc5-9d24-455a-bb2e-6c5bf3d3b0ff"
      },
      "execution_count": null,
      "outputs": [
        {
          "output_type": "execute_result",
          "data": {
            "text/plain": [
              "      duration  director_facebook_likes  actor_1_facebook_likes        gross  \\\n",
              "1937     142.0                      0.0                 11000.0   28341469.0   \n",
              "3466     175.0                      0.0                 14000.0  134821952.0   \n",
              "2837     220.0                      0.0                 22000.0   57300000.0   \n",
              "66       152.0                  22000.0                 23000.0  533316061.0   \n",
              "4822      96.0                      0.0                   359.0   26005908.0   \n",
              "\n",
              "      num_voted_users  facenumber_in_poster language content_rating  \\\n",
              "1937          1689764                   0.0  English              R   \n",
              "3466          1155770                   1.0  English              R   \n",
              "2837           790926                   1.0  English              R   \n",
              "66            1676169                   0.0  English          PG-13   \n",
              "4822           447785                   1.0  English      Not Rated   \n",
              "\n",
              "           budget  title_year  imdb_score  movie_facebook_likes  \\\n",
              "1937   25000000.0      1994.0         9.3                108000   \n",
              "3466    6000000.0      1972.0         9.2                 43000   \n",
              "2837   13000000.0      1974.0         9.0                 14000   \n",
              "66    185000000.0      2008.0         9.0                 37000   \n",
              "4822     350000.0      1957.0         8.9                 40000   \n",
              "\n",
              "      Other_actors_facebook_likes  critic_review_ratio  imdb_binned_score  \n",
              "1937                       1206.0             0.048021                  4  \n",
              "3466                      13000.0             0.092940                  4  \n",
              "2837                      17000.0             0.229231                  4  \n",
              "66                        24000.0             0.138204                  4  \n",
              "4822                        512.0             0.199324                  4  "
            ],
            "text/html": [
              "\n",
              "  <div id=\"df-3dfa1b31-3d85-4f95-a093-90e3f0231cd2\">\n",
              "    <div class=\"colab-df-container\">\n",
              "      <div>\n",
              "<style scoped>\n",
              "    .dataframe tbody tr th:only-of-type {\n",
              "        vertical-align: middle;\n",
              "    }\n",
              "\n",
              "    .dataframe tbody tr th {\n",
              "        vertical-align: top;\n",
              "    }\n",
              "\n",
              "    .dataframe thead th {\n",
              "        text-align: right;\n",
              "    }\n",
              "</style>\n",
              "<table border=\"1\" class=\"dataframe\">\n",
              "  <thead>\n",
              "    <tr style=\"text-align: right;\">\n",
              "      <th></th>\n",
              "      <th>duration</th>\n",
              "      <th>director_facebook_likes</th>\n",
              "      <th>actor_1_facebook_likes</th>\n",
              "      <th>gross</th>\n",
              "      <th>num_voted_users</th>\n",
              "      <th>facenumber_in_poster</th>\n",
              "      <th>language</th>\n",
              "      <th>content_rating</th>\n",
              "      <th>budget</th>\n",
              "      <th>title_year</th>\n",
              "      <th>imdb_score</th>\n",
              "      <th>movie_facebook_likes</th>\n",
              "      <th>Other_actors_facebook_likes</th>\n",
              "      <th>critic_review_ratio</th>\n",
              "      <th>imdb_binned_score</th>\n",
              "    </tr>\n",
              "  </thead>\n",
              "  <tbody>\n",
              "    <tr>\n",
              "      <th>1937</th>\n",
              "      <td>142.0</td>\n",
              "      <td>0.0</td>\n",
              "      <td>11000.0</td>\n",
              "      <td>28341469.0</td>\n",
              "      <td>1689764</td>\n",
              "      <td>0.0</td>\n",
              "      <td>English</td>\n",
              "      <td>R</td>\n",
              "      <td>25000000.0</td>\n",
              "      <td>1994.0</td>\n",
              "      <td>9.3</td>\n",
              "      <td>108000</td>\n",
              "      <td>1206.0</td>\n",
              "      <td>0.048021</td>\n",
              "      <td>4</td>\n",
              "    </tr>\n",
              "    <tr>\n",
              "      <th>3466</th>\n",
              "      <td>175.0</td>\n",
              "      <td>0.0</td>\n",
              "      <td>14000.0</td>\n",
              "      <td>134821952.0</td>\n",
              "      <td>1155770</td>\n",
              "      <td>1.0</td>\n",
              "      <td>English</td>\n",
              "      <td>R</td>\n",
              "      <td>6000000.0</td>\n",
              "      <td>1972.0</td>\n",
              "      <td>9.2</td>\n",
              "      <td>43000</td>\n",
              "      <td>13000.0</td>\n",
              "      <td>0.092940</td>\n",
              "      <td>4</td>\n",
              "    </tr>\n",
              "    <tr>\n",
              "      <th>2837</th>\n",
              "      <td>220.0</td>\n",
              "      <td>0.0</td>\n",
              "      <td>22000.0</td>\n",
              "      <td>57300000.0</td>\n",
              "      <td>790926</td>\n",
              "      <td>1.0</td>\n",
              "      <td>English</td>\n",
              "      <td>R</td>\n",
              "      <td>13000000.0</td>\n",
              "      <td>1974.0</td>\n",
              "      <td>9.0</td>\n",
              "      <td>14000</td>\n",
              "      <td>17000.0</td>\n",
              "      <td>0.229231</td>\n",
              "      <td>4</td>\n",
              "    </tr>\n",
              "    <tr>\n",
              "      <th>66</th>\n",
              "      <td>152.0</td>\n",
              "      <td>22000.0</td>\n",
              "      <td>23000.0</td>\n",
              "      <td>533316061.0</td>\n",
              "      <td>1676169</td>\n",
              "      <td>0.0</td>\n",
              "      <td>English</td>\n",
              "      <td>PG-13</td>\n",
              "      <td>185000000.0</td>\n",
              "      <td>2008.0</td>\n",
              "      <td>9.0</td>\n",
              "      <td>37000</td>\n",
              "      <td>24000.0</td>\n",
              "      <td>0.138204</td>\n",
              "      <td>4</td>\n",
              "    </tr>\n",
              "    <tr>\n",
              "      <th>4822</th>\n",
              "      <td>96.0</td>\n",
              "      <td>0.0</td>\n",
              "      <td>359.0</td>\n",
              "      <td>26005908.0</td>\n",
              "      <td>447785</td>\n",
              "      <td>1.0</td>\n",
              "      <td>English</td>\n",
              "      <td>Not Rated</td>\n",
              "      <td>350000.0</td>\n",
              "      <td>1957.0</td>\n",
              "      <td>8.9</td>\n",
              "      <td>40000</td>\n",
              "      <td>512.0</td>\n",
              "      <td>0.199324</td>\n",
              "      <td>4</td>\n",
              "    </tr>\n",
              "  </tbody>\n",
              "</table>\n",
              "</div>\n",
              "      <button class=\"colab-df-convert\" onclick=\"convertToInteractive('df-3dfa1b31-3d85-4f95-a093-90e3f0231cd2')\"\n",
              "              title=\"Convert this dataframe to an interactive table.\"\n",
              "              style=\"display:none;\">\n",
              "        \n",
              "  <svg xmlns=\"http://www.w3.org/2000/svg\" height=\"24px\"viewBox=\"0 0 24 24\"\n",
              "       width=\"24px\">\n",
              "    <path d=\"M0 0h24v24H0V0z\" fill=\"none\"/>\n",
              "    <path d=\"M18.56 5.44l.94 2.06.94-2.06 2.06-.94-2.06-.94-.94-2.06-.94 2.06-2.06.94zm-11 1L8.5 8.5l.94-2.06 2.06-.94-2.06-.94L8.5 2.5l-.94 2.06-2.06.94zm10 10l.94 2.06.94-2.06 2.06-.94-2.06-.94-.94-2.06-.94 2.06-2.06.94z\"/><path d=\"M17.41 7.96l-1.37-1.37c-.4-.4-.92-.59-1.43-.59-.52 0-1.04.2-1.43.59L10.3 9.45l-7.72 7.72c-.78.78-.78 2.05 0 2.83L4 21.41c.39.39.9.59 1.41.59.51 0 1.02-.2 1.41-.59l7.78-7.78 2.81-2.81c.8-.78.8-2.07 0-2.86zM5.41 20L4 18.59l7.72-7.72 1.47 1.35L5.41 20z\"/>\n",
              "  </svg>\n",
              "      </button>\n",
              "      \n",
              "  <style>\n",
              "    .colab-df-container {\n",
              "      display:flex;\n",
              "      flex-wrap:wrap;\n",
              "      gap: 12px;\n",
              "    }\n",
              "\n",
              "    .colab-df-convert {\n",
              "      background-color: #E8F0FE;\n",
              "      border: none;\n",
              "      border-radius: 50%;\n",
              "      cursor: pointer;\n",
              "      display: none;\n",
              "      fill: #1967D2;\n",
              "      height: 32px;\n",
              "      padding: 0 0 0 0;\n",
              "      width: 32px;\n",
              "    }\n",
              "\n",
              "    .colab-df-convert:hover {\n",
              "      background-color: #E2EBFA;\n",
              "      box-shadow: 0px 1px 2px rgba(60, 64, 67, 0.3), 0px 1px 3px 1px rgba(60, 64, 67, 0.15);\n",
              "      fill: #174EA6;\n",
              "    }\n",
              "\n",
              "    [theme=dark] .colab-df-convert {\n",
              "      background-color: #3B4455;\n",
              "      fill: #D2E3FC;\n",
              "    }\n",
              "\n",
              "    [theme=dark] .colab-df-convert:hover {\n",
              "      background-color: #434B5C;\n",
              "      box-shadow: 0px 1px 3px 1px rgba(0, 0, 0, 0.15);\n",
              "      filter: drop-shadow(0px 1px 2px rgba(0, 0, 0, 0.3));\n",
              "      fill: #FFFFFF;\n",
              "    }\n",
              "  </style>\n",
              "\n",
              "      <script>\n",
              "        const buttonEl =\n",
              "          document.querySelector('#df-3dfa1b31-3d85-4f95-a093-90e3f0231cd2 button.colab-df-convert');\n",
              "        buttonEl.style.display =\n",
              "          google.colab.kernel.accessAllowed ? 'block' : 'none';\n",
              "\n",
              "        async function convertToInteractive(key) {\n",
              "          const element = document.querySelector('#df-3dfa1b31-3d85-4f95-a093-90e3f0231cd2');\n",
              "          const dataTable =\n",
              "            await google.colab.kernel.invokeFunction('convertToInteractive',\n",
              "                                                     [key], {});\n",
              "          if (!dataTable) return;\n",
              "\n",
              "          const docLinkHtml = 'Like what you see? Visit the ' +\n",
              "            '<a target=\"_blank\" href=https://colab.research.google.com/notebooks/data_table.ipynb>data table notebook</a>'\n",
              "            + ' to learn more about interactive tables.';\n",
              "          element.innerHTML = '';\n",
              "          dataTable['output_type'] = 'display_data';\n",
              "          await google.colab.output.renderOutput(dataTable, element);\n",
              "          const docLink = document.createElement('div');\n",
              "          docLink.innerHTML = docLinkHtml;\n",
              "          element.appendChild(docLink);\n",
              "        }\n",
              "      </script>\n",
              "    </div>\n",
              "  </div>\n",
              "  "
            ]
          },
          "metadata": {},
          "execution_count": 59
        }
      ]
    },
    {
      "cell_type": "code",
      "source": [
        "#criando novas colunas para transformar os valores categóricos de 'content rating' (classificação indicativa)\n",
        "#em valores numéricos\n",
        "df = pd.get_dummies(data = df, columns=['content_rating'], prefix=['content_rating'], drop_first=True)"
      ],
      "metadata": {
        "id": "GmnnrdwW8ieO"
      },
      "execution_count": null,
      "outputs": []
    },
    {
      "cell_type": "code",
      "source": [
        "df.head()"
      ],
      "metadata": {
        "colab": {
          "base_uri": "https://localhost:8080/",
          "height": 317
        },
        "id": "sw3Eo1QwlyNA",
        "outputId": "988c0464-4ecc-4515-df20-78e883e54633"
      },
      "execution_count": null,
      "outputs": [
        {
          "output_type": "execute_result",
          "data": {
            "text/plain": [
              "      duration  director_facebook_likes  actor_1_facebook_likes        gross  \\\n",
              "1937     142.0                      0.0                 11000.0   28341469.0   \n",
              "3466     175.0                      0.0                 14000.0  134821952.0   \n",
              "2837     220.0                      0.0                 22000.0   57300000.0   \n",
              "66       152.0                  22000.0                 23000.0  533316061.0   \n",
              "4822      96.0                      0.0                   359.0   26005908.0   \n",
              "\n",
              "      num_voted_users  facenumber_in_poster language       budget  title_year  \\\n",
              "1937          1689764                   0.0  English   25000000.0      1994.0   \n",
              "3466          1155770                   1.0  English    6000000.0      1972.0   \n",
              "2837           790926                   1.0  English   13000000.0      1974.0   \n",
              "66            1676169                   0.0  English  185000000.0      2008.0   \n",
              "4822           447785                   1.0  English     350000.0      1957.0   \n",
              "\n",
              "      imdb_score  ...  content_rating_Not Rated  content_rating_PG  \\\n",
              "1937         9.3  ...                         0                  0   \n",
              "3466         9.2  ...                         0                  0   \n",
              "2837         9.0  ...                         0                  0   \n",
              "66           9.0  ...                         0                  0   \n",
              "4822         8.9  ...                         1                  0   \n",
              "\n",
              "      content_rating_PG-13  content_rating_Passed  content_rating_R  \\\n",
              "1937                     0                      0                 1   \n",
              "3466                     0                      0                 1   \n",
              "2837                     0                      0                 1   \n",
              "66                       1                      0                 0   \n",
              "4822                     0                      0                 0   \n",
              "\n",
              "      content_rating_TV-14  content_rating_TV-G  content_rating_TV-PG  \\\n",
              "1937                     0                    0                     0   \n",
              "3466                     0                    0                     0   \n",
              "2837                     0                    0                     0   \n",
              "66                       0                    0                     0   \n",
              "4822                     0                    0                     0   \n",
              "\n",
              "      content_rating_Unrated  content_rating_X  \n",
              "1937                       0                 0  \n",
              "3466                       0                 0  \n",
              "2837                       0                 0  \n",
              "66                         0                 0  \n",
              "4822                       0                 0  \n",
              "\n",
              "[5 rows x 28 columns]"
            ],
            "text/html": [
              "\n",
              "  <div id=\"df-b5830cf8-b8af-4510-a208-20e5945a99f9\">\n",
              "    <div class=\"colab-df-container\">\n",
              "      <div>\n",
              "<style scoped>\n",
              "    .dataframe tbody tr th:only-of-type {\n",
              "        vertical-align: middle;\n",
              "    }\n",
              "\n",
              "    .dataframe tbody tr th {\n",
              "        vertical-align: top;\n",
              "    }\n",
              "\n",
              "    .dataframe thead th {\n",
              "        text-align: right;\n",
              "    }\n",
              "</style>\n",
              "<table border=\"1\" class=\"dataframe\">\n",
              "  <thead>\n",
              "    <tr style=\"text-align: right;\">\n",
              "      <th></th>\n",
              "      <th>duration</th>\n",
              "      <th>director_facebook_likes</th>\n",
              "      <th>actor_1_facebook_likes</th>\n",
              "      <th>gross</th>\n",
              "      <th>num_voted_users</th>\n",
              "      <th>facenumber_in_poster</th>\n",
              "      <th>language</th>\n",
              "      <th>budget</th>\n",
              "      <th>title_year</th>\n",
              "      <th>imdb_score</th>\n",
              "      <th>...</th>\n",
              "      <th>content_rating_Not Rated</th>\n",
              "      <th>content_rating_PG</th>\n",
              "      <th>content_rating_PG-13</th>\n",
              "      <th>content_rating_Passed</th>\n",
              "      <th>content_rating_R</th>\n",
              "      <th>content_rating_TV-14</th>\n",
              "      <th>content_rating_TV-G</th>\n",
              "      <th>content_rating_TV-PG</th>\n",
              "      <th>content_rating_Unrated</th>\n",
              "      <th>content_rating_X</th>\n",
              "    </tr>\n",
              "  </thead>\n",
              "  <tbody>\n",
              "    <tr>\n",
              "      <th>1937</th>\n",
              "      <td>142.0</td>\n",
              "      <td>0.0</td>\n",
              "      <td>11000.0</td>\n",
              "      <td>28341469.0</td>\n",
              "      <td>1689764</td>\n",
              "      <td>0.0</td>\n",
              "      <td>English</td>\n",
              "      <td>25000000.0</td>\n",
              "      <td>1994.0</td>\n",
              "      <td>9.3</td>\n",
              "      <td>...</td>\n",
              "      <td>0</td>\n",
              "      <td>0</td>\n",
              "      <td>0</td>\n",
              "      <td>0</td>\n",
              "      <td>1</td>\n",
              "      <td>0</td>\n",
              "      <td>0</td>\n",
              "      <td>0</td>\n",
              "      <td>0</td>\n",
              "      <td>0</td>\n",
              "    </tr>\n",
              "    <tr>\n",
              "      <th>3466</th>\n",
              "      <td>175.0</td>\n",
              "      <td>0.0</td>\n",
              "      <td>14000.0</td>\n",
              "      <td>134821952.0</td>\n",
              "      <td>1155770</td>\n",
              "      <td>1.0</td>\n",
              "      <td>English</td>\n",
              "      <td>6000000.0</td>\n",
              "      <td>1972.0</td>\n",
              "      <td>9.2</td>\n",
              "      <td>...</td>\n",
              "      <td>0</td>\n",
              "      <td>0</td>\n",
              "      <td>0</td>\n",
              "      <td>0</td>\n",
              "      <td>1</td>\n",
              "      <td>0</td>\n",
              "      <td>0</td>\n",
              "      <td>0</td>\n",
              "      <td>0</td>\n",
              "      <td>0</td>\n",
              "    </tr>\n",
              "    <tr>\n",
              "      <th>2837</th>\n",
              "      <td>220.0</td>\n",
              "      <td>0.0</td>\n",
              "      <td>22000.0</td>\n",
              "      <td>57300000.0</td>\n",
              "      <td>790926</td>\n",
              "      <td>1.0</td>\n",
              "      <td>English</td>\n",
              "      <td>13000000.0</td>\n",
              "      <td>1974.0</td>\n",
              "      <td>9.0</td>\n",
              "      <td>...</td>\n",
              "      <td>0</td>\n",
              "      <td>0</td>\n",
              "      <td>0</td>\n",
              "      <td>0</td>\n",
              "      <td>1</td>\n",
              "      <td>0</td>\n",
              "      <td>0</td>\n",
              "      <td>0</td>\n",
              "      <td>0</td>\n",
              "      <td>0</td>\n",
              "    </tr>\n",
              "    <tr>\n",
              "      <th>66</th>\n",
              "      <td>152.0</td>\n",
              "      <td>22000.0</td>\n",
              "      <td>23000.0</td>\n",
              "      <td>533316061.0</td>\n",
              "      <td>1676169</td>\n",
              "      <td>0.0</td>\n",
              "      <td>English</td>\n",
              "      <td>185000000.0</td>\n",
              "      <td>2008.0</td>\n",
              "      <td>9.0</td>\n",
              "      <td>...</td>\n",
              "      <td>0</td>\n",
              "      <td>0</td>\n",
              "      <td>1</td>\n",
              "      <td>0</td>\n",
              "      <td>0</td>\n",
              "      <td>0</td>\n",
              "      <td>0</td>\n",
              "      <td>0</td>\n",
              "      <td>0</td>\n",
              "      <td>0</td>\n",
              "    </tr>\n",
              "    <tr>\n",
              "      <th>4822</th>\n",
              "      <td>96.0</td>\n",
              "      <td>0.0</td>\n",
              "      <td>359.0</td>\n",
              "      <td>26005908.0</td>\n",
              "      <td>447785</td>\n",
              "      <td>1.0</td>\n",
              "      <td>English</td>\n",
              "      <td>350000.0</td>\n",
              "      <td>1957.0</td>\n",
              "      <td>8.9</td>\n",
              "      <td>...</td>\n",
              "      <td>1</td>\n",
              "      <td>0</td>\n",
              "      <td>0</td>\n",
              "      <td>0</td>\n",
              "      <td>0</td>\n",
              "      <td>0</td>\n",
              "      <td>0</td>\n",
              "      <td>0</td>\n",
              "      <td>0</td>\n",
              "      <td>0</td>\n",
              "    </tr>\n",
              "  </tbody>\n",
              "</table>\n",
              "<p>5 rows × 28 columns</p>\n",
              "</div>\n",
              "      <button class=\"colab-df-convert\" onclick=\"convertToInteractive('df-b5830cf8-b8af-4510-a208-20e5945a99f9')\"\n",
              "              title=\"Convert this dataframe to an interactive table.\"\n",
              "              style=\"display:none;\">\n",
              "        \n",
              "  <svg xmlns=\"http://www.w3.org/2000/svg\" height=\"24px\"viewBox=\"0 0 24 24\"\n",
              "       width=\"24px\">\n",
              "    <path d=\"M0 0h24v24H0V0z\" fill=\"none\"/>\n",
              "    <path d=\"M18.56 5.44l.94 2.06.94-2.06 2.06-.94-2.06-.94-.94-2.06-.94 2.06-2.06.94zm-11 1L8.5 8.5l.94-2.06 2.06-.94-2.06-.94L8.5 2.5l-.94 2.06-2.06.94zm10 10l.94 2.06.94-2.06 2.06-.94-2.06-.94-.94-2.06-.94 2.06-2.06.94z\"/><path d=\"M17.41 7.96l-1.37-1.37c-.4-.4-.92-.59-1.43-.59-.52 0-1.04.2-1.43.59L10.3 9.45l-7.72 7.72c-.78.78-.78 2.05 0 2.83L4 21.41c.39.39.9.59 1.41.59.51 0 1.02-.2 1.41-.59l7.78-7.78 2.81-2.81c.8-.78.8-2.07 0-2.86zM5.41 20L4 18.59l7.72-7.72 1.47 1.35L5.41 20z\"/>\n",
              "  </svg>\n",
              "      </button>\n",
              "      \n",
              "  <style>\n",
              "    .colab-df-container {\n",
              "      display:flex;\n",
              "      flex-wrap:wrap;\n",
              "      gap: 12px;\n",
              "    }\n",
              "\n",
              "    .colab-df-convert {\n",
              "      background-color: #E8F0FE;\n",
              "      border: none;\n",
              "      border-radius: 50%;\n",
              "      cursor: pointer;\n",
              "      display: none;\n",
              "      fill: #1967D2;\n",
              "      height: 32px;\n",
              "      padding: 0 0 0 0;\n",
              "      width: 32px;\n",
              "    }\n",
              "\n",
              "    .colab-df-convert:hover {\n",
              "      background-color: #E2EBFA;\n",
              "      box-shadow: 0px 1px 2px rgba(60, 64, 67, 0.3), 0px 1px 3px 1px rgba(60, 64, 67, 0.15);\n",
              "      fill: #174EA6;\n",
              "    }\n",
              "\n",
              "    [theme=dark] .colab-df-convert {\n",
              "      background-color: #3B4455;\n",
              "      fill: #D2E3FC;\n",
              "    }\n",
              "\n",
              "    [theme=dark] .colab-df-convert:hover {\n",
              "      background-color: #434B5C;\n",
              "      box-shadow: 0px 1px 3px 1px rgba(0, 0, 0, 0.15);\n",
              "      filter: drop-shadow(0px 1px 2px rgba(0, 0, 0, 0.3));\n",
              "      fill: #FFFFFF;\n",
              "    }\n",
              "  </style>\n",
              "\n",
              "      <script>\n",
              "        const buttonEl =\n",
              "          document.querySelector('#df-b5830cf8-b8af-4510-a208-20e5945a99f9 button.colab-df-convert');\n",
              "        buttonEl.style.display =\n",
              "          google.colab.kernel.accessAllowed ? 'block' : 'none';\n",
              "\n",
              "        async function convertToInteractive(key) {\n",
              "          const element = document.querySelector('#df-b5830cf8-b8af-4510-a208-20e5945a99f9');\n",
              "          const dataTable =\n",
              "            await google.colab.kernel.invokeFunction('convertToInteractive',\n",
              "                                                     [key], {});\n",
              "          if (!dataTable) return;\n",
              "\n",
              "          const docLinkHtml = 'Like what you see? Visit the ' +\n",
              "            '<a target=\"_blank\" href=https://colab.research.google.com/notebooks/data_table.ipynb>data table notebook</a>'\n",
              "            + ' to learn more about interactive tables.';\n",
              "          element.innerHTML = '';\n",
              "          dataTable['output_type'] = 'display_data';\n",
              "          await google.colab.output.renderOutput(dataTable, element);\n",
              "          const docLink = document.createElement('div');\n",
              "          docLink.innerHTML = docLinkHtml;\n",
              "          element.appendChild(docLink);\n",
              "        }\n",
              "      </script>\n",
              "    </div>\n",
              "  </div>\n",
              "  "
            ]
          },
          "metadata": {},
          "execution_count": 61
        }
      ]
    },
    {
      "cell_type": "code",
      "source": [
        "df.to_csv('dados_imdb_com_nota.csv', index=False)"
      ],
      "metadata": {
        "id": "cwx3AL3R8mtn"
      },
      "execution_count": null,
      "outputs": []
    },
    {
      "cell_type": "code",
      "source": [
        "# escolhendo as colunas do dataframe que serão nossos valores de entrada para o modelo\n",
        "X=pd.DataFrame(columns=['duration','director_facebook_likes','actor_1_facebook_likes','gross',\n",
        "                        'num_voted_users','facenumber_in_poster','budget','title_year','aspect_ratio',\n",
        "                        'movie_facebook_likes','Other_actors_facebook_likes','critic_review_ratio',\n",
        "                        'content_rating_G','content_rating_GP',\n",
        "                        'content_rating_M','content_rating_NC-17','content_rating_Not Rated',\n",
        "                        'content_rating_PG','content_rating_PG-13','content_rating_Passed',\n",
        "                        'content_rating_R','content_rating_TV-14','content_rating_TV-G',\n",
        "                        'content_rating_TV-PG','content_rating_Unrated','content_rating_X'],data=df)"
      ],
      "metadata": {
        "id": "UFsi3IIi8oA8"
      },
      "execution_count": null,
      "outputs": []
    },
    {
      "cell_type": "code",
      "source": [
        "# escolhendo a(s) coluna(s) do dataframe que serão a resposta do modelo\n",
        "y = pd.DataFrame(columns=['imdb_binned_score'], data=df)"
      ],
      "metadata": {
        "id": "NJwVeyGn8qta"
      },
      "execution_count": null,
      "outputs": []
    }
  ]
}