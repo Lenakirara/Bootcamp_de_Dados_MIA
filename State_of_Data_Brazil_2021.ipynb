{
  "nbformat": 4,
  "nbformat_minor": 0,
  "metadata": {
    "colab": {
      "name": "State of Data Brazil 2021.ipynb",
      "provenance": [],
      "authorship_tag": "ABX9TyM91Lh9dXp16M9NDk4ihcgE",
      "include_colab_link": true
    },
    "kernelspec": {
      "name": "python3",
      "display_name": "Python 3"
    },
    "language_info": {
      "name": "python"
    }
  },
  "cells": [
    {
      "cell_type": "markdown",
      "metadata": {
        "id": "view-in-github",
        "colab_type": "text"
      },
      "source": [
        "<a href=\"https://colab.research.google.com/github/Lenakirara/Bootcamp_de_Dados_MIA/blob/main/State_of_Data_Brazil_2021.ipynb\" target=\"_parent\"><img src=\"https://colab.research.google.com/assets/colab-badge.svg\" alt=\"Open In Colab\"/></a>"
      ]
    },
    {
      "cell_type": "markdown",
      "source": [
        "# State of Data Brazil 2021\n",
        "\n",
        "O objetivo deste projeto prático é realizar a visualização dos dados com relação ao panorama do mercado de trabalho brasileiro na área de dados.\n",
        "\n",
        "## Base de dados utilizada\n",
        "\n",
        "- Kaggle: [State Of Data - 2021](https://www.kaggle.com/datasets/datahackers/state-of-data-2021)\n"
      ],
      "metadata": {
        "id": "-wtZRn2WvQQX"
      }
    },
    {
      "cell_type": "markdown",
      "source": [
        "## Importando as Bibliotecas"
      ],
      "metadata": {
        "id": "nTLvfi3z4Ilt"
      }
    },
    {
      "cell_type": "code",
      "source": [
        "import pandas as pd\n",
        "import matplotlib.pyplot as plt\n",
        "import seaborn as sns\n",
        "import re\n",
        "%matplotlib inline"
      ],
      "metadata": {
        "id": "txsyYEQkAbhX"
      },
      "execution_count": 1,
      "outputs": []
    },
    {
      "cell_type": "markdown",
      "source": [
        "## Buscando o Dataset"
      ],
      "metadata": {
        "id": "WnL6fRd84QUe"
      }
    },
    {
      "cell_type": "code",
      "source": [
        "from google.colab import drive\n",
        "drive.mount('/content/drive')"
      ],
      "metadata": {
        "colab": {
          "base_uri": "https://localhost:8080/"
        },
        "id": "PlAJv8uwuu0z",
        "outputId": "3a92ba0d-99a8-4bf9-b538-1f3ef3d34745"
      },
      "execution_count": 2,
      "outputs": [
        {
          "output_type": "stream",
          "name": "stdout",
          "text": [
            "Drive already mounted at /content/drive; to attempt to forcibly remount, call drive.mount(\"/content/drive\", force_remount=True).\n"
          ]
        }
      ]
    },
    {
      "cell_type": "code",
      "source": [
        "df = pd.read_csv('/content/drive/MyDrive/Colab Notebooks/MIA/aula4/State_of_data_2021_pg01.csv')\n",
        "df.head()"
      ],
      "metadata": {
        "colab": {
          "base_uri": "https://localhost:8080/",
          "height": 716
        },
        "id": "QwmvmNGzA05_",
        "outputId": "4b864647-76d0-4657-a09c-8754d190836a"
      },
      "execution_count": 3,
      "outputs": [
        {
          "output_type": "execute_result",
          "data": {
            "text/plain": [
              "   Unnamed: 0  Idade     Genero  UF Regiao_origem   Nivel Ensino  \\\n",
              "0           0   38.0  Masculino  CE           NaN  Pós-graduação   \n",
              "1           1   39.0  Masculino  BA       Sudeste  Pós-graduação   \n",
              "2           2   30.0  Masculino  SC           NaN  Pós-graduação   \n",
              "3           3   38.0   Feminino  SP           NaN  Pós-graduação   \n",
              "4           4   36.0  Masculino  SC           NaN  Pós-graduação   \n",
              "\n",
              "                                       Area Formacao  \\\n",
              "0                                   Química / Física   \n",
              "1  Economia/ Administração / Contabilidade / Fina...   \n",
              "2  Computação / Engenharia de Software / Sistemas...   \n",
              "3                                             Outras   \n",
              "4                                 Outras Engenharias   \n",
              "\n",
              "                  Situacao Trabalho        Setor  Trabalha como Gestao  ...  \\\n",
              "0                   Empregado (CLT)    Marketing                   1.0  ...   \n",
              "1  Empreendedor ou Empregado (CNPJ)  Consultoria                   1.0  ...   \n",
              "2                   Empregado (CLT)    Indústria                   1.0  ...   \n",
              "3  Empreendedor ou Empregado (CNPJ)     Serviços                   1.0  ...   \n",
              "4  Empreendedor ou Empregado (CNPJ)       Varejo                   1.0  ...   \n",
              "\n",
              "  Cargo Atual   Nivel                    Faixa Salarial  \\\n",
              "0         NaN  Gestor    de R$ 4.001/mês a R$ 6.000/mês   \n",
              "1         NaN  Gestor    de R$ 6.001/mês a R$ 8.000/mês   \n",
              "2         NaN  Gestor   de R$ 8.001/mês a R$ 12.000/mês   \n",
              "3         NaN  Gestor  de R$ 12.001/mês a R$ 16.000/mês   \n",
              "4         NaN  Gestor   de R$ 8.001/mês a R$ 12.000/mês   \n",
              "\n",
              "                          Insatisfacao com a Empresa Tempo XP em Dados  \\\n",
              "0                                                NaN   Mais de 10 anos   \n",
              "1                                                NaN     de 2 a 3 anos   \n",
              "2             O clima de trabalho/ambiente não é bom     de 1 a 2 anos   \n",
              "3           Falta de maturidade analítica na empresa   Mais de 10 anos   \n",
              "4  Gostaria de trabalhar em em outra área de atua...     de 1 a 2 anos   \n",
              "\n",
              "                                Tempo XP em Software  \\\n",
              "0  Não tive experiência na área de TI/Engenharia ...   \n",
              "1  Não tive experiência na área de TI/Engenharia ...   \n",
              "2                                      de 2 a 3 anos   \n",
              "3                                     Menos de 1 ano   \n",
              "4                                      de 4 a 5 anos   \n",
              "\n",
              "                       Criterios de escolha trabalho  \\\n",
              "0                                         Benefícios   \n",
              "1                   Flexibilidade de trabalho remoto   \n",
              "2  Oportunidade de aprendizado e trabalhar com re...   \n",
              "3  Propósito do trabalho e da empresa, Flexibilid...   \n",
              "4  Maturidade da empresa em termos de tecnologia ...   \n",
              "\n",
              "                             Forma de trabalho atual  \\\n",
              "0                             Modelo 100% presencial   \n",
              "1  Modelo híbrido flexível (o funcionário tem lib...   \n",
              "2                             Modelo 100% presencial   \n",
              "3                             Modelo 100% presencial   \n",
              "4                             Modelo 100% presencial   \n",
              "\n",
              "                          Forma de trabalho desejada Faixa Salarial_number  \n",
              "0  Modelo híbrido com dias fixos de trabalho pres...                6000.0  \n",
              "1                                 Modelo 100% remoto                8000.0  \n",
              "2                                 Modelo 100% remoto               12000.0  \n",
              "3  Modelo híbrido com dias fixos de trabalho pres...               16000.0  \n",
              "4                                 Modelo 100% remoto               12000.0  \n",
              "\n",
              "[5 rows x 21 columns]"
            ],
            "text/html": [
              "\n",
              "  <div id=\"df-e7616077-a5b7-4616-81e2-ba6a3f8d98a3\">\n",
              "    <div class=\"colab-df-container\">\n",
              "      <div>\n",
              "<style scoped>\n",
              "    .dataframe tbody tr th:only-of-type {\n",
              "        vertical-align: middle;\n",
              "    }\n",
              "\n",
              "    .dataframe tbody tr th {\n",
              "        vertical-align: top;\n",
              "    }\n",
              "\n",
              "    .dataframe thead th {\n",
              "        text-align: right;\n",
              "    }\n",
              "</style>\n",
              "<table border=\"1\" class=\"dataframe\">\n",
              "  <thead>\n",
              "    <tr style=\"text-align: right;\">\n",
              "      <th></th>\n",
              "      <th>Unnamed: 0</th>\n",
              "      <th>Idade</th>\n",
              "      <th>Genero</th>\n",
              "      <th>UF</th>\n",
              "      <th>Regiao_origem</th>\n",
              "      <th>Nivel Ensino</th>\n",
              "      <th>Area Formacao</th>\n",
              "      <th>Situacao Trabalho</th>\n",
              "      <th>Setor</th>\n",
              "      <th>Trabalha como Gestao</th>\n",
              "      <th>...</th>\n",
              "      <th>Cargo Atual</th>\n",
              "      <th>Nivel</th>\n",
              "      <th>Faixa Salarial</th>\n",
              "      <th>Insatisfacao com a Empresa</th>\n",
              "      <th>Tempo XP em Dados</th>\n",
              "      <th>Tempo XP em Software</th>\n",
              "      <th>Criterios de escolha trabalho</th>\n",
              "      <th>Forma de trabalho atual</th>\n",
              "      <th>Forma de trabalho desejada</th>\n",
              "      <th>Faixa Salarial_number</th>\n",
              "    </tr>\n",
              "  </thead>\n",
              "  <tbody>\n",
              "    <tr>\n",
              "      <th>0</th>\n",
              "      <td>0</td>\n",
              "      <td>38.0</td>\n",
              "      <td>Masculino</td>\n",
              "      <td>CE</td>\n",
              "      <td>NaN</td>\n",
              "      <td>Pós-graduação</td>\n",
              "      <td>Química / Física</td>\n",
              "      <td>Empregado (CLT)</td>\n",
              "      <td>Marketing</td>\n",
              "      <td>1.0</td>\n",
              "      <td>...</td>\n",
              "      <td>NaN</td>\n",
              "      <td>Gestor</td>\n",
              "      <td>de R$ 4.001/mês a R$ 6.000/mês</td>\n",
              "      <td>NaN</td>\n",
              "      <td>Mais de 10 anos</td>\n",
              "      <td>Não tive experiência na área de TI/Engenharia ...</td>\n",
              "      <td>Benefícios</td>\n",
              "      <td>Modelo 100% presencial</td>\n",
              "      <td>Modelo híbrido com dias fixos de trabalho pres...</td>\n",
              "      <td>6000.0</td>\n",
              "    </tr>\n",
              "    <tr>\n",
              "      <th>1</th>\n",
              "      <td>1</td>\n",
              "      <td>39.0</td>\n",
              "      <td>Masculino</td>\n",
              "      <td>BA</td>\n",
              "      <td>Sudeste</td>\n",
              "      <td>Pós-graduação</td>\n",
              "      <td>Economia/ Administração / Contabilidade / Fina...</td>\n",
              "      <td>Empreendedor ou Empregado (CNPJ)</td>\n",
              "      <td>Consultoria</td>\n",
              "      <td>1.0</td>\n",
              "      <td>...</td>\n",
              "      <td>NaN</td>\n",
              "      <td>Gestor</td>\n",
              "      <td>de R$ 6.001/mês a R$ 8.000/mês</td>\n",
              "      <td>NaN</td>\n",
              "      <td>de 2 a 3 anos</td>\n",
              "      <td>Não tive experiência na área de TI/Engenharia ...</td>\n",
              "      <td>Flexibilidade de trabalho remoto</td>\n",
              "      <td>Modelo híbrido flexível (o funcionário tem lib...</td>\n",
              "      <td>Modelo 100% remoto</td>\n",
              "      <td>8000.0</td>\n",
              "    </tr>\n",
              "    <tr>\n",
              "      <th>2</th>\n",
              "      <td>2</td>\n",
              "      <td>30.0</td>\n",
              "      <td>Masculino</td>\n",
              "      <td>SC</td>\n",
              "      <td>NaN</td>\n",
              "      <td>Pós-graduação</td>\n",
              "      <td>Computação / Engenharia de Software / Sistemas...</td>\n",
              "      <td>Empregado (CLT)</td>\n",
              "      <td>Indústria</td>\n",
              "      <td>1.0</td>\n",
              "      <td>...</td>\n",
              "      <td>NaN</td>\n",
              "      <td>Gestor</td>\n",
              "      <td>de R$ 8.001/mês a R$ 12.000/mês</td>\n",
              "      <td>O clima de trabalho/ambiente não é bom</td>\n",
              "      <td>de 1 a 2 anos</td>\n",
              "      <td>de 2 a 3 anos</td>\n",
              "      <td>Oportunidade de aprendizado e trabalhar com re...</td>\n",
              "      <td>Modelo 100% presencial</td>\n",
              "      <td>Modelo 100% remoto</td>\n",
              "      <td>12000.0</td>\n",
              "    </tr>\n",
              "    <tr>\n",
              "      <th>3</th>\n",
              "      <td>3</td>\n",
              "      <td>38.0</td>\n",
              "      <td>Feminino</td>\n",
              "      <td>SP</td>\n",
              "      <td>NaN</td>\n",
              "      <td>Pós-graduação</td>\n",
              "      <td>Outras</td>\n",
              "      <td>Empreendedor ou Empregado (CNPJ)</td>\n",
              "      <td>Serviços</td>\n",
              "      <td>1.0</td>\n",
              "      <td>...</td>\n",
              "      <td>NaN</td>\n",
              "      <td>Gestor</td>\n",
              "      <td>de R$ 12.001/mês a R$ 16.000/mês</td>\n",
              "      <td>Falta de maturidade analítica na empresa</td>\n",
              "      <td>Mais de 10 anos</td>\n",
              "      <td>Menos de 1 ano</td>\n",
              "      <td>Propósito do trabalho e da empresa, Flexibilid...</td>\n",
              "      <td>Modelo 100% presencial</td>\n",
              "      <td>Modelo híbrido com dias fixos de trabalho pres...</td>\n",
              "      <td>16000.0</td>\n",
              "    </tr>\n",
              "    <tr>\n",
              "      <th>4</th>\n",
              "      <td>4</td>\n",
              "      <td>36.0</td>\n",
              "      <td>Masculino</td>\n",
              "      <td>SC</td>\n",
              "      <td>NaN</td>\n",
              "      <td>Pós-graduação</td>\n",
              "      <td>Outras Engenharias</td>\n",
              "      <td>Empreendedor ou Empregado (CNPJ)</td>\n",
              "      <td>Varejo</td>\n",
              "      <td>1.0</td>\n",
              "      <td>...</td>\n",
              "      <td>NaN</td>\n",
              "      <td>Gestor</td>\n",
              "      <td>de R$ 8.001/mês a R$ 12.000/mês</td>\n",
              "      <td>Gostaria de trabalhar em em outra área de atua...</td>\n",
              "      <td>de 1 a 2 anos</td>\n",
              "      <td>de 4 a 5 anos</td>\n",
              "      <td>Maturidade da empresa em termos de tecnologia ...</td>\n",
              "      <td>Modelo 100% presencial</td>\n",
              "      <td>Modelo 100% remoto</td>\n",
              "      <td>12000.0</td>\n",
              "    </tr>\n",
              "  </tbody>\n",
              "</table>\n",
              "<p>5 rows × 21 columns</p>\n",
              "</div>\n",
              "      <button class=\"colab-df-convert\" onclick=\"convertToInteractive('df-e7616077-a5b7-4616-81e2-ba6a3f8d98a3')\"\n",
              "              title=\"Convert this dataframe to an interactive table.\"\n",
              "              style=\"display:none;\">\n",
              "        \n",
              "  <svg xmlns=\"http://www.w3.org/2000/svg\" height=\"24px\"viewBox=\"0 0 24 24\"\n",
              "       width=\"24px\">\n",
              "    <path d=\"M0 0h24v24H0V0z\" fill=\"none\"/>\n",
              "    <path d=\"M18.56 5.44l.94 2.06.94-2.06 2.06-.94-2.06-.94-.94-2.06-.94 2.06-2.06.94zm-11 1L8.5 8.5l.94-2.06 2.06-.94-2.06-.94L8.5 2.5l-.94 2.06-2.06.94zm10 10l.94 2.06.94-2.06 2.06-.94-2.06-.94-.94-2.06-.94 2.06-2.06.94z\"/><path d=\"M17.41 7.96l-1.37-1.37c-.4-.4-.92-.59-1.43-.59-.52 0-1.04.2-1.43.59L10.3 9.45l-7.72 7.72c-.78.78-.78 2.05 0 2.83L4 21.41c.39.39.9.59 1.41.59.51 0 1.02-.2 1.41-.59l7.78-7.78 2.81-2.81c.8-.78.8-2.07 0-2.86zM5.41 20L4 18.59l7.72-7.72 1.47 1.35L5.41 20z\"/>\n",
              "  </svg>\n",
              "      </button>\n",
              "      \n",
              "  <style>\n",
              "    .colab-df-container {\n",
              "      display:flex;\n",
              "      flex-wrap:wrap;\n",
              "      gap: 12px;\n",
              "    }\n",
              "\n",
              "    .colab-df-convert {\n",
              "      background-color: #E8F0FE;\n",
              "      border: none;\n",
              "      border-radius: 50%;\n",
              "      cursor: pointer;\n",
              "      display: none;\n",
              "      fill: #1967D2;\n",
              "      height: 32px;\n",
              "      padding: 0 0 0 0;\n",
              "      width: 32px;\n",
              "    }\n",
              "\n",
              "    .colab-df-convert:hover {\n",
              "      background-color: #E2EBFA;\n",
              "      box-shadow: 0px 1px 2px rgba(60, 64, 67, 0.3), 0px 1px 3px 1px rgba(60, 64, 67, 0.15);\n",
              "      fill: #174EA6;\n",
              "    }\n",
              "\n",
              "    [theme=dark] .colab-df-convert {\n",
              "      background-color: #3B4455;\n",
              "      fill: #D2E3FC;\n",
              "    }\n",
              "\n",
              "    [theme=dark] .colab-df-convert:hover {\n",
              "      background-color: #434B5C;\n",
              "      box-shadow: 0px 1px 3px 1px rgba(0, 0, 0, 0.15);\n",
              "      filter: drop-shadow(0px 1px 2px rgba(0, 0, 0, 0.3));\n",
              "      fill: #FFFFFF;\n",
              "    }\n",
              "  </style>\n",
              "\n",
              "      <script>\n",
              "        const buttonEl =\n",
              "          document.querySelector('#df-e7616077-a5b7-4616-81e2-ba6a3f8d98a3 button.colab-df-convert');\n",
              "        buttonEl.style.display =\n",
              "          google.colab.kernel.accessAllowed ? 'block' : 'none';\n",
              "\n",
              "        async function convertToInteractive(key) {\n",
              "          const element = document.querySelector('#df-e7616077-a5b7-4616-81e2-ba6a3f8d98a3');\n",
              "          const dataTable =\n",
              "            await google.colab.kernel.invokeFunction('convertToInteractive',\n",
              "                                                     [key], {});\n",
              "          if (!dataTable) return;\n",
              "\n",
              "          const docLinkHtml = 'Like what you see? Visit the ' +\n",
              "            '<a target=\"_blank\" href=https://colab.research.google.com/notebooks/data_table.ipynb>data table notebook</a>'\n",
              "            + ' to learn more about interactive tables.';\n",
              "          element.innerHTML = '';\n",
              "          dataTable['output_type'] = 'display_data';\n",
              "          await google.colab.output.renderOutput(dataTable, element);\n",
              "          const docLink = document.createElement('div');\n",
              "          docLink.innerHTML = docLinkHtml;\n",
              "          element.appendChild(docLink);\n",
              "        }\n",
              "      </script>\n",
              "    </div>\n",
              "  </div>\n",
              "  "
            ]
          },
          "metadata": {},
          "execution_count": 3
        }
      ]
    },
    {
      "cell_type": "code",
      "source": [
        "df.columns"
      ],
      "metadata": {
        "colab": {
          "base_uri": "https://localhost:8080/"
        },
        "id": "TPgDolwcNwOh",
        "outputId": "47853470-f75b-40b2-9b3e-44bf5825ec02"
      },
      "execution_count": 4,
      "outputs": [
        {
          "output_type": "execute_result",
          "data": {
            "text/plain": [
              "Index(['Unnamed: 0', 'Idade', 'Genero', 'UF', 'Regiao_origem', 'Nivel Ensino',\n",
              "       'Area Formacao', 'Situacao Trabalho', 'Setor', 'Trabalha como Gestao',\n",
              "       'Cargo como Gestor(a)', 'Cargo Atual', 'Nivel', 'Faixa Salarial',\n",
              "       'Insatisfacao com a Empresa', 'Tempo XP em Dados',\n",
              "       'Tempo XP em Software', 'Criterios de escolha trabalho',\n",
              "       'Forma de trabalho atual', 'Forma de trabalho desejada',\n",
              "       'Faixa Salarial_number'],\n",
              "      dtype='object')"
            ]
          },
          "metadata": {},
          "execution_count": 4
        }
      ]
    },
    {
      "cell_type": "code",
      "source": [
        "df.shape"
      ],
      "metadata": {
        "colab": {
          "base_uri": "https://localhost:8080/"
        },
        "id": "t-zdab-CFWL9",
        "outputId": "2a99cdd5-cbf3-43f3-e20f-ded0049650e6"
      },
      "execution_count": 5,
      "outputs": [
        {
          "output_type": "execute_result",
          "data": {
            "text/plain": [
              "(2365, 21)"
            ]
          },
          "metadata": {},
          "execution_count": 5
        }
      ]
    },
    {
      "cell_type": "markdown",
      "source": [
        "## Análises gráficas iniciais"
      ],
      "metadata": {
        "id": "WmCnAMJeLlyV"
      }
    },
    {
      "cell_type": "code",
      "source": [
        "df.Genero.value_counts()"
      ],
      "metadata": {
        "colab": {
          "base_uri": "https://localhost:8080/"
        },
        "id": "zum07uyWJYfy",
        "outputId": "da696c59-55be-40bb-b51d-4799c0c7e890"
      },
      "execution_count": 6,
      "outputs": [
        {
          "output_type": "execute_result",
          "data": {
            "text/plain": [
              "Masculino    1924\n",
              "Feminino      436\n",
              "Outro           5\n",
              "Name: Genero, dtype: int64"
            ]
          },
          "metadata": {},
          "execution_count": 6
        }
      ]
    },
    {
      "cell_type": "code",
      "source": [
        "plt.bar(df.Genero.unique(), df.Genero.value_counts())\n",
        "plt.title('Distribuição de Gênero na Área de Dados')\n",
        "plt.xlabel('Gênero')\n",
        "plt.ylabel('Total');"
      ],
      "metadata": {
        "colab": {
          "base_uri": "https://localhost:8080/",
          "height": 297
        },
        "id": "D8-vQvHuLwVu",
        "outputId": "79b70ed8-7986-4679-be75-01987bc6bd89"
      },
      "execution_count": 7,
      "outputs": [
        {
          "output_type": "display_data",
          "data": {
            "text/plain": [
              "<Figure size 432x288 with 1 Axes>"
            ],
            "image/png": "[encoded data removed]"
          },
          "metadata": {
            "needs_background": "light"
          }
        }
      ]
    },
    {
      "cell_type": "code",
      "source": [
        "sns.countplot(y='Genero',\n",
        "              data=df,\n",
        "              palette='inferno',\n",
        "              order=df['Genero'].value_counts().index) \\\n",
        ".set_title(\"Distribuição de Genero na Área de Dados\");"
      ],
      "metadata": {
        "colab": {
          "base_uri": "https://localhost:8080/",
          "height": 297
        },
        "id": "wzUrnMeIMKGM",
        "outputId": "05bfdf23-549d-4f5d-96c6-99f1e772bd3c"
      },
      "execution_count": 8,
      "outputs": [
        {
          "output_type": "display_data",
          "data": {
            "text/plain": [
              "<Figure size 432x288 with 1 Axes>"
            ],
            "image/png": "[encoded data removed]"
          },
          "metadata": {
            "needs_background": "light"
          }
        }
      ]
    },
    {
      "cell_type": "markdown",
      "source": [
        "## Verificando a distribuição de cargos"
      ],
      "metadata": {
        "id": "stnDaybXM_l7"
      }
    },
    {
      "cell_type": "code",
      "source": [
        "job_role = df.groupby('Genero')['Cargo Atual'].value_counts()\n",
        "job_role.head()"
      ],
      "metadata": {
        "colab": {
          "base_uri": "https://localhost:8080/"
        },
        "id": "WLdARV1sM5o6",
        "outputId": "3d6a4dff-9f6c-4476-8f8d-573e307d4216"
      },
      "execution_count": 9,
      "outputs": [
        {
          "output_type": "execute_result",
          "data": {
            "text/plain": [
              "Genero    Cargo Atual                                 \n",
              "Feminino  Analista de Dados/Data Analyst                  83\n",
              "          Cientista de Dados/Data Scientist               68\n",
              "          Analista de BI/BI Analyst/Analytics Engineer    67\n",
              "          Engenheiro de Dados/Data Engineer               40\n",
              "          Analista de Negócios/Business Analyst           25\n",
              "Name: Cargo Atual, dtype: int64"
            ]
          },
          "metadata": {},
          "execution_count": 9
        }
      ]
    },
    {
      "cell_type": "code",
      "source": [
        "job_role = job_role.reset_index(name='Total')\n",
        "sort_job_role = job_role.sort_values(by='Total', ascending=False)\n",
        "sort_job_role.head(20)"
      ],
      "metadata": {
        "colab": {
          "base_uri": "https://localhost:8080/",
          "height": 677
        },
        "id": "aQTdX48ir7k6",
        "outputId": "228edb27-54cd-4289-a34f-47e7266808eb"
      },
      "execution_count": 10,
      "outputs": [
        {
          "output_type": "execute_result",
          "data": {
            "text/plain": [
              "       Genero                                        Cargo Atual  Total\n",
              "19  Masculino                  Cientista de Dados/Data Scientist    289\n",
              "20  Masculino       Analista de BI/BI Analyst/Analytics Engineer    271\n",
              "21  Masculino                  Engenheiro de Dados/Data Engineer    259\n",
              "22  Masculino                     Analista de Dados/Data Analyst    241\n",
              "23  Masculino                                              Outro     90\n",
              "0    Feminino                     Analista de Dados/Data Analyst     83\n",
              "24  Masculino            Desenvolvedor ou Engenheiro de Software     77\n",
              "25  Masculino              Analista de Negócios/Business Analyst     71\n",
              "1    Feminino                  Cientista de Dados/Data Scientist     68\n",
              "2    Feminino       Analista de BI/BI Analyst/Analytics Engineer     67\n",
              "3    Feminino                  Engenheiro de Dados/Data Engineer     40\n",
              "26  Masculino         Engenheiro de Machine Learning/ML Engineer     39\n",
              "27  Masculino                Outras Engenharias (não inclui dev)     29\n",
              "4    Feminino              Analista de Negócios/Business Analyst     25\n",
              "5    Feminino                                              Outro     23\n",
              "28  Masculino                                        Estatístico     16\n",
              "31  Masculino                DBA/Administrador de Banco de Dados     13\n",
              "30  Masculino                Analista de Sistemas/Analista de TI     13\n",
              "29  Masculino  Analista de Inteligência de Mercado/Market Int...     13\n",
              "6    Feminino            Desenvolvedor ou Engenheiro de Software     13"
            ],
            "text/html": [
              "\n",
              "  <div id=\"df-e0c93ff7-55ec-42a4-a803-1cc6e6e73b98\">\n",
              "    <div class=\"colab-df-container\">\n",
              "      <div>\n",
              "<style scoped>\n",
              "    .dataframe tbody tr th:only-of-type {\n",
              "        vertical-align: middle;\n",
              "    }\n",
              "\n",
              "    .dataframe tbody tr th {\n",
              "        vertical-align: top;\n",
              "    }\n",
              "\n",
              "    .dataframe thead th {\n",
              "        text-align: right;\n",
              "    }\n",
              "</style>\n",
              "<table border=\"1\" class=\"dataframe\">\n",
              "  <thead>\n",
              "    <tr style=\"text-align: right;\">\n",
              "      <th></th>\n",
              "      <th>Genero</th>\n",
              "      <th>Cargo Atual</th>\n",
              "      <th>Total</th>\n",
              "    </tr>\n",
              "  </thead>\n",
              "  <tbody>\n",
              "    <tr>\n",
              "      <th>19</th>\n",
              "      <td>Masculino</td>\n",
              "      <td>Cientista de Dados/Data Scientist</td>\n",
              "      <td>289</td>\n",
              "    </tr>\n",
              "    <tr>\n",
              "      <th>20</th>\n",
              "      <td>Masculino</td>\n",
              "      <td>Analista de BI/BI Analyst/Analytics Engineer</td>\n",
              "      <td>271</td>\n",
              "    </tr>\n",
              "    <tr>\n",
              "      <th>21</th>\n",
              "      <td>Masculino</td>\n",
              "      <td>Engenheiro de Dados/Data Engineer</td>\n",
              "      <td>259</td>\n",
              "    </tr>\n",
              "    <tr>\n",
              "      <th>22</th>\n",
              "      <td>Masculino</td>\n",
              "      <td>Analista de Dados/Data Analyst</td>\n",
              "      <td>241</td>\n",
              "    </tr>\n",
              "    <tr>\n",
              "      <th>23</th>\n",
              "      <td>Masculino</td>\n",
              "      <td>Outro</td>\n",
              "      <td>90</td>\n",
              "    </tr>\n",
              "    <tr>\n",
              "      <th>0</th>\n",
              "      <td>Feminino</td>\n",
              "      <td>Analista de Dados/Data Analyst</td>\n",
              "      <td>83</td>\n",
              "    </tr>\n",
              "    <tr>\n",
              "      <th>24</th>\n",
              "      <td>Masculino</td>\n",
              "      <td>Desenvolvedor ou Engenheiro de Software</td>\n",
              "      <td>77</td>\n",
              "    </tr>\n",
              "    <tr>\n",
              "      <th>25</th>\n",
              "      <td>Masculino</td>\n",
              "      <td>Analista de Negócios/Business Analyst</td>\n",
              "      <td>71</td>\n",
              "    </tr>\n",
              "    <tr>\n",
              "      <th>1</th>\n",
              "      <td>Feminino</td>\n",
              "      <td>Cientista de Dados/Data Scientist</td>\n",
              "      <td>68</td>\n",
              "    </tr>\n",
              "    <tr>\n",
              "      <th>2</th>\n",
              "      <td>Feminino</td>\n",
              "      <td>Analista de BI/BI Analyst/Analytics Engineer</td>\n",
              "      <td>67</td>\n",
              "    </tr>\n",
              "    <tr>\n",
              "      <th>3</th>\n",
              "      <td>Feminino</td>\n",
              "      <td>Engenheiro de Dados/Data Engineer</td>\n",
              "      <td>40</td>\n",
              "    </tr>\n",
              "    <tr>\n",
              "      <th>26</th>\n",
              "      <td>Masculino</td>\n",
              "      <td>Engenheiro de Machine Learning/ML Engineer</td>\n",
              "      <td>39</td>\n",
              "    </tr>\n",
              "    <tr>\n",
              "      <th>27</th>\n",
              "      <td>Masculino</td>\n",
              "      <td>Outras Engenharias (não inclui dev)</td>\n",
              "      <td>29</td>\n",
              "    </tr>\n",
              "    <tr>\n",
              "      <th>4</th>\n",
              "      <td>Feminino</td>\n",
              "      <td>Analista de Negócios/Business Analyst</td>\n",
              "      <td>25</td>\n",
              "    </tr>\n",
              "    <tr>\n",
              "      <th>5</th>\n",
              "      <td>Feminino</td>\n",
              "      <td>Outro</td>\n",
              "      <td>23</td>\n",
              "    </tr>\n",
              "    <tr>\n",
              "      <th>28</th>\n",
              "      <td>Masculino</td>\n",
              "      <td>Estatístico</td>\n",
              "      <td>16</td>\n",
              "    </tr>\n",
              "    <tr>\n",
              "      <th>31</th>\n",
              "      <td>Masculino</td>\n",
              "      <td>DBA/Administrador de Banco de Dados</td>\n",
              "      <td>13</td>\n",
              "    </tr>\n",
              "    <tr>\n",
              "      <th>30</th>\n",
              "      <td>Masculino</td>\n",
              "      <td>Analista de Sistemas/Analista de TI</td>\n",
              "      <td>13</td>\n",
              "    </tr>\n",
              "    <tr>\n",
              "      <th>29</th>\n",
              "      <td>Masculino</td>\n",
              "      <td>Analista de Inteligência de Mercado/Market Int...</td>\n",
              "      <td>13</td>\n",
              "    </tr>\n",
              "    <tr>\n",
              "      <th>6</th>\n",
              "      <td>Feminino</td>\n",
              "      <td>Desenvolvedor ou Engenheiro de Software</td>\n",
              "      <td>13</td>\n",
              "    </tr>\n",
              "  </tbody>\n",
              "</table>\n",
              "</div>\n",
              "      <button class=\"colab-df-convert\" onclick=\"convertToInteractive('df-e0c93ff7-55ec-42a4-a803-1cc6e6e73b98')\"\n",
              "              title=\"Convert this dataframe to an interactive table.\"\n",
              "              style=\"display:none;\">\n",
              "        \n",
              "  <svg xmlns=\"http://www.w3.org/2000/svg\" height=\"24px\"viewBox=\"0 0 24 24\"\n",
              "       width=\"24px\">\n",
              "    <path d=\"M0 0h24v24H0V0z\" fill=\"none\"/>\n",
              "    <path d=\"M18.56 5.44l.94 2.06.94-2.06 2.06-.94-2.06-.94-.94-2.06-.94 2.06-2.06.94zm-11 1L8.5 8.5l.94-2.06 2.06-.94-2.06-.94L8.5 2.5l-.94 2.06-2.06.94zm10 10l.94 2.06.94-2.06 2.06-.94-2.06-.94-.94-2.06-.94 2.06-2.06.94z\"/><path d=\"M17.41 7.96l-1.37-1.37c-.4-.4-.92-.59-1.43-.59-.52 0-1.04.2-1.43.59L10.3 9.45l-7.72 7.72c-.78.78-.78 2.05 0 2.83L4 21.41c.39.39.9.59 1.41.59.51 0 1.02-.2 1.41-.59l7.78-7.78 2.81-2.81c.8-.78.8-2.07 0-2.86zM5.41 20L4 18.59l7.72-7.72 1.47 1.35L5.41 20z\"/>\n",
              "  </svg>\n",
              "      </button>\n",
              "      \n",
              "  <style>\n",
              "    .colab-df-container {\n",
              "      display:flex;\n",
              "      flex-wrap:wrap;\n",
              "      gap: 12px;\n",
              "    }\n",
              "\n",
              "    .colab-df-convert {\n",
              "      background-color: #E8F0FE;\n",
              "      border: none;\n",
              "      border-radius: 50%;\n",
              "      cursor: pointer;\n",
              "      display: none;\n",
              "      fill: #1967D2;\n",
              "      height: 32px;\n",
              "      padding: 0 0 0 0;\n",
              "      width: 32px;\n",
              "    }\n",
              "\n",
              "    .colab-df-convert:hover {\n",
              "      background-color: #E2EBFA;\n",
              "      box-shadow: 0px 1px 2px rgba(60, 64, 67, 0.3), 0px 1px 3px 1px rgba(60, 64, 67, 0.15);\n",
              "      fill: #174EA6;\n",
              "    }\n",
              "\n",
              "    [theme=dark] .colab-df-convert {\n",
              "      background-color: #3B4455;\n",
              "      fill: #D2E3FC;\n",
              "    }\n",
              "\n",
              "    [theme=dark] .colab-df-convert:hover {\n",
              "      background-color: #434B5C;\n",
              "      box-shadow: 0px 1px 3px 1px rgba(0, 0, 0, 0.15);\n",
              "      filter: drop-shadow(0px 1px 2px rgba(0, 0, 0, 0.3));\n",
              "      fill: #FFFFFF;\n",
              "    }\n",
              "  </style>\n",
              "\n",
              "      <script>\n",
              "        const buttonEl =\n",
              "          document.querySelector('#df-e0c93ff7-55ec-42a4-a803-1cc6e6e73b98 button.colab-df-convert');\n",
              "        buttonEl.style.display =\n",
              "          google.colab.kernel.accessAllowed ? 'block' : 'none';\n",
              "\n",
              "        async function convertToInteractive(key) {\n",
              "          const element = document.querySelector('#df-e0c93ff7-55ec-42a4-a803-1cc6e6e73b98');\n",
              "          const dataTable =\n",
              "            await google.colab.kernel.invokeFunction('convertToInteractive',\n",
              "                                                     [key], {});\n",
              "          if (!dataTable) return;\n",
              "\n",
              "          const docLinkHtml = 'Like what you see? Visit the ' +\n",
              "            '<a target=\"_blank\" href=https://colab.research.google.com/notebooks/data_table.ipynb>data table notebook</a>'\n",
              "            + ' to learn more about interactive tables.';\n",
              "          element.innerHTML = '';\n",
              "          dataTable['output_type'] = 'display_data';\n",
              "          await google.colab.output.renderOutput(dataTable, element);\n",
              "          const docLink = document.createElement('div');\n",
              "          docLink.innerHTML = docLinkHtml;\n",
              "          element.appendChild(docLink);\n",
              "        }\n",
              "      </script>\n",
              "    </div>\n",
              "  </div>\n",
              "  "
            ]
          },
          "metadata": {},
          "execution_count": 10
        }
      ]
    },
    {
      "cell_type": "code",
      "source": [
        "feminine = df.query(\"Genero == 'Feminino'\")[\"Cargo Atual\"].value_counts(normalize=True)\n",
        "masculine = df.query(\"Genero == 'Masculino'\")[\"Cargo Atual\"].value_counts(normalize=True)\n",
        "\n",
        "job_role_fig = pd.DataFrame({'Feminino': feminine,\n",
        "                                'Masculino': masculine})\n",
        "job_role_fig.plot.barh(figsize=(20,14))\n",
        "plt.title('Distribuição de gênero por cargo atual', fontsize=18);"
      ],
      "metadata": {
        "colab": {
          "base_uri": "https://localhost:8080/",
          "height": 731
        },
        "id": "DCgXLkvVnaeR",
        "outputId": "6e5056a1-7f2a-467a-d155-f5b36bf432c0"
      },
      "execution_count": 11,
      "outputs": [
        {
          "output_type": "display_data",
          "data": {
            "text/plain": [
              "<Figure size 1440x1008 with 1 Axes>"
            ],
            "image/png": "[encoded data removed]"
          },
          "metadata": {
            "needs_background": "light"
          }
        }
      ]
    },
    {
      "cell_type": "markdown",
      "source": [
        "## Verificando a distribuição de nível por gênero"
      ],
      "metadata": {
        "id": "0p7eVAvwNNX0"
      }
    },
    {
      "cell_type": "code",
      "source": [
        "tmp = df.groupby('Genero')['Nivel'].value_counts()\n",
        "tmp.head()"
      ],
      "metadata": {
        "colab": {
          "base_uri": "https://localhost:8080/"
        },
        "id": "gA1v7EHENSSL",
        "outputId": "cd605b2d-86d0-4f0e-ebbf-178d299ec3fa"
      },
      "execution_count": 12,
      "outputs": [
        {
          "output_type": "execute_result",
          "data": {
            "text/plain": [
              "Genero     Nivel \n",
              "Feminino   Júnior    144\n",
              "           Pleno     131\n",
              "           Sênior     94\n",
              "           Gestor     67\n",
              "Masculino  Pleno     525\n",
              "Name: Nivel, dtype: int64"
            ]
          },
          "metadata": {},
          "execution_count": 12
        }
      ]
    },
    {
      "cell_type": "code",
      "source": [
        "tmp = tmp.reset_index(name='total')\n",
        "tmp.head()"
      ],
      "metadata": {
        "colab": {
          "base_uri": "https://localhost:8080/",
          "height": 206
        },
        "id": "PpeVFOiEpoJt",
        "outputId": "2cf779b8-ebc2-4938-ce01-6410ec2e95f0"
      },
      "execution_count": 13,
      "outputs": [
        {
          "output_type": "execute_result",
          "data": {
            "text/plain": [
              "      Genero   Nivel  total\n",
              "0   Feminino  Júnior    144\n",
              "1   Feminino   Pleno    131\n",
              "2   Feminino  Sênior     94\n",
              "3   Feminino  Gestor     67\n",
              "4  Masculino   Pleno    525"
            ],
            "text/html": [
              "\n",
              "  <div id=\"df-6281fa5b-33e5-4c4f-bb67-08c807170607\">\n",
              "    <div class=\"colab-df-container\">\n",
              "      <div>\n",
              "<style scoped>\n",
              "    .dataframe tbody tr th:only-of-type {\n",
              "        vertical-align: middle;\n",
              "    }\n",
              "\n",
              "    .dataframe tbody tr th {\n",
              "        vertical-align: top;\n",
              "    }\n",
              "\n",
              "    .dataframe thead th {\n",
              "        text-align: right;\n",
              "    }\n",
              "</style>\n",
              "<table border=\"1\" class=\"dataframe\">\n",
              "  <thead>\n",
              "    <tr style=\"text-align: right;\">\n",
              "      <th></th>\n",
              "      <th>Genero</th>\n",
              "      <th>Nivel</th>\n",
              "      <th>total</th>\n",
              "    </tr>\n",
              "  </thead>\n",
              "  <tbody>\n",
              "    <tr>\n",
              "      <th>0</th>\n",
              "      <td>Feminino</td>\n",
              "      <td>Júnior</td>\n",
              "      <td>144</td>\n",
              "    </tr>\n",
              "    <tr>\n",
              "      <th>1</th>\n",
              "      <td>Feminino</td>\n",
              "      <td>Pleno</td>\n",
              "      <td>131</td>\n",
              "    </tr>\n",
              "    <tr>\n",
              "      <th>2</th>\n",
              "      <td>Feminino</td>\n",
              "      <td>Sênior</td>\n",
              "      <td>94</td>\n",
              "    </tr>\n",
              "    <tr>\n",
              "      <th>3</th>\n",
              "      <td>Feminino</td>\n",
              "      <td>Gestor</td>\n",
              "      <td>67</td>\n",
              "    </tr>\n",
              "    <tr>\n",
              "      <th>4</th>\n",
              "      <td>Masculino</td>\n",
              "      <td>Pleno</td>\n",
              "      <td>525</td>\n",
              "    </tr>\n",
              "  </tbody>\n",
              "</table>\n",
              "</div>\n",
              "      <button class=\"colab-df-convert\" onclick=\"convertToInteractive('df-6281fa5b-33e5-4c4f-bb67-08c807170607')\"\n",
              "              title=\"Convert this dataframe to an interactive table.\"\n",
              "              style=\"display:none;\">\n",
              "        \n",
              "  <svg xmlns=\"http://www.w3.org/2000/svg\" height=\"24px\"viewBox=\"0 0 24 24\"\n",
              "       width=\"24px\">\n",
              "    <path d=\"M0 0h24v24H0V0z\" fill=\"none\"/>\n",
              "    <path d=\"M18.56 5.44l.94 2.06.94-2.06 2.06-.94-2.06-.94-.94-2.06-.94 2.06-2.06.94zm-11 1L8.5 8.5l.94-2.06 2.06-.94-2.06-.94L8.5 2.5l-.94 2.06-2.06.94zm10 10l.94 2.06.94-2.06 2.06-.94-2.06-.94-.94-2.06-.94 2.06-2.06.94z\"/><path d=\"M17.41 7.96l-1.37-1.37c-.4-.4-.92-.59-1.43-.59-.52 0-1.04.2-1.43.59L10.3 9.45l-7.72 7.72c-.78.78-.78 2.05 0 2.83L4 21.41c.39.39.9.59 1.41.59.51 0 1.02-.2 1.41-.59l7.78-7.78 2.81-2.81c.8-.78.8-2.07 0-2.86zM5.41 20L4 18.59l7.72-7.72 1.47 1.35L5.41 20z\"/>\n",
              "  </svg>\n",
              "      </button>\n",
              "      \n",
              "  <style>\n",
              "    .colab-df-container {\n",
              "      display:flex;\n",
              "      flex-wrap:wrap;\n",
              "      gap: 12px;\n",
              "    }\n",
              "\n",
              "    .colab-df-convert {\n",
              "      background-color: #E8F0FE;\n",
              "      border: none;\n",
              "      border-radius: 50%;\n",
              "      cursor: pointer;\n",
              "      display: none;\n",
              "      fill: #1967D2;\n",
              "      height: 32px;\n",
              "      padding: 0 0 0 0;\n",
              "      width: 32px;\n",
              "    }\n",
              "\n",
              "    .colab-df-convert:hover {\n",
              "      background-color: #E2EBFA;\n",
              "      box-shadow: 0px 1px 2px rgba(60, 64, 67, 0.3), 0px 1px 3px 1px rgba(60, 64, 67, 0.15);\n",
              "      fill: #174EA6;\n",
              "    }\n",
              "\n",
              "    [theme=dark] .colab-df-convert {\n",
              "      background-color: #3B4455;\n",
              "      fill: #D2E3FC;\n",
              "    }\n",
              "\n",
              "    [theme=dark] .colab-df-convert:hover {\n",
              "      background-color: #434B5C;\n",
              "      box-shadow: 0px 1px 3px 1px rgba(0, 0, 0, 0.15);\n",
              "      filter: drop-shadow(0px 1px 2px rgba(0, 0, 0, 0.3));\n",
              "      fill: #FFFFFF;\n",
              "    }\n",
              "  </style>\n",
              "\n",
              "      <script>\n",
              "        const buttonEl =\n",
              "          document.querySelector('#df-6281fa5b-33e5-4c4f-bb67-08c807170607 button.colab-df-convert');\n",
              "        buttonEl.style.display =\n",
              "          google.colab.kernel.accessAllowed ? 'block' : 'none';\n",
              "\n",
              "        async function convertToInteractive(key) {\n",
              "          const element = document.querySelector('#df-6281fa5b-33e5-4c4f-bb67-08c807170607');\n",
              "          const dataTable =\n",
              "            await google.colab.kernel.invokeFunction('convertToInteractive',\n",
              "                                                     [key], {});\n",
              "          if (!dataTable) return;\n",
              "\n",
              "          const docLinkHtml = 'Like what you see? Visit the ' +\n",
              "            '<a target=\"_blank\" href=https://colab.research.google.com/notebooks/data_table.ipynb>data table notebook</a>'\n",
              "            + ' to learn more about interactive tables.';\n",
              "          element.innerHTML = '';\n",
              "          dataTable['output_type'] = 'display_data';\n",
              "          await google.colab.output.renderOutput(dataTable, element);\n",
              "          const docLink = document.createElement('div');\n",
              "          docLink.innerHTML = docLinkHtml;\n",
              "          element.appendChild(docLink);\n",
              "        }\n",
              "      </script>\n",
              "    </div>\n",
              "  </div>\n",
              "  "
            ]
          },
          "metadata": {},
          "execution_count": 13
        }
      ]
    },
    {
      "cell_type": "code",
      "source": [
        "plt.figure(figsize=(20,10))\n",
        "sns.barplot(x='Nivel',\n",
        "            y='total',\n",
        "            hue='Genero',\n",
        "            data=tmp,\n",
        "            hue_order=['Masculino', 'Feminino', 'Outro'],\n",
        "            palette='inferno');"
      ],
      "metadata": {
        "colab": {
          "base_uri": "https://localhost:8080/",
          "height": 606
        },
        "id": "Mdj4PYPfrC5v",
        "outputId": "5d635b54-4829-4f28-cfa5-47ad266cf614"
      },
      "execution_count": 14,
      "outputs": [
        {
          "output_type": "display_data",
          "data": {
            "text/plain": [
              "<Figure size 1440x720 with 1 Axes>"
            ],
            "image/png": "[encoded data removed]"
          },
          "metadata": {
            "needs_background": "light"
          }
        }
      ]
    },
    {
      "cell_type": "markdown",
      "source": [
        "## Analisando os salários"
      ],
      "metadata": {
        "id": "9xDPEGkHtyb4"
      }
    },
    {
      "cell_type": "code",
      "source": [
        "df['Faixa Salarial_number'].hist();"
      ],
      "metadata": {
        "colab": {
          "base_uri": "https://localhost:8080/",
          "height": 265
        },
        "id": "EfN3SMXbrYMQ",
        "outputId": "20462ee0-0324-4a2f-9f58-de320dd679aa"
      },
      "execution_count": 15,
      "outputs": [
        {
          "output_type": "display_data",
          "data": {
            "text/plain": [
              "<Figure size 432x288 with 1 Axes>"
            ],
            "image/png": "[encoded data removed]"
          },
          "metadata": {
            "needs_background": "light"
          }
        }
      ]
    },
    {
      "cell_type": "markdown",
      "source": [
        "## Grafico de gênero vs salário"
      ],
      "metadata": {
        "id": "nJT4uyYRt8dj"
      }
    },
    {
      "cell_type": "code",
      "source": [
        "df2 = df[df['Cargo Atual'].str.contains('Cientista de Dados', na=False)]"
      ],
      "metadata": {
        "id": "ayFPkBg8t51D"
      },
      "execution_count": 16,
      "outputs": []
    },
    {
      "cell_type": "code",
      "source": [
        "tmp = df2.groupby(['Genero', 'Nivel'])['Faixa Salarial_number'].mean()"
      ],
      "metadata": {
        "id": "o1sXbwz6uV7g"
      },
      "execution_count": 17,
      "outputs": []
    },
    {
      "cell_type": "code",
      "source": [
        "tmp.head()"
      ],
      "metadata": {
        "colab": {
          "base_uri": "https://localhost:8080/"
        },
        "id": "Pkbd7AbKuaMB",
        "outputId": "14980b13-5a02-4ec0-cb8d-66f4119a7801"
      },
      "execution_count": 18,
      "outputs": [
        {
          "output_type": "execute_result",
          "data": {
            "text/plain": [
              "Genero     Nivel \n",
              "Feminino   Júnior     5615.384615\n",
              "           Pleno      9600.000000\n",
              "           Sênior    13882.352941\n",
              "Masculino  Júnior     5247.191011\n",
              "           Pleno     10896.825397\n",
              "Name: Faixa Salarial_number, dtype: float64"
            ]
          },
          "metadata": {},
          "execution_count": 18
        }
      ]
    },
    {
      "cell_type": "code",
      "source": [
        "tmp = tmp.reset_index(name='Salario Medio')\n",
        "tmp.head()"
      ],
      "metadata": {
        "colab": {
          "base_uri": "https://localhost:8080/",
          "height": 206
        },
        "id": "sLuQKXI9ucdk",
        "outputId": "5c866012-51af-4a95-9634-e454f9a63600"
      },
      "execution_count": 19,
      "outputs": [
        {
          "output_type": "execute_result",
          "data": {
            "text/plain": [
              "      Genero   Nivel  Salario Medio\n",
              "0   Feminino  Júnior    5615.384615\n",
              "1   Feminino   Pleno    9600.000000\n",
              "2   Feminino  Sênior   13882.352941\n",
              "3  Masculino  Júnior    5247.191011\n",
              "4  Masculino   Pleno   10896.825397"
            ],
            "text/html": [
              "\n",
              "  <div id=\"df-0f1d2c69-c4fa-4373-9625-e0f762f43170\">\n",
              "    <div class=\"colab-df-container\">\n",
              "      <div>\n",
              "<style scoped>\n",
              "    .dataframe tbody tr th:only-of-type {\n",
              "        vertical-align: middle;\n",
              "    }\n",
              "\n",
              "    .dataframe tbody tr th {\n",
              "        vertical-align: top;\n",
              "    }\n",
              "\n",
              "    .dataframe thead th {\n",
              "        text-align: right;\n",
              "    }\n",
              "</style>\n",
              "<table border=\"1\" class=\"dataframe\">\n",
              "  <thead>\n",
              "    <tr style=\"text-align: right;\">\n",
              "      <th></th>\n",
              "      <th>Genero</th>\n",
              "      <th>Nivel</th>\n",
              "      <th>Salario Medio</th>\n",
              "    </tr>\n",
              "  </thead>\n",
              "  <tbody>\n",
              "    <tr>\n",
              "      <th>0</th>\n",
              "      <td>Feminino</td>\n",
              "      <td>Júnior</td>\n",
              "      <td>5615.384615</td>\n",
              "    </tr>\n",
              "    <tr>\n",
              "      <th>1</th>\n",
              "      <td>Feminino</td>\n",
              "      <td>Pleno</td>\n",
              "      <td>9600.000000</td>\n",
              "    </tr>\n",
              "    <tr>\n",
              "      <th>2</th>\n",
              "      <td>Feminino</td>\n",
              "      <td>Sênior</td>\n",
              "      <td>13882.352941</td>\n",
              "    </tr>\n",
              "    <tr>\n",
              "      <th>3</th>\n",
              "      <td>Masculino</td>\n",
              "      <td>Júnior</td>\n",
              "      <td>5247.191011</td>\n",
              "    </tr>\n",
              "    <tr>\n",
              "      <th>4</th>\n",
              "      <td>Masculino</td>\n",
              "      <td>Pleno</td>\n",
              "      <td>10896.825397</td>\n",
              "    </tr>\n",
              "  </tbody>\n",
              "</table>\n",
              "</div>\n",
              "      <button class=\"colab-df-convert\" onclick=\"convertToInteractive('df-0f1d2c69-c4fa-4373-9625-e0f762f43170')\"\n",
              "              title=\"Convert this dataframe to an interactive table.\"\n",
              "              style=\"display:none;\">\n",
              "        \n",
              "  <svg xmlns=\"http://www.w3.org/2000/svg\" height=\"24px\"viewBox=\"0 0 24 24\"\n",
              "       width=\"24px\">\n",
              "    <path d=\"M0 0h24v24H0V0z\" fill=\"none\"/>\n",
              "    <path d=\"M18.56 5.44l.94 2.06.94-2.06 2.06-.94-2.06-.94-.94-2.06-.94 2.06-2.06.94zm-11 1L8.5 8.5l.94-2.06 2.06-.94-2.06-.94L8.5 2.5l-.94 2.06-2.06.94zm10 10l.94 2.06.94-2.06 2.06-.94-2.06-.94-.94-2.06-.94 2.06-2.06.94z\"/><path d=\"M17.41 7.96l-1.37-1.37c-.4-.4-.92-.59-1.43-.59-.52 0-1.04.2-1.43.59L10.3 9.45l-7.72 7.72c-.78.78-.78 2.05 0 2.83L4 21.41c.39.39.9.59 1.41.59.51 0 1.02-.2 1.41-.59l7.78-7.78 2.81-2.81c.8-.78.8-2.07 0-2.86zM5.41 20L4 18.59l7.72-7.72 1.47 1.35L5.41 20z\"/>\n",
              "  </svg>\n",
              "      </button>\n",
              "      \n",
              "  <style>\n",
              "    .colab-df-container {\n",
              "      display:flex;\n",
              "      flex-wrap:wrap;\n",
              "      gap: 12px;\n",
              "    }\n",
              "\n",
              "    .colab-df-convert {\n",
              "      background-color: #E8F0FE;\n",
              "      border: none;\n",
              "      border-radius: 50%;\n",
              "      cursor: pointer;\n",
              "      display: none;\n",
              "      fill: #1967D2;\n",
              "      height: 32px;\n",
              "      padding: 0 0 0 0;\n",
              "      width: 32px;\n",
              "    }\n",
              "\n",
              "    .colab-df-convert:hover {\n",
              "      background-color: #E2EBFA;\n",
              "      box-shadow: 0px 1px 2px rgba(60, 64, 67, 0.3), 0px 1px 3px 1px rgba(60, 64, 67, 0.15);\n",
              "      fill: #174EA6;\n",
              "    }\n",
              "\n",
              "    [theme=dark] .colab-df-convert {\n",
              "      background-color: #3B4455;\n",
              "      fill: #D2E3FC;\n",
              "    }\n",
              "\n",
              "    [theme=dark] .colab-df-convert:hover {\n",
              "      background-color: #434B5C;\n",
              "      box-shadow: 0px 1px 3px 1px rgba(0, 0, 0, 0.15);\n",
              "      filter: drop-shadow(0px 1px 2px rgba(0, 0, 0, 0.3));\n",
              "      fill: #FFFFFF;\n",
              "    }\n",
              "  </style>\n",
              "\n",
              "      <script>\n",
              "        const buttonEl =\n",
              "          document.querySelector('#df-0f1d2c69-c4fa-4373-9625-e0f762f43170 button.colab-df-convert');\n",
              "        buttonEl.style.display =\n",
              "          google.colab.kernel.accessAllowed ? 'block' : 'none';\n",
              "\n",
              "        async function convertToInteractive(key) {\n",
              "          const element = document.querySelector('#df-0f1d2c69-c4fa-4373-9625-e0f762f43170');\n",
              "          const dataTable =\n",
              "            await google.colab.kernel.invokeFunction('convertToInteractive',\n",
              "                                                     [key], {});\n",
              "          if (!dataTable) return;\n",
              "\n",
              "          const docLinkHtml = 'Like what you see? Visit the ' +\n",
              "            '<a target=\"_blank\" href=https://colab.research.google.com/notebooks/data_table.ipynb>data table notebook</a>'\n",
              "            + ' to learn more about interactive tables.';\n",
              "          element.innerHTML = '';\n",
              "          dataTable['output_type'] = 'display_data';\n",
              "          await google.colab.output.renderOutput(dataTable, element);\n",
              "          const docLink = document.createElement('div');\n",
              "          docLink.innerHTML = docLinkHtml;\n",
              "          element.appendChild(docLink);\n",
              "        }\n",
              "      </script>\n",
              "    </div>\n",
              "  </div>\n",
              "  "
            ]
          },
          "metadata": {},
          "execution_count": 19
        }
      ]
    },
    {
      "cell_type": "code",
      "source": [
        "plt.figure(figsize=(20,10))\n",
        "sns.barplot(x='Nivel',\n",
        "            y='Salario Medio',\n",
        "            hue='Genero',\n",
        "            data=tmp,\n",
        "            order=['Júnior', 'Pleno', 'Sênior', 'Gestor'],\n",
        "            palette='inferno',\n",
        "            hue_order=['Masculino', 'Feminino', 'Outro']);"
      ],
      "metadata": {
        "colab": {
          "base_uri": "https://localhost:8080/",
          "height": 606
        },
        "id": "Kc1vj4c6uhah",
        "outputId": "1ecfc247-dd69-4772-efa5-6521954745b5"
      },
      "execution_count": 20,
      "outputs": [
        {
          "output_type": "display_data",
          "data": {
            "text/plain": [
              "<Figure size 1440x720 with 1 Axes>"
            ],
            "image/png": "[encoded data removed]"
          },
          "metadata": {
            "needs_background": "light"
          }
        }
      ]
    },
    {
      "cell_type": "code",
      "source": [
        "tmp = df2.groupby(['Genero', 'Tempo XP em Dados'])['Faixa Salarial_number'].mean()\n",
        "tmp = tmp.reset_index(name='Salario Medio')\n",
        "plt.figure(figsize=(20,10))\n",
        "sns.barplot(x='Tempo XP em Dados',\n",
        "            y='Salario Medio',\n",
        "            hue='Genero',\n",
        "            data=tmp,\n",
        "            order=['Não tenho experiência na área de dados','Menos de 1 ano', 'de 1 a 2 anos',\n",
        "       'de 2 a 3 anos', 'de 4 a 5 anos', 'de 6 a 10 anos', 'Mais de 10 anos'],\n",
        "            hue_order=['Masculino', 'Feminino', 'Outro'],\n",
        "            palette='inferno');"
      ],
      "metadata": {
        "colab": {
          "base_uri": "https://localhost:8080/",
          "height": 606
        },
        "id": "ERjbSQtzupv4",
        "outputId": "40a7b9fe-f05a-4970-e123-ae29b161d8dc"
      },
      "execution_count": 21,
      "outputs": [
        {
          "output_type": "display_data",
          "data": {
            "text/plain": [
              "<Figure size 1440x720 with 1 Axes>"
            ],
            "image/png": "[encoded data removed]"
          },
          "metadata": {
            "needs_background": "light"
          }
        }
      ]
    },
    {
      "cell_type": "markdown",
      "source": [
        "## Verificando a diferença de salário com relação a gestão"
      ],
      "metadata": {
        "id": "kq0wfFw5vfrJ"
      }
    },
    {
      "cell_type": "code",
      "source": [
        "genre_manager = df.groupby(['Genero', 'Cargo como Gestor(a)'])['Faixa Salarial_number'].mean()"
      ],
      "metadata": {
        "id": "ojTRbwXaxmL_"
      },
      "execution_count": 22,
      "outputs": []
    },
    {
      "cell_type": "code",
      "source": [
        "genre_manager = genre_manager.reset_index(name='Salario Medio')\n",
        "genre_manager.head(10)"
      ],
      "metadata": {
        "colab": {
          "base_uri": "https://localhost:8080/",
          "height": 300
        },
        "id": "sKBbXdIlx6Te",
        "outputId": "8a4b3013-0fce-4e40-e76b-eeeeee4d7b19"
      },
      "execution_count": 23,
      "outputs": [
        {
          "output_type": "execute_result",
          "data": {
            "text/plain": [
              "      Genero                       Cargo como Gestor(a)  Salario Medio\n",
              "0   Feminino                    Gerente/Head/Diretor/VP   20000.000000\n",
              "1   Feminino                     Supervisor/Coordenador   13300.000000\n",
              "2   Feminino  Sócio ou C-level (CEO, CDO, CIO, CTO etc)   19857.142857\n",
              "3   Feminino                    Team Leader/Tech Leader    9933.333333\n",
              "4  Masculino                    Gerente/Head/Diretor/VP   20947.368421\n",
              "5  Masculino                     Supervisor/Coordenador   12724.770642\n",
              "6  Masculino  Sócio ou C-level (CEO, CDO, CIO, CTO etc)   17390.625000\n",
              "7  Masculino                    Team Leader/Tech Leader   14917.525773"
            ],
            "text/html": [
              "\n",
              "  <div id=\"df-ad01bfae-bad6-45ec-90e9-abf901fe7688\">\n",
              "    <div class=\"colab-df-container\">\n",
              "      <div>\n",
              "<style scoped>\n",
              "    .dataframe tbody tr th:only-of-type {\n",
              "        vertical-align: middle;\n",
              "    }\n",
              "\n",
              "    .dataframe tbody tr th {\n",
              "        vertical-align: top;\n",
              "    }\n",
              "\n",
              "    .dataframe thead th {\n",
              "        text-align: right;\n",
              "    }\n",
              "</style>\n",
              "<table border=\"1\" class=\"dataframe\">\n",
              "  <thead>\n",
              "    <tr style=\"text-align: right;\">\n",
              "      <th></th>\n",
              "      <th>Genero</th>\n",
              "      <th>Cargo como Gestor(a)</th>\n",
              "      <th>Salario Medio</th>\n",
              "    </tr>\n",
              "  </thead>\n",
              "  <tbody>\n",
              "    <tr>\n",
              "      <th>0</th>\n",
              "      <td>Feminino</td>\n",
              "      <td>Gerente/Head/Diretor/VP</td>\n",
              "      <td>20000.000000</td>\n",
              "    </tr>\n",
              "    <tr>\n",
              "      <th>1</th>\n",
              "      <td>Feminino</td>\n",
              "      <td>Supervisor/Coordenador</td>\n",
              "      <td>13300.000000</td>\n",
              "    </tr>\n",
              "    <tr>\n",
              "      <th>2</th>\n",
              "      <td>Feminino</td>\n",
              "      <td>Sócio ou C-level (CEO, CDO, CIO, CTO etc)</td>\n",
              "      <td>19857.142857</td>\n",
              "    </tr>\n",
              "    <tr>\n",
              "      <th>3</th>\n",
              "      <td>Feminino</td>\n",
              "      <td>Team Leader/Tech Leader</td>\n",
              "      <td>9933.333333</td>\n",
              "    </tr>\n",
              "    <tr>\n",
              "      <th>4</th>\n",
              "      <td>Masculino</td>\n",
              "      <td>Gerente/Head/Diretor/VP</td>\n",
              "      <td>20947.368421</td>\n",
              "    </tr>\n",
              "    <tr>\n",
              "      <th>5</th>\n",
              "      <td>Masculino</td>\n",
              "      <td>Supervisor/Coordenador</td>\n",
              "      <td>12724.770642</td>\n",
              "    </tr>\n",
              "    <tr>\n",
              "      <th>6</th>\n",
              "      <td>Masculino</td>\n",
              "      <td>Sócio ou C-level (CEO, CDO, CIO, CTO etc)</td>\n",
              "      <td>17390.625000</td>\n",
              "    </tr>\n",
              "    <tr>\n",
              "      <th>7</th>\n",
              "      <td>Masculino</td>\n",
              "      <td>Team Leader/Tech Leader</td>\n",
              "      <td>14917.525773</td>\n",
              "    </tr>\n",
              "  </tbody>\n",
              "</table>\n",
              "</div>\n",
              "      <button class=\"colab-df-convert\" onclick=\"convertToInteractive('df-ad01bfae-bad6-45ec-90e9-abf901fe7688')\"\n",
              "              title=\"Convert this dataframe to an interactive table.\"\n",
              "              style=\"display:none;\">\n",
              "        \n",
              "  <svg xmlns=\"http://www.w3.org/2000/svg\" height=\"24px\"viewBox=\"0 0 24 24\"\n",
              "       width=\"24px\">\n",
              "    <path d=\"M0 0h24v24H0V0z\" fill=\"none\"/>\n",
              "    <path d=\"M18.56 5.44l.94 2.06.94-2.06 2.06-.94-2.06-.94-.94-2.06-.94 2.06-2.06.94zm-11 1L8.5 8.5l.94-2.06 2.06-.94-2.06-.94L8.5 2.5l-.94 2.06-2.06.94zm10 10l.94 2.06.94-2.06 2.06-.94-2.06-.94-.94-2.06-.94 2.06-2.06.94z\"/><path d=\"M17.41 7.96l-1.37-1.37c-.4-.4-.92-.59-1.43-.59-.52 0-1.04.2-1.43.59L10.3 9.45l-7.72 7.72c-.78.78-.78 2.05 0 2.83L4 21.41c.39.39.9.59 1.41.59.51 0 1.02-.2 1.41-.59l7.78-7.78 2.81-2.81c.8-.78.8-2.07 0-2.86zM5.41 20L4 18.59l7.72-7.72 1.47 1.35L5.41 20z\"/>\n",
              "  </svg>\n",
              "      </button>\n",
              "      \n",
              "  <style>\n",
              "    .colab-df-container {\n",
              "      display:flex;\n",
              "      flex-wrap:wrap;\n",
              "      gap: 12px;\n",
              "    }\n",
              "\n",
              "    .colab-df-convert {\n",
              "      background-color: #E8F0FE;\n",
              "      border: none;\n",
              "      border-radius: 50%;\n",
              "      cursor: pointer;\n",
              "      display: none;\n",
              "      fill: #1967D2;\n",
              "      height: 32px;\n",
              "      padding: 0 0 0 0;\n",
              "      width: 32px;\n",
              "    }\n",
              "\n",
              "    .colab-df-convert:hover {\n",
              "      background-color: #E2EBFA;\n",
              "      box-shadow: 0px 1px 2px rgba(60, 64, 67, 0.3), 0px 1px 3px 1px rgba(60, 64, 67, 0.15);\n",
              "      fill: #174EA6;\n",
              "    }\n",
              "\n",
              "    [theme=dark] .colab-df-convert {\n",
              "      background-color: #3B4455;\n",
              "      fill: #D2E3FC;\n",
              "    }\n",
              "\n",
              "    [theme=dark] .colab-df-convert:hover {\n",
              "      background-color: #434B5C;\n",
              "      box-shadow: 0px 1px 3px 1px rgba(0, 0, 0, 0.15);\n",
              "      filter: drop-shadow(0px 1px 2px rgba(0, 0, 0, 0.3));\n",
              "      fill: #FFFFFF;\n",
              "    }\n",
              "  </style>\n",
              "\n",
              "      <script>\n",
              "        const buttonEl =\n",
              "          document.querySelector('#df-ad01bfae-bad6-45ec-90e9-abf901fe7688 button.colab-df-convert');\n",
              "        buttonEl.style.display =\n",
              "          google.colab.kernel.accessAllowed ? 'block' : 'none';\n",
              "\n",
              "        async function convertToInteractive(key) {\n",
              "          const element = document.querySelector('#df-ad01bfae-bad6-45ec-90e9-abf901fe7688');\n",
              "          const dataTable =\n",
              "            await google.colab.kernel.invokeFunction('convertToInteractive',\n",
              "                                                     [key], {});\n",
              "          if (!dataTable) return;\n",
              "\n",
              "          const docLinkHtml = 'Like what you see? Visit the ' +\n",
              "            '<a target=\"_blank\" href=https://colab.research.google.com/notebooks/data_table.ipynb>data table notebook</a>'\n",
              "            + ' to learn more about interactive tables.';\n",
              "          element.innerHTML = '';\n",
              "          dataTable['output_type'] = 'display_data';\n",
              "          await google.colab.output.renderOutput(dataTable, element);\n",
              "          const docLink = document.createElement('div');\n",
              "          docLink.innerHTML = docLinkHtml;\n",
              "          element.appendChild(docLink);\n",
              "        }\n",
              "      </script>\n",
              "    </div>\n",
              "  </div>\n",
              "  "
            ]
          },
          "metadata": {},
          "execution_count": 23
        }
      ]
    },
    {
      "cell_type": "code",
      "source": [
        "plt.figure(figsize=(20,10))\n",
        "sns.barplot(x='Salario Medio',\n",
        "            y='Cargo como Gestor(a)',\n",
        "            hue='Genero',\n",
        "            data=genre_manager,\n",
        "            palette='inferno',\n",
        "            hue_order=['Masculino', 'Feminino', 'Outro']);"
      ],
      "metadata": {
        "colab": {
          "base_uri": "https://localhost:8080/",
          "height": 556
        },
        "id": "5N_viMmfwWir",
        "outputId": "613ab216-f94a-4c99-ad3b-bd2e117c2084"
      },
      "execution_count": 24,
      "outputs": [
        {
          "output_type": "display_data",
          "data": {
            "text/plain": [
              "<Figure size 1440x720 with 1 Axes>"
            ],
            "image/png": "[encoded data removed]"
          },
          "metadata": {
            "needs_background": "light"
          }
        }
      ]
    },
    {
      "cell_type": "markdown",
      "source": [
        "## Verificando a diferença dos gêneros por formação"
      ],
      "metadata": {
        "id": "G5jhxVcKxdcC"
      }
    },
    {
      "cell_type": "code",
      "source": [
        "genre_training_area = df.groupby(['Genero', 'Nivel Ensino'])['Area Formacao'].value_counts()\n",
        "genre_training_area.head()"
      ],
      "metadata": {
        "colab": {
          "base_uri": "https://localhost:8080/"
        },
        "id": "x87WctD2zOWr",
        "outputId": "9b3f4452-5cba-46e2-f990-70b998ea629a"
      },
      "execution_count": 25,
      "outputs": [
        {
          "output_type": "execute_result",
          "data": {
            "text/plain": [
              "Genero    Nivel Ensino      Area Formacao                                                   \n",
              "Feminino  Doutorado ou Phd  Computação / Engenharia de Software / Sistemas de Informação/ TI    6\n",
              "                            Ciências Biológicas/Farmácia/Medicina/Área da Saúde                 5\n",
              "                            Estatística/ Matemática / Matemática Computacional                  4\n",
              "                            Outras Engenharias                                                  2\n",
              "                            Química / Física                                                    1\n",
              "Name: Area Formacao, dtype: int64"
            ]
          },
          "metadata": {},
          "execution_count": 25
        }
      ]
    },
    {
      "cell_type": "code",
      "source": [
        "genre_training_area = genre_training_area.reset_index(name='total')\n",
        "genre_training_area.head()"
      ],
      "metadata": {
        "colab": {
          "base_uri": "https://localhost:8080/",
          "height": 206
        },
        "id": "TZDTSuPE0EFn",
        "outputId": "b70b6c59-5787-4da9-90b7-e8d7a294f23e"
      },
      "execution_count": 26,
      "outputs": [
        {
          "output_type": "execute_result",
          "data": {
            "text/plain": [
              "     Genero      Nivel Ensino  \\\n",
              "0  Feminino  Doutorado ou Phd   \n",
              "1  Feminino  Doutorado ou Phd   \n",
              "2  Feminino  Doutorado ou Phd   \n",
              "3  Feminino  Doutorado ou Phd   \n",
              "4  Feminino  Doutorado ou Phd   \n",
              "\n",
              "                                       Area Formacao  total  \n",
              "0  Computação / Engenharia de Software / Sistemas...      6  \n",
              "1  Ciências Biológicas/Farmácia/Medicina/Área da ...      5  \n",
              "2  Estatística/ Matemática / Matemática Computaci...      4  \n",
              "3                                 Outras Engenharias      2  \n",
              "4                                   Química / Física      1  "
            ],
            "text/html": [
              "\n",
              "  <div id=\"df-7f0ded6d-c3c5-4a6d-82e7-c39f99345924\">\n",
              "    <div class=\"colab-df-container\">\n",
              "      <div>\n",
              "<style scoped>\n",
              "    .dataframe tbody tr th:only-of-type {\n",
              "        vertical-align: middle;\n",
              "    }\n",
              "\n",
              "    .dataframe tbody tr th {\n",
              "        vertical-align: top;\n",
              "    }\n",
              "\n",
              "    .dataframe thead th {\n",
              "        text-align: right;\n",
              "    }\n",
              "</style>\n",
              "<table border=\"1\" class=\"dataframe\">\n",
              "  <thead>\n",
              "    <tr style=\"text-align: right;\">\n",
              "      <th></th>\n",
              "      <th>Genero</th>\n",
              "      <th>Nivel Ensino</th>\n",
              "      <th>Area Formacao</th>\n",
              "      <th>total</th>\n",
              "    </tr>\n",
              "  </thead>\n",
              "  <tbody>\n",
              "    <tr>\n",
              "      <th>0</th>\n",
              "      <td>Feminino</td>\n",
              "      <td>Doutorado ou Phd</td>\n",
              "      <td>Computação / Engenharia de Software / Sistemas...</td>\n",
              "      <td>6</td>\n",
              "    </tr>\n",
              "    <tr>\n",
              "      <th>1</th>\n",
              "      <td>Feminino</td>\n",
              "      <td>Doutorado ou Phd</td>\n",
              "      <td>Ciências Biológicas/Farmácia/Medicina/Área da ...</td>\n",
              "      <td>5</td>\n",
              "    </tr>\n",
              "    <tr>\n",
              "      <th>2</th>\n",
              "      <td>Feminino</td>\n",
              "      <td>Doutorado ou Phd</td>\n",
              "      <td>Estatística/ Matemática / Matemática Computaci...</td>\n",
              "      <td>4</td>\n",
              "    </tr>\n",
              "    <tr>\n",
              "      <th>3</th>\n",
              "      <td>Feminino</td>\n",
              "      <td>Doutorado ou Phd</td>\n",
              "      <td>Outras Engenharias</td>\n",
              "      <td>2</td>\n",
              "    </tr>\n",
              "    <tr>\n",
              "      <th>4</th>\n",
              "      <td>Feminino</td>\n",
              "      <td>Doutorado ou Phd</td>\n",
              "      <td>Química / Física</td>\n",
              "      <td>1</td>\n",
              "    </tr>\n",
              "  </tbody>\n",
              "</table>\n",
              "</div>\n",
              "      <button class=\"colab-df-convert\" onclick=\"convertToInteractive('df-7f0ded6d-c3c5-4a6d-82e7-c39f99345924')\"\n",
              "              title=\"Convert this dataframe to an interactive table.\"\n",
              "              style=\"display:none;\">\n",
              "        \n",
              "  <svg xmlns=\"http://www.w3.org/2000/svg\" height=\"24px\"viewBox=\"0 0 24 24\"\n",
              "       width=\"24px\">\n",
              "    <path d=\"M0 0h24v24H0V0z\" fill=\"none\"/>\n",
              "    <path d=\"M18.56 5.44l.94 2.06.94-2.06 2.06-.94-2.06-.94-.94-2.06-.94 2.06-2.06.94zm-11 1L8.5 8.5l.94-2.06 2.06-.94-2.06-.94L8.5 2.5l-.94 2.06-2.06.94zm10 10l.94 2.06.94-2.06 2.06-.94-2.06-.94-.94-2.06-.94 2.06-2.06.94z\"/><path d=\"M17.41 7.96l-1.37-1.37c-.4-.4-.92-.59-1.43-.59-.52 0-1.04.2-1.43.59L10.3 9.45l-7.72 7.72c-.78.78-.78 2.05 0 2.83L4 21.41c.39.39.9.59 1.41.59.51 0 1.02-.2 1.41-.59l7.78-7.78 2.81-2.81c.8-.78.8-2.07 0-2.86zM5.41 20L4 18.59l7.72-7.72 1.47 1.35L5.41 20z\"/>\n",
              "  </svg>\n",
              "      </button>\n",
              "      \n",
              "  <style>\n",
              "    .colab-df-container {\n",
              "      display:flex;\n",
              "      flex-wrap:wrap;\n",
              "      gap: 12px;\n",
              "    }\n",
              "\n",
              "    .colab-df-convert {\n",
              "      background-color: #E8F0FE;\n",
              "      border: none;\n",
              "      border-radius: 50%;\n",
              "      cursor: pointer;\n",
              "      display: none;\n",
              "      fill: #1967D2;\n",
              "      height: 32px;\n",
              "      padding: 0 0 0 0;\n",
              "      width: 32px;\n",
              "    }\n",
              "\n",
              "    .colab-df-convert:hover {\n",
              "      background-color: #E2EBFA;\n",
              "      box-shadow: 0px 1px 2px rgba(60, 64, 67, 0.3), 0px 1px 3px 1px rgba(60, 64, 67, 0.15);\n",
              "      fill: #174EA6;\n",
              "    }\n",
              "\n",
              "    [theme=dark] .colab-df-convert {\n",
              "      background-color: #3B4455;\n",
              "      fill: #D2E3FC;\n",
              "    }\n",
              "\n",
              "    [theme=dark] .colab-df-convert:hover {\n",
              "      background-color: #434B5C;\n",
              "      box-shadow: 0px 1px 3px 1px rgba(0, 0, 0, 0.15);\n",
              "      filter: drop-shadow(0px 1px 2px rgba(0, 0, 0, 0.3));\n",
              "      fill: #FFFFFF;\n",
              "    }\n",
              "  </style>\n",
              "\n",
              "      <script>\n",
              "        const buttonEl =\n",
              "          document.querySelector('#df-7f0ded6d-c3c5-4a6d-82e7-c39f99345924 button.colab-df-convert');\n",
              "        buttonEl.style.display =\n",
              "          google.colab.kernel.accessAllowed ? 'block' : 'none';\n",
              "\n",
              "        async function convertToInteractive(key) {\n",
              "          const element = document.querySelector('#df-7f0ded6d-c3c5-4a6d-82e7-c39f99345924');\n",
              "          const dataTable =\n",
              "            await google.colab.kernel.invokeFunction('convertToInteractive',\n",
              "                                                     [key], {});\n",
              "          if (!dataTable) return;\n",
              "\n",
              "          const docLinkHtml = 'Like what you see? Visit the ' +\n",
              "            '<a target=\"_blank\" href=https://colab.research.google.com/notebooks/data_table.ipynb>data table notebook</a>'\n",
              "            + ' to learn more about interactive tables.';\n",
              "          element.innerHTML = '';\n",
              "          dataTable['output_type'] = 'display_data';\n",
              "          await google.colab.output.renderOutput(dataTable, element);\n",
              "          const docLink = document.createElement('div');\n",
              "          docLink.innerHTML = docLinkHtml;\n",
              "          element.appendChild(docLink);\n",
              "        }\n",
              "      </script>\n",
              "    </div>\n",
              "  </div>\n",
              "  "
            ]
          },
          "metadata": {},
          "execution_count": 26
        }
      ]
    },
    {
      "cell_type": "code",
      "source": [
        "plt.figure(figsize=(20,10))\n",
        "sns.barplot(x='total',\n",
        "            y='Area Formacao',\n",
        "            hue='Genero',\n",
        "            data=genre_training_area,\n",
        "            hue_order=['Masculino', 'Feminino', 'Outro'],\n",
        "            palette='inferno');"
      ],
      "metadata": {
        "id": "Bq0H73JYxYQe",
        "colab": {
          "base_uri": "https://localhost:8080/",
          "height": 509
        },
        "outputId": "95fc95fb-54e1-42b4-c2cc-1f113a672206"
      },
      "execution_count": 31,
      "outputs": [
        {
          "output_type": "display_data",
          "data": {
            "text/plain": [
              "<Figure size 1440x720 with 1 Axes>"
            ],
            "image/png": "[encoded data removed]"
          },
          "metadata": {
            "needs_background": "light"
          }
        }
      ]
    }
  ]
}